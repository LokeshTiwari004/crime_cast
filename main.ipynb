{
  "cells": [
    {
      "cell_type": "code",
      "execution_count": 1,
      "id": "8f2d48d9-2f3e-4cf8-a961-d0a1d70c2ce1",
      "metadata": {
        "colab": {
          "base_uri": "https://localhost:8080/"
        },
        "id": "8f2d48d9-2f3e-4cf8-a961-d0a1d70c2ce1",
        "outputId": "cc66270d-3af8-4f9f-a5a2-57bd31b37f76"
      },
      "outputs": [
        {
          "output_type": "execute_result",
          "data": {
            "text/plain": [
              "'1.5.1'"
            ]
          },
          "metadata": {},
          "execution_count": 1
        }
      ],
      "source": [
        "import numpy as np\n",
        "import pandas as pd\n",
        "import math\n",
        "import matplotlib.pyplot as plt\n",
        "from sklearn.model_selection import train_test_split\n",
        "from sklearn.pipeline import Pipeline\n",
        "from sklearn.compose import ColumnTransformer\n",
        "from sklearn.pipeline import Pipeline, make_pipeline\n",
        "from sklearn.impute import SimpleImputer\n",
        "from sklearn.naive_bayes import GaussianNB\n",
        "from sklearn.preprocessing import LabelBinarizer, KBinsDiscretizer, OneHotEncoder, OrdinalEncoder, MultiLabelBinarizer, MinMaxScaler, FunctionTransformer, StandardScaler, LabelEncoder\n",
        "from sklearn.base import BaseEstimator, TransformerMixin\n",
        "from sklearn.ensemble import RandomForestClassifier\n",
        "from sklearn.linear_model import LogisticRegression, SGDClassifier\n",
        "from sklearn.tree import DecisionTreeClassifier\n",
        "from sklearn.ensemble import BaggingClassifier, VotingClassifier\n",
        "from sklearn.pipeline import Pipeline\n",
        "from sklearn.model_selection import GridSearchCV, StratifiedKFold, cross_val_score\n",
        "from sklearn.pipeline import Pipeline\n",
        "from sklearn.model_selection import GridSearchCV, StratifiedKFold\n",
        "from sklearn.metrics import confusion_matrix, precision_score\n",
        "import warnings\n",
        "warnings.filterwarnings('ignore')\n",
        "from sklearn import __version__\n",
        "__version__"
      ]
    },
    {
      "cell_type": "markdown",
      "id": "2b7aca7a-d6b6-4295-9fb5-dd763f6e5319",
      "metadata": {
        "id": "2b7aca7a-d6b6-4295-9fb5-dd763f6e5319"
      },
      "source": [
        "# EDA"
      ]
    },
    {
      "cell_type": "code",
      "source": [
        "from google.colab import files\n",
        "uploaded = files.upload()\n",
        "\n",
        "for fn in uploaded.keys():\n",
        "  print('User uploaded file \"{name}\" with length {length} bytes'.format(\n",
        "      name=fn, length=len(uploaded[fn])))\n",
        "\n",
        "import io\n",
        "df = pd.read_csv(io.BytesIO(uploaded[fn]))"
      ],
      "metadata": {
        "id": "obBlBz0zDQ9O"
      },
      "id": "obBlBz0zDQ9O",
      "execution_count": 2,
      "outputs": []
    },
    {
      "cell_type": "markdown",
      "source": [
        "### for local runtime"
      ],
      "metadata": {
        "id": "XnCROEQrRoOT"
      },
      "id": "XnCROEQrRoOT"
    },
    {
      "cell_type": "code",
      "source": [
        "!ls"
      ],
      "metadata": {
        "colab": {
          "base_uri": "https://localhost:8080/"
        },
        "id": "jmU3_LijRxPu",
        "outputId": "a7c71bb1-fe51-42ca-9ce7-5a7016ffce9e"
      },
      "id": "jmU3_LijRxPu",
      "execution_count": 3,
      "outputs": [
        {
          "output_type": "stream",
          "name": "stdout",
          "text": [
            "crime-cast-forecasting-crime-categories.zip  data  main.ipynb  submission.csv\r\n"
          ]
        }
      ]
    },
    {
      "cell_type": "code",
      "source": [
        "df = pd.read_csv('data/train.csv')"
      ],
      "metadata": {
        "id": "ALPDAI3XRnlH"
      },
      "id": "ALPDAI3XRnlH",
      "execution_count": 4,
      "outputs": []
    },
    {
      "cell_type": "code",
      "source": [
        "df.head()"
      ],
      "metadata": {
        "id": "m7fkpTAN3CSz",
        "outputId": "9b3fa361-f525-4ec3-e7f2-cfa6080d78b2",
        "colab": {
          "base_uri": "https://localhost:8080/",
          "height": 429
        }
      },
      "id": "m7fkpTAN3CSz",
      "execution_count": 5,
      "outputs": [
        {
          "output_type": "execute_result",
          "data": {
            "text/plain": [
              "                                   Location                     Cross_Street  \\\n",
              "0   4500    CARPENTER                    AV                              NaN   \n",
              "1           45TH                         ST  ALAMEDA                      ST   \n",
              "2    600 E  MARTIN LUTHER KING JR        BL                              NaN   \n",
              "3  14900    ORO GRANDE                   ST                              NaN   \n",
              "4   7100 S  VERMONT                      AV                              NaN   \n",
              "\n",
              "   Latitude  Longitude           Date_Reported           Date_Occurred  \\\n",
              "0   34.1522  -118.3910  03/09/2020 12:00:00 AM  03/06/2020 12:00:00 AM   \n",
              "1   34.0028  -118.2391  02/27/2020 12:00:00 AM  02/27/2020 12:00:00 AM   \n",
              "2   34.0111  -118.2653  08/21/2020 12:00:00 AM  08/21/2020 12:00:00 AM   \n",
              "3   34.2953  -118.4590  11/08/2020 12:00:00 AM  11/06/2020 12:00:00 AM   \n",
              "4   33.9787  -118.2918  02/25/2020 12:00:00 AM  02/25/2020 12:00:00 AM   \n",
              "\n",
              "   Time_Occurred  Area_ID    Area_Name  Reporting_District_no  ...  \\\n",
              "0         1800.0     15.0  N Hollywood                 1563.0  ...   \n",
              "1         1345.0     13.0       Newton                 1367.0  ...   \n",
              "2          605.0     13.0       Newton                 1343.0  ...   \n",
              "3         1800.0     19.0      Mission                 1924.0  ...   \n",
              "4         1130.0     12.0  77th Street                 1245.0  ...   \n",
              "\n",
              "   Victim_Age Victim_Sex  Victim_Descent Premise_Code     Premise_Description  \\\n",
              "0        75.0          M               W        101.0                  STREET   \n",
              "1        41.0          M               H        216.0               SWAP MEET   \n",
              "2        67.0          M               B        501.0  SINGLE FAMILY DWELLING   \n",
              "3        61.0          M               H        101.0                  STREET   \n",
              "4         0.0          X               X        401.0               MINI-MART   \n",
              "\n",
              "   Weapon_Used_Code                              Weapon_Description  Status  \\\n",
              "0               NaN                                             NaN      IC   \n",
              "1             400.0  STRONG-ARM (HANDS, FIST, FEET OR BODILY FORCE)      IC   \n",
              "2               NaN                                             NaN      IC   \n",
              "3               NaN                                             NaN      IC   \n",
              "4             400.0  STRONG-ARM (HANDS, FIST, FEET OR BODILY FORCE)      IC   \n",
              "\n",
              "  Status_Description   Crime_Category  \n",
              "0        Invest Cont  Property Crimes  \n",
              "1        Invest Cont  Property Crimes  \n",
              "2        Invest Cont  Property Crimes  \n",
              "3        Invest Cont  Property Crimes  \n",
              "4        Invest Cont  Property Crimes  \n",
              "\n",
              "[5 rows x 22 columns]"
            ],
            "text/html": [
              "<div>\n",
              "<style scoped>\n",
              "    .dataframe tbody tr th:only-of-type {\n",
              "        vertical-align: middle;\n",
              "    }\n",
              "\n",
              "    .dataframe tbody tr th {\n",
              "        vertical-align: top;\n",
              "    }\n",
              "\n",
              "    .dataframe thead th {\n",
              "        text-align: right;\n",
              "    }\n",
              "</style>\n",
              "<table border=\"1\" class=\"dataframe\">\n",
              "  <thead>\n",
              "    <tr style=\"text-align: right;\">\n",
              "      <th></th>\n",
              "      <th>Location</th>\n",
              "      <th>Cross_Street</th>\n",
              "      <th>Latitude</th>\n",
              "      <th>Longitude</th>\n",
              "      <th>Date_Reported</th>\n",
              "      <th>Date_Occurred</th>\n",
              "      <th>Time_Occurred</th>\n",
              "      <th>Area_ID</th>\n",
              "      <th>Area_Name</th>\n",
              "      <th>Reporting_District_no</th>\n",
              "      <th>...</th>\n",
              "      <th>Victim_Age</th>\n",
              "      <th>Victim_Sex</th>\n",
              "      <th>Victim_Descent</th>\n",
              "      <th>Premise_Code</th>\n",
              "      <th>Premise_Description</th>\n",
              "      <th>Weapon_Used_Code</th>\n",
              "      <th>Weapon_Description</th>\n",
              "      <th>Status</th>\n",
              "      <th>Status_Description</th>\n",
              "      <th>Crime_Category</th>\n",
              "    </tr>\n",
              "  </thead>\n",
              "  <tbody>\n",
              "    <tr>\n",
              "      <th>0</th>\n",
              "      <td>4500    CARPENTER                    AV</td>\n",
              "      <td>NaN</td>\n",
              "      <td>34.1522</td>\n",
              "      <td>-118.3910</td>\n",
              "      <td>03/09/2020 12:00:00 AM</td>\n",
              "      <td>03/06/2020 12:00:00 AM</td>\n",
              "      <td>1800.0</td>\n",
              "      <td>15.0</td>\n",
              "      <td>N Hollywood</td>\n",
              "      <td>1563.0</td>\n",
              "      <td>...</td>\n",
              "      <td>75.0</td>\n",
              "      <td>M</td>\n",
              "      <td>W</td>\n",
              "      <td>101.0</td>\n",
              "      <td>STREET</td>\n",
              "      <td>NaN</td>\n",
              "      <td>NaN</td>\n",
              "      <td>IC</td>\n",
              "      <td>Invest Cont</td>\n",
              "      <td>Property Crimes</td>\n",
              "    </tr>\n",
              "    <tr>\n",
              "      <th>1</th>\n",
              "      <td>45TH                         ST</td>\n",
              "      <td>ALAMEDA                      ST</td>\n",
              "      <td>34.0028</td>\n",
              "      <td>-118.2391</td>\n",
              "      <td>02/27/2020 12:00:00 AM</td>\n",
              "      <td>02/27/2020 12:00:00 AM</td>\n",
              "      <td>1345.0</td>\n",
              "      <td>13.0</td>\n",
              "      <td>Newton</td>\n",
              "      <td>1367.0</td>\n",
              "      <td>...</td>\n",
              "      <td>41.0</td>\n",
              "      <td>M</td>\n",
              "      <td>H</td>\n",
              "      <td>216.0</td>\n",
              "      <td>SWAP MEET</td>\n",
              "      <td>400.0</td>\n",
              "      <td>STRONG-ARM (HANDS, FIST, FEET OR BODILY FORCE)</td>\n",
              "      <td>IC</td>\n",
              "      <td>Invest Cont</td>\n",
              "      <td>Property Crimes</td>\n",
              "    </tr>\n",
              "    <tr>\n",
              "      <th>2</th>\n",
              "      <td>600 E  MARTIN LUTHER KING JR        BL</td>\n",
              "      <td>NaN</td>\n",
              "      <td>34.0111</td>\n",
              "      <td>-118.2653</td>\n",
              "      <td>08/21/2020 12:00:00 AM</td>\n",
              "      <td>08/21/2020 12:00:00 AM</td>\n",
              "      <td>605.0</td>\n",
              "      <td>13.0</td>\n",
              "      <td>Newton</td>\n",
              "      <td>1343.0</td>\n",
              "      <td>...</td>\n",
              "      <td>67.0</td>\n",
              "      <td>M</td>\n",
              "      <td>B</td>\n",
              "      <td>501.0</td>\n",
              "      <td>SINGLE FAMILY DWELLING</td>\n",
              "      <td>NaN</td>\n",
              "      <td>NaN</td>\n",
              "      <td>IC</td>\n",
              "      <td>Invest Cont</td>\n",
              "      <td>Property Crimes</td>\n",
              "    </tr>\n",
              "    <tr>\n",
              "      <th>3</th>\n",
              "      <td>14900    ORO GRANDE                   ST</td>\n",
              "      <td>NaN</td>\n",
              "      <td>34.2953</td>\n",
              "      <td>-118.4590</td>\n",
              "      <td>11/08/2020 12:00:00 AM</td>\n",
              "      <td>11/06/2020 12:00:00 AM</td>\n",
              "      <td>1800.0</td>\n",
              "      <td>19.0</td>\n",
              "      <td>Mission</td>\n",
              "      <td>1924.0</td>\n",
              "      <td>...</td>\n",
              "      <td>61.0</td>\n",
              "      <td>M</td>\n",
              "      <td>H</td>\n",
              "      <td>101.0</td>\n",
              "      <td>STREET</td>\n",
              "      <td>NaN</td>\n",
              "      <td>NaN</td>\n",
              "      <td>IC</td>\n",
              "      <td>Invest Cont</td>\n",
              "      <td>Property Crimes</td>\n",
              "    </tr>\n",
              "    <tr>\n",
              "      <th>4</th>\n",
              "      <td>7100 S  VERMONT                      AV</td>\n",
              "      <td>NaN</td>\n",
              "      <td>33.9787</td>\n",
              "      <td>-118.2918</td>\n",
              "      <td>02/25/2020 12:00:00 AM</td>\n",
              "      <td>02/25/2020 12:00:00 AM</td>\n",
              "      <td>1130.0</td>\n",
              "      <td>12.0</td>\n",
              "      <td>77th Street</td>\n",
              "      <td>1245.0</td>\n",
              "      <td>...</td>\n",
              "      <td>0.0</td>\n",
              "      <td>X</td>\n",
              "      <td>X</td>\n",
              "      <td>401.0</td>\n",
              "      <td>MINI-MART</td>\n",
              "      <td>400.0</td>\n",
              "      <td>STRONG-ARM (HANDS, FIST, FEET OR BODILY FORCE)</td>\n",
              "      <td>IC</td>\n",
              "      <td>Invest Cont</td>\n",
              "      <td>Property Crimes</td>\n",
              "    </tr>\n",
              "  </tbody>\n",
              "</table>\n",
              "<p>5 rows × 22 columns</p>\n",
              "</div>"
            ]
          },
          "metadata": {},
          "execution_count": 5
        }
      ]
    },
    {
      "cell_type": "code",
      "source": [
        "df.Victim_Age[(df.Victim_Age <= 0)]"
      ],
      "metadata": {
        "id": "72EYVYWS4Yvr",
        "outputId": "f7839860-6d39-467d-f66e-e9a8d97170df",
        "colab": {
          "base_uri": "https://localhost:8080/"
        }
      },
      "id": "72EYVYWS4Yvr",
      "execution_count": 23,
      "outputs": [
        {
          "output_type": "execute_result",
          "data": {
            "text/plain": [
              "4        0.0\n",
              "6        0.0\n",
              "8        0.0\n",
              "12       0.0\n",
              "15       0.0\n",
              "        ... \n",
              "19989    0.0\n",
              "19991    0.0\n",
              "19993    0.0\n",
              "19996    0.0\n",
              "19999    0.0\n",
              "Name: Victim_Age, Length: 4834, dtype: float64"
            ]
          },
          "metadata": {},
          "execution_count": 23
        }
      ]
    },
    {
      "cell_type": "code",
      "source": [
        "len(df.columns)"
      ],
      "metadata": {
        "colab": {
          "base_uri": "https://localhost:8080/"
        },
        "id": "xEeuJ68CV7LE",
        "outputId": "6f121473-af06-4d70-834b-0035da93ad21"
      },
      "id": "xEeuJ68CV7LE",
      "execution_count": 6,
      "outputs": [
        {
          "output_type": "execute_result",
          "data": {
            "text/plain": [
              "22"
            ]
          },
          "metadata": {},
          "execution_count": 6
        }
      ]
    },
    {
      "cell_type": "code",
      "source": [
        "df.info()"
      ],
      "metadata": {
        "id": "M5mUWkujmW8a",
        "outputId": "d426d336-8f3a-41ca-ebce-b465e5db5dfe",
        "colab": {
          "base_uri": "https://localhost:8080/"
        }
      },
      "id": "M5mUWkujmW8a",
      "execution_count": 8,
      "outputs": [
        {
          "output_type": "stream",
          "name": "stdout",
          "text": [
            "<class 'pandas.core.frame.DataFrame'>\n",
            "RangeIndex: 20000 entries, 0 to 19999\n",
            "Data columns (total 22 columns):\n",
            " #   Column                 Non-Null Count  Dtype  \n",
            "---  ------                 --------------  -----  \n",
            " 0   Location               20000 non-null  object \n",
            " 1   Cross_Street           3448 non-null   object \n",
            " 2   Latitude               20000 non-null  float64\n",
            " 3   Longitude              20000 non-null  float64\n",
            " 4   Date_Reported          20000 non-null  object \n",
            " 5   Date_Occurred          20000 non-null  object \n",
            " 6   Time_Occurred          20000 non-null  float64\n",
            " 7   Area_ID                20000 non-null  float64\n",
            " 8   Area_Name              20000 non-null  object \n",
            " 9   Reporting_District_no  20000 non-null  float64\n",
            " 10  Part 1-2               20000 non-null  float64\n",
            " 11  Modus_Operandi         17259 non-null  object \n",
            " 12  Victim_Age             20000 non-null  float64\n",
            " 13  Victim_Sex             17376 non-null  object \n",
            " 14  Victim_Descent         17376 non-null  object \n",
            " 15  Premise_Code           20000 non-null  float64\n",
            " 16  Premise_Description    19995 non-null  object \n",
            " 17  Weapon_Used_Code       7335 non-null   float64\n",
            " 18  Weapon_Description     7335 non-null   object \n",
            " 19  Status                 20000 non-null  object \n",
            " 20  Status_Description     20000 non-null  object \n",
            " 21  Crime_Category         20000 non-null  object \n",
            "dtypes: float64(9), object(13)\n",
            "memory usage: 3.4+ MB\n"
          ]
        }
      ]
    },
    {
      "cell_type": "code",
      "execution_count": 11,
      "id": "e4292486-53d5-49ca-8687-3b8c972913e3",
      "metadata": {
        "id": "e4292486-53d5-49ca-8687-3b8c972913e3",
        "outputId": "a416ea25-396f-4e63-cb3f-8e27fca19dd2",
        "colab": {
          "base_uri": "https://localhost:8080/",
          "height": 300
        }
      },
      "outputs": [
        {
          "output_type": "execute_result",
          "data": {
            "text/plain": [
              "           Latitude     Longitude  Time_Occurred       Area_ID  \\\n",
              "count  20000.000000  20000.000000   20000.000000  20000.000000   \n",
              "mean      33.940704   -117.893072    1352.380350     10.834250   \n",
              "std        2.126810      7.377726     646.100291      6.033166   \n",
              "min        0.000000   -118.663400       1.000000      1.000000   \n",
              "25%       34.009200   -118.429700     930.000000      6.000000   \n",
              "50%       34.058700   -118.323000    1430.000000     11.000000   \n",
              "75%       34.165025   -118.274400    1900.000000     16.000000   \n",
              "max       34.328100      0.000000    2359.000000     21.000000   \n",
              "\n",
              "       Reporting_District_no      Part 1-2    Victim_Age  Premise_Code  \\\n",
              "count           20000.000000  20000.000000  20000.000000  20000.000000   \n",
              "mean             1129.599200      1.418150     30.135000    297.176950   \n",
              "std               603.330519      0.493267     21.863645    212.007298   \n",
              "min               101.000000      1.000000     -2.000000    101.000000   \n",
              "25%               632.000000      1.000000     12.000000    101.000000   \n",
              "50%              1162.000000      1.000000     31.000000    203.000000   \n",
              "75%              1622.000000      2.000000     46.000000    501.000000   \n",
              "max              2197.000000      2.000000     99.000000    969.000000   \n",
              "\n",
              "       Weapon_Used_Code  \n",
              "count       7335.000000  \n",
              "mean         366.405044  \n",
              "std          120.485687  \n",
              "min          101.000000  \n",
              "25%          312.000000  \n",
              "50%          400.000000  \n",
              "75%          400.000000  \n",
              "max          515.000000  "
            ],
            "text/html": [
              "<div>\n",
              "<style scoped>\n",
              "    .dataframe tbody tr th:only-of-type {\n",
              "        vertical-align: middle;\n",
              "    }\n",
              "\n",
              "    .dataframe tbody tr th {\n",
              "        vertical-align: top;\n",
              "    }\n",
              "\n",
              "    .dataframe thead th {\n",
              "        text-align: right;\n",
              "    }\n",
              "</style>\n",
              "<table border=\"1\" class=\"dataframe\">\n",
              "  <thead>\n",
              "    <tr style=\"text-align: right;\">\n",
              "      <th></th>\n",
              "      <th>Latitude</th>\n",
              "      <th>Longitude</th>\n",
              "      <th>Time_Occurred</th>\n",
              "      <th>Area_ID</th>\n",
              "      <th>Reporting_District_no</th>\n",
              "      <th>Part 1-2</th>\n",
              "      <th>Victim_Age</th>\n",
              "      <th>Premise_Code</th>\n",
              "      <th>Weapon_Used_Code</th>\n",
              "    </tr>\n",
              "  </thead>\n",
              "  <tbody>\n",
              "    <tr>\n",
              "      <th>count</th>\n",
              "      <td>20000.000000</td>\n",
              "      <td>20000.000000</td>\n",
              "      <td>20000.000000</td>\n",
              "      <td>20000.000000</td>\n",
              "      <td>20000.000000</td>\n",
              "      <td>20000.000000</td>\n",
              "      <td>20000.000000</td>\n",
              "      <td>20000.000000</td>\n",
              "      <td>7335.000000</td>\n",
              "    </tr>\n",
              "    <tr>\n",
              "      <th>mean</th>\n",
              "      <td>33.940704</td>\n",
              "      <td>-117.893072</td>\n",
              "      <td>1352.380350</td>\n",
              "      <td>10.834250</td>\n",
              "      <td>1129.599200</td>\n",
              "      <td>1.418150</td>\n",
              "      <td>30.135000</td>\n",
              "      <td>297.176950</td>\n",
              "      <td>366.405044</td>\n",
              "    </tr>\n",
              "    <tr>\n",
              "      <th>std</th>\n",
              "      <td>2.126810</td>\n",
              "      <td>7.377726</td>\n",
              "      <td>646.100291</td>\n",
              "      <td>6.033166</td>\n",
              "      <td>603.330519</td>\n",
              "      <td>0.493267</td>\n",
              "      <td>21.863645</td>\n",
              "      <td>212.007298</td>\n",
              "      <td>120.485687</td>\n",
              "    </tr>\n",
              "    <tr>\n",
              "      <th>min</th>\n",
              "      <td>0.000000</td>\n",
              "      <td>-118.663400</td>\n",
              "      <td>1.000000</td>\n",
              "      <td>1.000000</td>\n",
              "      <td>101.000000</td>\n",
              "      <td>1.000000</td>\n",
              "      <td>-2.000000</td>\n",
              "      <td>101.000000</td>\n",
              "      <td>101.000000</td>\n",
              "    </tr>\n",
              "    <tr>\n",
              "      <th>25%</th>\n",
              "      <td>34.009200</td>\n",
              "      <td>-118.429700</td>\n",
              "      <td>930.000000</td>\n",
              "      <td>6.000000</td>\n",
              "      <td>632.000000</td>\n",
              "      <td>1.000000</td>\n",
              "      <td>12.000000</td>\n",
              "      <td>101.000000</td>\n",
              "      <td>312.000000</td>\n",
              "    </tr>\n",
              "    <tr>\n",
              "      <th>50%</th>\n",
              "      <td>34.058700</td>\n",
              "      <td>-118.323000</td>\n",
              "      <td>1430.000000</td>\n",
              "      <td>11.000000</td>\n",
              "      <td>1162.000000</td>\n",
              "      <td>1.000000</td>\n",
              "      <td>31.000000</td>\n",
              "      <td>203.000000</td>\n",
              "      <td>400.000000</td>\n",
              "    </tr>\n",
              "    <tr>\n",
              "      <th>75%</th>\n",
              "      <td>34.165025</td>\n",
              "      <td>-118.274400</td>\n",
              "      <td>1900.000000</td>\n",
              "      <td>16.000000</td>\n",
              "      <td>1622.000000</td>\n",
              "      <td>2.000000</td>\n",
              "      <td>46.000000</td>\n",
              "      <td>501.000000</td>\n",
              "      <td>400.000000</td>\n",
              "    </tr>\n",
              "    <tr>\n",
              "      <th>max</th>\n",
              "      <td>34.328100</td>\n",
              "      <td>0.000000</td>\n",
              "      <td>2359.000000</td>\n",
              "      <td>21.000000</td>\n",
              "      <td>2197.000000</td>\n",
              "      <td>2.000000</td>\n",
              "      <td>99.000000</td>\n",
              "      <td>969.000000</td>\n",
              "      <td>515.000000</td>\n",
              "    </tr>\n",
              "  </tbody>\n",
              "</table>\n",
              "</div>"
            ]
          },
          "metadata": {},
          "execution_count": 11
        }
      ],
      "source": [
        "df.describe()"
      ]
    },
    {
      "cell_type": "code",
      "source": [
        "df.Crime_Category.unique()"
      ],
      "metadata": {
        "colab": {
          "base_uri": "https://localhost:8080/"
        },
        "id": "dCglLEEBtrtk",
        "outputId": "8b35e987-c5bf-4f5d-d481-d3c1718a0c77"
      },
      "id": "dCglLEEBtrtk",
      "execution_count": 12,
      "outputs": [
        {
          "output_type": "execute_result",
          "data": {
            "text/plain": [
              "array(['Property Crimes', 'Violent Crimes', 'Other Crimes',\n",
              "       'Crimes against Public Order', 'Fraud and White-Collar Crimes',\n",
              "       'Crimes against Persons'], dtype=object)"
            ]
          },
          "metadata": {},
          "execution_count": 12
        }
      ]
    },
    {
      "cell_type": "code",
      "source": [
        "df.columns = df.columns.map(lambda x: '_'.join(x.lower().split(' ')))"
      ],
      "metadata": {
        "id": "sgOiPqXk87P9"
      },
      "id": "sgOiPqXk87P9",
      "execution_count": 28,
      "outputs": []
    },
    {
      "cell_type": "code",
      "source": [
        "df.columns"
      ],
      "metadata": {
        "id": "1-GMcZUOE8Mm",
        "outputId": "0f647b7f-29f3-42b6-9b38-b7b361efee8a",
        "colab": {
          "base_uri": "https://localhost:8080/"
        }
      },
      "id": "1-GMcZUOE8Mm",
      "execution_count": 52,
      "outputs": [
        {
          "output_type": "execute_result",
          "data": {
            "text/plain": [
              "Index(['location', 'cross_street', 'latitude', 'longitude', 'date_reported',\n",
              "       'date_occurred', 'time_occurred', 'area_id', 'area_name',\n",
              "       'reporting_district_no', 'part_1-2', 'modus_operandi', 'victim_age',\n",
              "       'victim_sex', 'victim_descent', 'premise_code', 'premise_description',\n",
              "       'weapon_used_code', 'weapon_description', 'status',\n",
              "       'status_description', 'crime_category'],\n",
              "      dtype='object')"
            ]
          },
          "metadata": {},
          "execution_count": 52
        }
      ]
    },
    {
      "cell_type": "markdown",
      "id": "1c384170-907a-4b97-bf40-811f3a8e3c09",
      "metadata": {
        "id": "1c384170-907a-4b97-bf40-811f3a8e3c09"
      },
      "source": [
        "# Preprocessing"
      ]
    },
    {
      "cell_type": "markdown",
      "id": "49a37ad1-8834-434a-a569-29ef9a4bfe1a",
      "metadata": {
        "id": "49a37ad1-8834-434a-a569-29ef9a4bfe1a"
      },
      "source": [
        "#### Spliting train and test sets"
      ]
    },
    {
      "cell_type": "code",
      "execution_count": 30,
      "id": "0ab14798-352c-43ef-9620-9d837780b07e",
      "metadata": {
        "id": "0ab14798-352c-43ef-9620-9d837780b07e"
      },
      "outputs": [],
      "source": [
        "X, y = df.iloc[:, :-1], df.iloc[:, -1]"
      ]
    },
    {
      "cell_type": "code",
      "execution_count": 31,
      "id": "60f1dcec-e3bf-446b-ae8a-3e0a98406752",
      "metadata": {
        "id": "60f1dcec-e3bf-446b-ae8a-3e0a98406752"
      },
      "outputs": [],
      "source": [
        "X_train, X_test, y_train, y_test = train_test_split(X, y, stratify=y, test_size=0.2, random_state=1)"
      ]
    },
    {
      "cell_type": "code",
      "execution_count": 32,
      "id": "171c7f6f-bb5e-4c35-bc68-cd18c668bfc3",
      "metadata": {
        "colab": {
          "base_uri": "https://localhost:8080/"
        },
        "id": "171c7f6f-bb5e-4c35-bc68-cd18c668bfc3",
        "outputId": "28530c1d-204d-4be6-a37f-ef275d9134e5"
      },
      "outputs": [
        {
          "output_type": "execute_result",
          "data": {
            "text/plain": [
              "((16000, 21), (4000, 21))"
            ]
          },
          "metadata": {},
          "execution_count": 32
        }
      ],
      "source": [
        "X_train.shape, X_test.shape"
      ]
    },
    {
      "cell_type": "code",
      "execution_count": 58,
      "id": "fc0b204d-b14e-4c18-aea8-92e4f51bc7ae",
      "metadata": {
        "id": "fc0b204d-b14e-4c18-aea8-92e4f51bc7ae"
      },
      "outputs": [],
      "source": [
        "class CustomModification(BaseEstimator, TransformerMixin):\n",
        "    def fit(self, X, y=None):\n",
        "        self.mlb = MultiLabelBinarizer()\n",
        "        modus_operandi = X['modus_operandi'].map(lambda x: () if type(x) == float else tuple(map(int,x.split(' '))))\n",
        "        self.mlb.fit(modus_operandi)\n",
        "        return self\n",
        "\n",
        "    def transform(self, X, y=None):\n",
        "        X = X.copy()\n",
        "        self.clean(X)\n",
        "\n",
        "        X.insert(4, 'reported_year', X['date_reported'].dt.year)\n",
        "        X.insert(4, 'reported_month', X['date_reported'].dt.month)\n",
        "        X.insert(4, 'reported_day', X['date_reported'].dt.day)\n",
        "\n",
        "        X.insert(8, 'occurred_year', X['date_occurred'].dt.year)\n",
        "        X.insert(8, 'occurred_month', X['date_occurred'].dt.month)\n",
        "        X.insert(8, 'occurred_day', X['date_occurred'].dt.day)\n",
        "\n",
        "\n",
        "        X.insert(X.columns.get_loc('modus_operandi'), 'mo_count', X['modus_operandi'].map(len))\n",
        "\n",
        "        MO = self.mlb.transform(X['modus_operandi'])\n",
        "        MO = pd.DataFrame(MO, index=X.index)\n",
        "        MO.columns = MO.columns.map(lambda x: 'mo_' + str(x))\n",
        "        X = pd.concat([X.iloc[:, :X.columns.get_loc('modus_operandi')], MO, X.iloc[:, X.columns.get_loc('modus_operandi'):]], axis=1)\n",
        "\n",
        "        X = X.drop(['date_reported', 'date_occurred', 'modus_operandi', 'location', 'cross_street', 'area_name', 'premise_description', 'weapon_description', 'status_description'], axis=1)\n",
        "        return X\n",
        "\n",
        "    def clean(self, X):\n",
        "      # X[\"Latitude\"] = X['Latitude'].map(lambda x: np.nan if x == 0 else x)\n",
        "      # X[\"Longitude\"] = X['Longitude'].map(lambda x: np.nan if x == 0 else x)\n",
        "      X['date_reported'] = pd.to_datetime(X['date_reported'], format='%m/%d/%Y %H:%M:%S %p')\n",
        "      X['date_occurred'] = pd.to_datetime(X['date_occurred'], format='%m/%d/%Y %H:%M:%S %p')\n",
        "      X.loc[X['victim_age'] < 0, 'victim_age'] = 0\n",
        "      X[\"modus_operandi\"] = X['modus_operandi'].map(lambda x: () if type(x) == float else tuple(map(int,x.split(' '))))\n",
        "\n"
      ]
    },
    {
      "cell_type": "code",
      "execution_count": 46,
      "id": "d3e64afe-1724-4bde-ab3c-3e7e761cef0e",
      "metadata": {
        "id": "d3e64afe-1724-4bde-ab3c-3e7e761cef0e"
      },
      "outputs": [],
      "source": [
        "cat_pipe = Pipeline([\n",
        "    ('imputer', SimpleImputer(strategy='most_frequent')),\n",
        "    ('encoder', OneHotEncoder(sparse_output=False, handle_unknown='ignore', min_frequency=0.05)),\n",
        "])\n",
        "num_pipe = Pipeline([\n",
        "    ('imputer', SimpleImputer(strategy='mean')),\n",
        "    ('encoder', KBinsDiscretizer(strategy='kmeans', encode='onehot-dense')),\n",
        "])"
      ]
    },
    {
      "cell_type": "code",
      "source": [
        "CustomModification().fit_transform(X_train).shape"
      ],
      "metadata": {
        "id": "0Id3GCCiC54X",
        "outputId": "9f1ad75a-76fd-40d7-fc89-d87916d4632e",
        "colab": {
          "base_uri": "https://localhost:8080/"
        }
      },
      "id": "0Id3GCCiC54X",
      "execution_count": 60,
      "outputs": [
        {
          "output_type": "execute_result",
          "data": {
            "text/plain": [
              "(16000, 475)"
            ]
          },
          "metadata": {},
          "execution_count": 60
        }
      ]
    },
    {
      "cell_type": "code",
      "source": [
        "make_pipeline(CustomModification()).fit_transform(X_train).columns"
      ],
      "metadata": {
        "id": "D4wqjowoG33P",
        "outputId": "f20c5448-488f-4e32-b027-2b0c7c6c2bb1",
        "colab": {
          "base_uri": "https://localhost:8080/"
        }
      },
      "id": "D4wqjowoG33P",
      "execution_count": 59,
      "outputs": [
        {
          "output_type": "execute_result",
          "data": {
            "text/plain": [
              "Index(['latitude', 'longitude', 'reported_day', 'reported_month',\n",
              "       'reported_year', 'occurred_day', 'occurred_month', 'occurred_year',\n",
              "       'time_occurred', 'area_id',\n",
              "       ...\n",
              "       'mo_452', 'mo_453', 'mo_454', 'mo_455', 'victim_age', 'victim_sex',\n",
              "       'victim_descent', 'premise_code', 'weapon_used_code', 'status'],\n",
              "      dtype='object', length=475)"
            ]
          },
          "metadata": {},
          "execution_count": 59
        }
      ]
    },
    {
      "cell_type": "code",
      "execution_count": null,
      "id": "a4e08501-9526-4265-96db-7db9cd37f797",
      "metadata": {
        "id": "a4e08501-9526-4265-96db-7db9cd37f797"
      },
      "outputs": [],
      "source": [
        "pre_proc = ColumnTransformer([\n",
        "  ('ofe', OrdinalEncoder(), [10]),\n",
        "  ('ofe', OneHotEncoder(min_frequency=0.05, handle_unknown='ignore', sparse_output=False), ['victim_sex', 'victim_descent']),\n",
        "  ('ss', StandardScaler(with_mean=True, with_std=True), ['latitude', 'longitude',]),\n",
        "  ('cp1', cat_pipe, [13, 14]),\n",
        "  ('mms', MinMaxScaler(), ['reported_day', 'reported_month', 'reported_year', 'occurred_day', 'occurred_month', 'occurred_year' ])),\n",
        "  ('loc', num_pipe, [2, 3]),\n",
        "  ('uofe', OneHotEncoder(sparse_output=False, handle_unknown='infrequent_if_exist', min_frequency=0.05), [7,9,15,17,19]),\n",
        "], remainder='drop').set_output(transform='pandas')"
      ]
    },
    {
      "cell_type": "code",
      "source": [
        "skf = StratifiedKFold(n_splits=5, shuffle=True, random_state=1)"
      ],
      "metadata": {
        "id": "FX2GzTUB4KTv"
      },
      "id": "FX2GzTUB4KTv",
      "execution_count": null,
      "outputs": []
    },
    {
      "cell_type": "code",
      "source": [
        "le = LabelEncoder()\n",
        "y_train_enc = le.fit_transform(y_train)\n",
        "y_test_enc = le.fit_transform(y_test)"
      ],
      "metadata": {
        "id": "juuGm-UzDaV2"
      },
      "id": "juuGm-UzDaV2",
      "execution_count": null,
      "outputs": []
    },
    {
      "cell_type": "code",
      "source": [
        "lb = LabelBinarizer()\n",
        "y_train_bin = lb.fit_transform(y_train)\n",
        "y_test_bin = lb.fit_transform(y_test)"
      ],
      "metadata": {
        "id": "aqyhmBH9GOHE"
      },
      "id": "aqyhmBH9GOHE",
      "execution_count": null,
      "outputs": []
    },
    {
      "cell_type": "code",
      "execution_count": null,
      "id": "d56e2314-cc47-4cb9-b60f-7019d5d088d4",
      "metadata": {
        "id": "d56e2314-cc47-4cb9-b60f-7019d5d088d4"
      },
      "outputs": [],
      "source": [
        "pipe1 = make_pipeline(CustomModification(), pre_proc, GaussianNB())"
      ]
    },
    {
      "cell_type": "code",
      "source": [
        "pipe2 = make_pipeline(CustomModification(), pre_proc, DecisionTreeClassifier())"
      ],
      "metadata": {
        "id": "J7aGxXvaGHfl"
      },
      "id": "J7aGxXvaGHfl",
      "execution_count": null,
      "outputs": []
    },
    {
      "cell_type": "code",
      "source": [
        "pipe3 = make_pipeline(CustomModification(), pre_proc, RandomForestClassifier(random_state=0))"
      ],
      "metadata": {
        "id": "QqYR9DVpTHoc"
      },
      "id": "QqYR9DVpTHoc",
      "execution_count": null,
      "outputs": []
    },
    {
      "cell_type": "code",
      "source": [
        "pipe4 = make_pipeline(CustomModification(), pre_proc, LogisticRegression(solver='liblinear',penalty='l1'))\n",
        "# pipe4 = make_pipeline(CustomModification(), pre_proc, LogisticRegression())"
      ],
      "metadata": {
        "id": "148ICz8fUG25"
      },
      "id": "148ICz8fUG25",
      "execution_count": null,
      "outputs": []
    },
    {
      "cell_type": "code",
      "source": [
        "pipe5 = make_pipeline(CustomModification(), pre_proc, SGDClassifier())"
      ],
      "metadata": {
        "id": "CTdE45TA5o3U"
      },
      "id": "CTdE45TA5o3U",
      "execution_count": null,
      "outputs": []
    },
    {
      "cell_type": "code",
      "execution_count": null,
      "id": "b46c9469-f3e7-499d-9625-957b4da7df05",
      "metadata": {
        "colab": {
          "base_uri": "https://localhost:8080/"
        },
        "id": "b46c9469-f3e7-499d-9625-957b4da7df05",
        "outputId": "f14e88a2-9010-4500-b900-078d6b2b7329"
      },
      "outputs": [
        {
          "output_type": "stream",
          "name": "stdout",
          "text": [
            "GaussianNB\n",
            "Training Score:  0.3340625\n",
            "Testing Score:  0.312\n"
          ]
        }
      ],
      "source": [
        "print('GaussianNB')\n",
        "pipe1.fit(X_train, y_train_enc)\n",
        "trs_gnb = pipe1.score(X_train, y_train_enc)\n",
        "tes_gnb = pipe1.score(X_test, y_test_enc)\n",
        "print('Training Score: ', trs_gnb)\n",
        "print('Testing Score: ', tes_gnb)"
      ]
    },
    {
      "cell_type": "code",
      "execution_count": null,
      "id": "2fa6ae96-1e97-4e01-b5a1-2526a6c02d91",
      "metadata": {
        "colab": {
          "base_uri": "https://localhost:8080/"
        },
        "id": "2fa6ae96-1e97-4e01-b5a1-2526a6c02d91",
        "outputId": "50f87dc7-11e2-4cc6-8d1c-dd5215edffe2"
      },
      "outputs": [
        {
          "output_type": "stream",
          "name": "stdout",
          "text": [
            "Decision Tree Classifier\n",
            "Label Encode Ordinaly\n",
            "Training Score:  1.0\n",
            "Testing Score:  0.92575\n",
            "\n",
            "Label Binarized\n",
            "Training Score:  1.0\n",
            "Testing Score:  0.9255\n"
          ]
        }
      ],
      "source": [
        "print('Decision Tree Classifier')\n",
        "print('Label Encode Ordinaly')\n",
        "pipe2.fit(X_train, y_train_enc)\n",
        "print('Training Score: ', pipe2.score(X_train, y_train_enc))\n",
        "print('Testing Score: ', pipe2.score(X_test, y_test_enc))\n",
        "print()\n",
        "print('Label Binarized')\n",
        "pipe2.fit(X_train, y_train_bin)\n",
        "print('Training Score: ', pipe2.score(X_train, y_train_bin))\n",
        "print('Testing Score: ', pipe2.score(X_test, y_test_bin))"
      ]
    },
    {
      "cell_type": "code",
      "source": [
        "print('Random Forest Classifier')\n",
        "\n",
        "print('Label Encode Ordinaly')\n",
        "pipe3.fit(X_train, y_train_enc)\n",
        "print('Training Score: ', pipe3.score(X_train, y_train_enc))\n",
        "print('Testing Score: ', pipe3.score(X_test, y_test_enc))\n",
        "print()\n",
        "\n",
        "print('Label Binarized')\n",
        "pipe3.fit(X_train, y_train_bin)\n",
        "print('Training Score: ', pipe3.score(X_train, y_train_bin))\n",
        "print('Testing Score: ', pipe3.score(X_test, y_test_bin))\n",
        "print()\n",
        "\n",
        "print('Cross-validation')\n",
        "cvl = cross_val_score(pipe3, X, y, cv=skf, scoring='accuracy')\n",
        "print('CV_score, std: ', cvl.mean(), cvl.std())"
      ],
      "metadata": {
        "colab": {
          "base_uri": "https://localhost:8080/"
        },
        "id": "hs2UUlIaTT4Z",
        "outputId": "80831794-6126-4650-f9c9-a0c6a433ff9d"
      },
      "id": "hs2UUlIaTT4Z",
      "execution_count": null,
      "outputs": [
        {
          "output_type": "stream",
          "name": "stdout",
          "text": [
            "Random Forest Classifier\n",
            "Label Encode Ordinaly\n",
            "Training Score:  1.0\n",
            "Testing Score:  0.94625\n",
            "\n",
            "Label Binarized\n",
            "Training Score:  1.0\n",
            "Testing Score:  0.9205\n",
            "\n",
            "Cross-validation\n",
            "CV_score, std:  0.94575 0.0028328430948430863\n"
          ]
        }
      ]
    },
    {
      "cell_type": "code",
      "source": [
        "print('Logistic Regression')\n",
        "pipe4.fit(X_train, y_train_enc)\n",
        "print('Training Score: ', pipe4.score(X_train, y_train_enc))\n",
        "print('Testing Score: ', pipe4.score(X_test, y_test_enc))\n",
        "\n",
        "cvl = cross_val_score(pipe4, X, y, cv=skf, scoring='accuracy')\n",
        "print('CV_score: ', cvl.mean())"
      ],
      "metadata": {
        "colab": {
          "base_uri": "https://localhost:8080/"
        },
        "id": "svB2KPOTUOJd",
        "outputId": "f0c9893b-50ea-4007-fd3e-ac3a1a38fb97"
      },
      "id": "svB2KPOTUOJd",
      "execution_count": null,
      "outputs": [
        {
          "output_type": "stream",
          "name": "stdout",
          "text": [
            "Logistic Regression\n",
            "Training Score:  0.9555\n",
            "Testing Score:  0.951\n",
            "CV_score:  0.9497\n"
          ]
        }
      ]
    },
    {
      "cell_type": "code",
      "source": [
        "print('SGDClassifier')\n",
        "pipe5.fit(X_train, y_train_enc)\n",
        "print('Training Score: ', pipe5.score(X_train, y_train_enc))\n",
        "print('Testing Score: ', pipe5.score(X_test, y_test_enc))\n",
        "\n",
        "cvl = cross_val_score(pipe4, X, y, cv=skf, scoring='accuracy')\n",
        "print('CV_score, std: ', np.round(cvl.mean(), 4), np.round(cvl.std(), 4))"
      ],
      "metadata": {
        "colab": {
          "base_uri": "https://localhost:8080/"
        },
        "id": "cKhtHoal6QfE",
        "outputId": "524c6696-80ab-4980-a829-a94d638f88c3"
      },
      "id": "cKhtHoal6QfE",
      "execution_count": null,
      "outputs": [
        {
          "output_type": "stream",
          "name": "stdout",
          "text": [
            "SGDClassifier\n",
            "Training Score:  0.9543125\n",
            "Testing Score:  0.946\n",
            "CV_score, std:  0.9496 0.0025\n"
          ]
        }
      ]
    },
    {
      "cell_type": "code",
      "source": [
        "pipe = Pipeline([\n",
        "    ('custom',  CustomModification()),\n",
        "    ('pre_process', pre_proc),\n",
        "    ('classifier', BaggingClassifier(estimator=DecisionTreeClassifier()))\n",
        "])\n",
        "\n",
        "skf = StratifiedKFold(n_splits=5, shuffle=True, random_state=1)\n",
        "\n",
        "param_grid = {\n",
        "    'classifier__max_samples': [0.2, 0.6, 1.0],\n",
        "    'classifier__max_features': [2, 5, 0.5, 1.0],\n",
        "    'classifier__bootstrap': [True, False],\n",
        "    'classifier__bootstrap_features': [True, False],\n",
        "    'classifier__n_estimators': [10, 20, 50],\n",
        "}\n",
        "\n",
        "grid_search = GridSearchCV(pipe, param_grid, cv=skf, scoring='accuracy')\n",
        "grid_search.fit(X, y)\n",
        "\n",
        "print(\"Best Parameters: \", grid_search.best_params_)\n",
        "print(\"Best Parameters: \", grid_search.best_score_)"
      ],
      "metadata": {
        "id": "uJzkmQNhTWxK",
        "colab": {
          "base_uri": "https://localhost:8080/"
        },
        "outputId": "e7211b26-ca52-4453-a9e7-10e63ac6e31f"
      },
      "id": "uJzkmQNhTWxK",
      "execution_count": null,
      "outputs": [
        {
          "output_type": "stream",
          "name": "stdout",
          "text": [
            "Best Parameters:  {'classifier__bootstrap': False, 'classifier__bootstrap_features': True, 'classifier__max_features': 1.0, 'classifier__max_samples': 1.0, 'classifier__n_estimators': 50}\n"
          ]
        }
      ]
    },
    {
      "cell_type": "code",
      "source": [
        "bgcv = make_pipeline(CustomModification(), pre_proc, BaggingClassifier(\n",
        "    DecisionTreeClassifier(),\n",
        "    n_estimators=80,\n",
        "    max_samples=1.0,\n",
        "    max_features=1.0,\n",
        "    bootstrap=False,\n",
        "    bootstrap_features=True,\n",
        "    random_state=0\n",
        "))\n",
        "cvl = cross_val_score(bgcv, X, y, cv=skf, scoring='accuracy')\n",
        "m, s = cvl.mean(), cvl.std()\n",
        "model_report = pd.DataFrame(dict(BaggingClassifier_best=[m, s]), index=['Mean', 'Std'])"
      ],
      "metadata": {
        "id": "Qgk-6YPvrA4Z"
      },
      "id": "Qgk-6YPvrA4Z",
      "execution_count": null,
      "outputs": []
    },
    {
      "cell_type": "code",
      "source": [
        "model_report.transpose().head(1)"
      ],
      "metadata": {
        "colab": {
          "base_uri": "https://localhost:8080/",
          "height": 81
        },
        "id": "ncjdMgeVv79g",
        "outputId": "6648e8bf-c3f9-47ab-caed-a8bb6f0fa205"
      },
      "id": "ncjdMgeVv79g",
      "execution_count": null,
      "outputs": [
        {
          "output_type": "execute_result",
          "data": {
            "text/plain": [
              "                           Mean       Std\n",
              "Bagging_Classifier_Best  0.9525  0.002302"
            ],
            "text/html": [
              "<div>\n",
              "<style scoped>\n",
              "    .dataframe tbody tr th:only-of-type {\n",
              "        vertical-align: middle;\n",
              "    }\n",
              "\n",
              "    .dataframe tbody tr th {\n",
              "        vertical-align: top;\n",
              "    }\n",
              "\n",
              "    .dataframe thead th {\n",
              "        text-align: right;\n",
              "    }\n",
              "</style>\n",
              "<table border=\"1\" class=\"dataframe\">\n",
              "  <thead>\n",
              "    <tr style=\"text-align: right;\">\n",
              "      <th></th>\n",
              "      <th>Mean</th>\n",
              "      <th>Std</th>\n",
              "    </tr>\n",
              "  </thead>\n",
              "  <tbody>\n",
              "    <tr>\n",
              "      <th>Bagging_Classifier_Best</th>\n",
              "      <td>0.9525</td>\n",
              "      <td>0.002302</td>\n",
              "    </tr>\n",
              "  </tbody>\n",
              "</table>\n",
              "</div>"
            ]
          },
          "metadata": {},
          "execution_count": 63
        }
      ]
    },
    {
      "cell_type": "code",
      "source": [
        "pipe = Pipeline([\n",
        "    ('custom',  CustomModification()),\n",
        "    ('pre_process', pre_proc),\n",
        "    ('classifier', SGDClassifier(early_stopping=True))\n",
        "])\n",
        "\n",
        "skf = StratifiedKFold(n_splits=5, shuffle=True, random_state=1)\n",
        "\n",
        "param_grid = {\n",
        "    'classifier__max_iter': [100, 500],\n",
        "    'classifier__penalty': ['elasticnet'],\n",
        "    'classifier__learning_rate': ['optimal', 'invscaling'],\n",
        "    'classifier__class_weight': [None, 'balanced'],\n",
        "    'classifier__l1_ratio': [0.1, 0.15, 0.2],\n",
        "    'classifier__average': [True, False],\n",
        "    'classifier__validation_fraction': [0.05, 0.1, 0.15],\n",
        "    'classifier__epsilon': [0.1, 0.15, 0.2],\n",
        "}\n",
        "\n",
        "grid_search = GridSearchCV(pipe, param_grid, cv=skf, scoring='accuracy')\n",
        "grid_search.fit(X, y)\n",
        "\n",
        "print(\"Best Parameters: \", grid_search.best_params_)\n",
        "print(\"Best Parameters: \", grid_search.best_score_)"
      ],
      "metadata": {
        "colab": {
          "base_uri": "https://localhost:8080/"
        },
        "id": "ys0CufUa96pM",
        "outputId": "0f7dba69-5558-4751-b88c-11e92e357a12"
      },
      "id": "ys0CufUa96pM",
      "execution_count": null,
      "outputs": [
        {
          "output_type": "stream",
          "name": "stdout",
          "text": [
            "Best Parameters:  {'classifier__average': False, 'classifier__class_weight': None, 'classifier__epsilon': 0.1, 'classifier__l1_ratio': 0.15, 'classifier__learning_rate': 'optimal', 'classifier__max_iter': 500, 'classifier__penalty': 'elasticnet', 'classifier__validation_fraction': 0.05}\n",
            "Best Parameters:  0.9464\n"
          ]
        }
      ]
    },
    {
      "cell_type": "code",
      "source": [
        "grid_search.best_estimator_[-1].n_iter_"
      ],
      "metadata": {
        "colab": {
          "base_uri": "https://localhost:8080/"
        },
        "id": "oOSUB_aHH63c",
        "outputId": "3513f47b-5afb-4969-90ae-15f99b471670"
      },
      "id": "oOSUB_aHH63c",
      "execution_count": null,
      "outputs": [
        {
          "output_type": "execute_result",
          "data": {
            "text/plain": [
              "13"
            ]
          },
          "metadata": {},
          "execution_count": 102
        }
      ]
    },
    {
      "cell_type": "code",
      "source": [
        "sgdc = make_pipeline(CustomModification(), pre_proc, SGDClassifier(\n",
        "    early_stopping=True,\n",
        "    validation_fraction=0.05,\n",
        "    max_iter=100,\n",
        "    penalty='elasticnet',\n",
        "))\n",
        "cvl = cross_val_score(sgdc, X, y, cv=skf, scoring='accuracy')\n",
        "m, s = cvl.mean(), cvl.std()\n",
        "model_report['SGDClassifier_best'] = [m, s]"
      ],
      "metadata": {
        "id": "YAm1VxGAHb5s"
      },
      "id": "YAm1VxGAHb5s",
      "execution_count": null,
      "outputs": []
    },
    {
      "cell_type": "code",
      "source": [
        "model_report.transpose()"
      ],
      "metadata": {
        "colab": {
          "base_uri": "https://localhost:8080/",
          "height": 112
        },
        "id": "sw9n4DtPIdu_",
        "outputId": "418e23eb-9013-4d7f-cc39-fb6d14ec6ced"
      },
      "id": "sw9n4DtPIdu_",
      "execution_count": null,
      "outputs": [
        {
          "output_type": "execute_result",
          "data": {
            "text/plain": [
              "                           Mean       Std\n",
              "Bagging_Classifier_Best  0.9525  0.002302\n",
              "SGDClassifier_best       0.9419  0.002513"
            ],
            "text/html": [
              "<div>\n",
              "<style scoped>\n",
              "    .dataframe tbody tr th:only-of-type {\n",
              "        vertical-align: middle;\n",
              "    }\n",
              "\n",
              "    .dataframe tbody tr th {\n",
              "        vertical-align: top;\n",
              "    }\n",
              "\n",
              "    .dataframe thead th {\n",
              "        text-align: right;\n",
              "    }\n",
              "</style>\n",
              "<table border=\"1\" class=\"dataframe\">\n",
              "  <thead>\n",
              "    <tr style=\"text-align: right;\">\n",
              "      <th></th>\n",
              "      <th>Mean</th>\n",
              "      <th>Std</th>\n",
              "    </tr>\n",
              "  </thead>\n",
              "  <tbody>\n",
              "    <tr>\n",
              "      <th>Bagging_Classifier_Best</th>\n",
              "      <td>0.9525</td>\n",
              "      <td>0.002302</td>\n",
              "    </tr>\n",
              "    <tr>\n",
              "      <th>SGDClassifier_best</th>\n",
              "      <td>0.9419</td>\n",
              "      <td>0.002513</td>\n",
              "    </tr>\n",
              "  </tbody>\n",
              "</table>\n",
              "</div>"
            ]
          },
          "metadata": {},
          "execution_count": 105
        }
      ]
    },
    {
      "cell_type": "code",
      "source": [
        "bgcv.fit(X_train, y_train_enc)\n",
        "bgcv_pred = bgcv.predict(X_test)\n",
        "sgdc.fit(X_train, y_train_enc)\n",
        "sgdc_pred = sgdc.predict(X_test)"
      ],
      "metadata": {
        "id": "WoEmOy6gImQ0"
      },
      "id": "WoEmOy6gImQ0",
      "execution_count": null,
      "outputs": []
    },
    {
      "cell_type": "code",
      "source": [
        "pred_by_acc_bgcv = np.abs((pd.Series(le.inverse_transform(bgcv_pred.reshape(-1, 1))).value_counts() / y_test.value_counts()) -1)\n",
        "pred_by_acc_sgdc = np.abs((pd.Series(le.inverse_transform(sgdc_pred.reshape(-1, 1))).value_counts() / y_test.value_counts()) -1)\n",
        "\n",
        "plt.figure(figsize=(10, 5))\n",
        "plt.bar(pred_by_acc_bgcv.index, pred_by_acc_bgcv.values)\n",
        "plt.bar(pred_by_acc_sgdc.index, pred_by_acc_sgdc.values)\n",
        "plt.xticks(rotation=45)\n",
        "plt.show()"
      ],
      "metadata": {
        "colab": {
          "base_uri": "https://localhost:8080/",
          "height": 591
        },
        "id": "UitD72P4KIhn",
        "outputId": "d9b81aef-74a2-4180-b990-7ca8198d2421"
      },
      "id": "UitD72P4KIhn",
      "execution_count": null,
      "outputs": [
        {
          "output_type": "display_data",
          "data": {
            "text/plain": [
              "<Figure size 1000x500 with 1 Axes>"
            ],
            "image/png": "[encoded data removed]"
          },
          "metadata": {}
        }
      ]
    },
    {
      "cell_type": "code",
      "source": [
        "vc = make_pipeline(CustomModification(), pre_proc, VotingClassifier(estimators=[('bgcv', BaggingClassifier(\n",
        "    DecisionTreeClassifier(),\n",
        "    n_estimators=80,\n",
        "    max_samples=1.0,\n",
        "    max_features=1.0,\n",
        "    bootstrap=False,\n",
        "    bootstrap_features=True,\n",
        "    random_state=0\n",
        ")),\n",
        "('lr', LogisticRegression(solver='liblinear',penalty='l1'))], voting='soft', weights = [0.9525, 0.9497]))\n",
        "\n",
        "cvl = cross_val_score(vc, X, y, cv=skf, scoring='accuracy')\n",
        "m, s = cvl.mean(), cvl.std()\n",
        "model_report['VotingClassifier_best'] = [m, s]"
      ],
      "metadata": {
        "id": "UqMFX5yAOPRr"
      },
      "id": "UqMFX5yAOPRr",
      "execution_count": null,
      "outputs": []
    },
    {
      "cell_type": "code",
      "source": [
        "model_report.transpose()"
      ],
      "metadata": {
        "id": "bejhx1a8PnG4",
        "outputId": "4672c232-55f6-42c7-b344-a60f8be6bd10",
        "colab": {
          "base_uri": "https://localhost:8080/",
          "height": 143
        }
      },
      "id": "bejhx1a8PnG4",
      "execution_count": null,
      "outputs": [
        {
          "output_type": "execute_result",
          "data": {
            "text/plain": [
              "                            Mean       Std\n",
              "Bagging_Classifier_Best  0.95250  0.002302\n",
              "SGDClassifier_best       0.94190  0.002513\n",
              "VotingClassifier_best    0.95475  0.003166"
            ],
            "text/html": [
              "<div>\n",
              "<style scoped>\n",
              "    .dataframe tbody tr th:only-of-type {\n",
              "        vertical-align: middle;\n",
              "    }\n",
              "\n",
              "    .dataframe tbody tr th {\n",
              "        vertical-align: top;\n",
              "    }\n",
              "\n",
              "    .dataframe thead th {\n",
              "        text-align: right;\n",
              "    }\n",
              "</style>\n",
              "<table border=\"1\" class=\"dataframe\">\n",
              "  <thead>\n",
              "    <tr style=\"text-align: right;\">\n",
              "      <th></th>\n",
              "      <th>Mean</th>\n",
              "      <th>Std</th>\n",
              "    </tr>\n",
              "  </thead>\n",
              "  <tbody>\n",
              "    <tr>\n",
              "      <th>Bagging_Classifier_Best</th>\n",
              "      <td>0.95250</td>\n",
              "      <td>0.002302</td>\n",
              "    </tr>\n",
              "    <tr>\n",
              "      <th>SGDClassifier_best</th>\n",
              "      <td>0.94190</td>\n",
              "      <td>0.002513</td>\n",
              "    </tr>\n",
              "    <tr>\n",
              "      <th>VotingClassifier_best</th>\n",
              "      <td>0.95475</td>\n",
              "      <td>0.003166</td>\n",
              "    </tr>\n",
              "  </tbody>\n",
              "</table>\n",
              "</div>"
            ]
          },
          "metadata": {},
          "execution_count": 145
        }
      ]
    },
    {
      "cell_type": "markdown",
      "source": [
        "# Final"
      ],
      "metadata": {
        "id": "GLA0HiyOTvwg"
      },
      "id": "GLA0HiyOTvwg"
    },
    {
      "cell_type": "code",
      "source": [
        "model = vc"
      ],
      "metadata": {
        "id": "6EGKKm9WRCUM"
      },
      "id": "6EGKKm9WRCUM",
      "execution_count": null,
      "outputs": []
    },
    {
      "cell_type": "code",
      "source": [
        "model = grid_search.best_estimator_"
      ],
      "metadata": {
        "colab": {
          "base_uri": "https://localhost:8080/",
          "height": 377
        },
        "id": "H3r38kfHH0JQ",
        "outputId": "8435af8b-58bb-47bf-c742-d528e1d8bcab"
      },
      "id": "H3r38kfHH0JQ",
      "execution_count": null,
      "outputs": [
        {
          "output_type": "execute_result",
          "data": {
            "text/plain": [
              "Pipeline(steps=[('custom', CustomModification()),\n",
              "                ('pre_process',\n",
              "                 ColumnTransformer(remainder='passthrough',\n",
              "                                   transformers=[('dropper', 'drop',\n",
              "                                                  [0, 1, 4, 5, 8, 10, 11, 16,\n",
              "                                                   18, 20]),\n",
              "                                                 ('ofe', OrdinalEncoder(),\n",
              "                                                  [10]),\n",
              "                                                 ('ss', StandardScaler(),\n",
              "                                                  [6, 12]),\n",
              "                                                 ('cp1',\n",
              "                                                  Pipeline(steps=[('imputer',\n",
              "                                                                   SimpleImputer(strategy='most_frequent')),\n",
              "                                                                  ('encoder',\n",
              "                                                                   OneHotEncoder(handle_unknown='infreque...\n",
              "                                                  Pipeline(steps=[('imputer',\n",
              "                                                                   SimpleImputer()),\n",
              "                                                                  ('encoder',\n",
              "                                                                   KBinsDiscretizer(encode='onehot-dense',\n",
              "                                                                                    strategy='kmeans'))]),\n",
              "                                                  [2, 3]),\n",
              "                                                 ('uofe',\n",
              "                                                  OneHotEncoder(handle_unknown='infrequent_if_exist',\n",
              "                                                                min_frequency=0.05,\n",
              "                                                                sparse_output=False),\n",
              "                                                  [7, 9, 15, 17, 19])])),\n",
              "                ('classifier',\n",
              "                 BaggingClassifier(bootstrap=False, bootstrap_features=True,\n",
              "                                   estimator=DecisionTreeClassifier(),\n",
              "                                   n_estimators=50))])"
            ],
            "text/html": [
              "<style>#sk-container-id-2 {\n",
              "  /* Definition of color scheme common for light and dark mode */\n",
              "  --sklearn-color-text: black;\n",
              "  --sklearn-color-line: gray;\n",
              "  /* Definition of color scheme for unfitted estimators */\n",
              "  --sklearn-color-unfitted-level-0: #fff5e6;\n",
              "  --sklearn-color-unfitted-level-1: #f6e4d2;\n",
              "  --sklearn-color-unfitted-level-2: #ffe0b3;\n",
              "  --sklearn-color-unfitted-level-3: chocolate;\n",
              "  /* Definition of color scheme for fitted estimators */\n",
              "  --sklearn-color-fitted-level-0: #f0f8ff;\n",
              "  --sklearn-color-fitted-level-1: #d4ebff;\n",
              "  --sklearn-color-fitted-level-2: #b3dbfd;\n",
              "  --sklearn-color-fitted-level-3: cornflowerblue;\n",
              "\n",
              "  /* Specific color for light theme */\n",
              "  --sklearn-color-text-on-default-background: var(--sg-text-color, var(--theme-code-foreground, var(--jp-content-font-color1, black)));\n",
              "  --sklearn-color-background: var(--sg-background-color, var(--theme-background, var(--jp-layout-color0, white)));\n",
              "  --sklearn-color-border-box: var(--sg-text-color, var(--theme-code-foreground, var(--jp-content-font-color1, black)));\n",
              "  --sklearn-color-icon: #696969;\n",
              "\n",
              "  @media (prefers-color-scheme: dark) {\n",
              "    /* Redefinition of color scheme for dark theme */\n",
              "    --sklearn-color-text-on-default-background: var(--sg-text-color, var(--theme-code-foreground, var(--jp-content-font-color1, white)));\n",
              "    --sklearn-color-background: var(--sg-background-color, var(--theme-background, var(--jp-layout-color0, #111)));\n",
              "    --sklearn-color-border-box: var(--sg-text-color, var(--theme-code-foreground, var(--jp-content-font-color1, white)));\n",
              "    --sklearn-color-icon: #878787;\n",
              "  }\n",
              "}\n",
              "\n",
              "#sk-container-id-2 {\n",
              "  color: var(--sklearn-color-text);\n",
              "}\n",
              "\n",
              "#sk-container-id-2 pre {\n",
              "  padding: 0;\n",
              "}\n",
              "\n",
              "#sk-container-id-2 input.sk-hidden--visually {\n",
              "  border: 0;\n",
              "  clip: rect(1px 1px 1px 1px);\n",
              "  clip: rect(1px, 1px, 1px, 1px);\n",
              "  height: 1px;\n",
              "  margin: -1px;\n",
              "  overflow: hidden;\n",
              "  padding: 0;\n",
              "  position: absolute;\n",
              "  width: 1px;\n",
              "}\n",
              "\n",
              "#sk-container-id-2 div.sk-dashed-wrapped {\n",
              "  border: 1px dashed var(--sklearn-color-line);\n",
              "  margin: 0 0.4em 0.5em 0.4em;\n",
              "  box-sizing: border-box;\n",
              "  padding-bottom: 0.4em;\n",
              "  background-color: var(--sklearn-color-background);\n",
              "}\n",
              "\n",
              "#sk-container-id-2 div.sk-container {\n",
              "  /* jupyter's `normalize.less` sets `[hidden] { display: none; }`\n",
              "     but bootstrap.min.css set `[hidden] { display: none !important; }`\n",
              "     so we also need the `!important` here to be able to override the\n",
              "     default hidden behavior on the sphinx rendered scikit-learn.org.\n",
              "     See: https://github.com/scikit-learn/scikit-learn/issues/21755 */\n",
              "  display: inline-block !important;\n",
              "  position: relative;\n",
              "}\n",
              "\n",
              "#sk-container-id-2 div.sk-text-repr-fallback {\n",
              "  display: none;\n",
              "}\n",
              "\n",
              "div.sk-parallel-item,\n",
              "div.sk-serial,\n",
              "div.sk-item {\n",
              "  /* draw centered vertical line to link estimators */\n",
              "  background-image: linear-gradient(var(--sklearn-color-text-on-default-background), var(--sklearn-color-text-on-default-background));\n",
              "  background-size: 2px 100%;\n",
              "  background-repeat: no-repeat;\n",
              "  background-position: center center;\n",
              "}\n",
              "\n",
              "/* Parallel-specific style estimator block */\n",
              "\n",
              "#sk-container-id-2 div.sk-parallel-item::after {\n",
              "  content: \"\";\n",
              "  width: 100%;\n",
              "  border-bottom: 2px solid var(--sklearn-color-text-on-default-background);\n",
              "  flex-grow: 1;\n",
              "}\n",
              "\n",
              "#sk-container-id-2 div.sk-parallel {\n",
              "  display: flex;\n",
              "  align-items: stretch;\n",
              "  justify-content: center;\n",
              "  background-color: var(--sklearn-color-background);\n",
              "  position: relative;\n",
              "}\n",
              "\n",
              "#sk-container-id-2 div.sk-parallel-item {\n",
              "  display: flex;\n",
              "  flex-direction: column;\n",
              "}\n",
              "\n",
              "#sk-container-id-2 div.sk-parallel-item:first-child::after {\n",
              "  align-self: flex-end;\n",
              "  width: 50%;\n",
              "}\n",
              "\n",
              "#sk-container-id-2 div.sk-parallel-item:last-child::after {\n",
              "  align-self: flex-start;\n",
              "  width: 50%;\n",
              "}\n",
              "\n",
              "#sk-container-id-2 div.sk-parallel-item:only-child::after {\n",
              "  width: 0;\n",
              "}\n",
              "\n",
              "/* Serial-specific style estimator block */\n",
              "\n",
              "#sk-container-id-2 div.sk-serial {\n",
              "  display: flex;\n",
              "  flex-direction: column;\n",
              "  align-items: center;\n",
              "  background-color: var(--sklearn-color-background);\n",
              "  padding-right: 1em;\n",
              "  padding-left: 1em;\n",
              "}\n",
              "\n",
              "\n",
              "/* Toggleable style: style used for estimator/Pipeline/ColumnTransformer box that is\n",
              "clickable and can be expanded/collapsed.\n",
              "- Pipeline and ColumnTransformer use this feature and define the default style\n",
              "- Estimators will overwrite some part of the style using the `sk-estimator` class\n",
              "*/\n",
              "\n",
              "/* Pipeline and ColumnTransformer style (default) */\n",
              "\n",
              "#sk-container-id-2 div.sk-toggleable {\n",
              "  /* Default theme specific background. It is overwritten whether we have a\n",
              "  specific estimator or a Pipeline/ColumnTransformer */\n",
              "  background-color: var(--sklearn-color-background);\n",
              "}\n",
              "\n",
              "/* Toggleable label */\n",
              "#sk-container-id-2 label.sk-toggleable__label {\n",
              "  cursor: pointer;\n",
              "  display: block;\n",
              "  width: 100%;\n",
              "  margin-bottom: 0;\n",
              "  padding: 0.5em;\n",
              "  box-sizing: border-box;\n",
              "  text-align: center;\n",
              "}\n",
              "\n",
              "#sk-container-id-2 label.sk-toggleable__label-arrow:before {\n",
              "  /* Arrow on the left of the label */\n",
              "  content: \"▸\";\n",
              "  float: left;\n",
              "  margin-right: 0.25em;\n",
              "  color: var(--sklearn-color-icon);\n",
              "}\n",
              "\n",
              "#sk-container-id-2 label.sk-toggleable__label-arrow:hover:before {\n",
              "  color: var(--sklearn-color-text);\n",
              "}\n",
              "\n",
              "/* Toggleable content - dropdown */\n",
              "\n",
              "#sk-container-id-2 div.sk-toggleable__content {\n",
              "  max-height: 0;\n",
              "  max-width: 0;\n",
              "  overflow: hidden;\n",
              "  text-align: left;\n",
              "  /* unfitted */\n",
              "  background-color: var(--sklearn-color-unfitted-level-0);\n",
              "}\n",
              "\n",
              "#sk-container-id-2 div.sk-toggleable__content.fitted {\n",
              "  /* fitted */\n",
              "  background-color: var(--sklearn-color-fitted-level-0);\n",
              "}\n",
              "\n",
              "#sk-container-id-2 div.sk-toggleable__content pre {\n",
              "  margin: 0.2em;\n",
              "  border-radius: 0.25em;\n",
              "  color: var(--sklearn-color-text);\n",
              "  /* unfitted */\n",
              "  background-color: var(--sklearn-color-unfitted-level-0);\n",
              "}\n",
              "\n",
              "#sk-container-id-2 div.sk-toggleable__content.fitted pre {\n",
              "  /* unfitted */\n",
              "  background-color: var(--sklearn-color-fitted-level-0);\n",
              "}\n",
              "\n",
              "#sk-container-id-2 input.sk-toggleable__control:checked~div.sk-toggleable__content {\n",
              "  /* Expand drop-down */\n",
              "  max-height: 200px;\n",
              "  max-width: 100%;\n",
              "  overflow: auto;\n",
              "}\n",
              "\n",
              "#sk-container-id-2 input.sk-toggleable__control:checked~label.sk-toggleable__label-arrow:before {\n",
              "  content: \"▾\";\n",
              "}\n",
              "\n",
              "/* Pipeline/ColumnTransformer-specific style */\n",
              "\n",
              "#sk-container-id-2 div.sk-label input.sk-toggleable__control:checked~label.sk-toggleable__label {\n",
              "  color: var(--sklearn-color-text);\n",
              "  background-color: var(--sklearn-color-unfitted-level-2);\n",
              "}\n",
              "\n",
              "#sk-container-id-2 div.sk-label.fitted input.sk-toggleable__control:checked~label.sk-toggleable__label {\n",
              "  background-color: var(--sklearn-color-fitted-level-2);\n",
              "}\n",
              "\n",
              "/* Estimator-specific style */\n",
              "\n",
              "/* Colorize estimator box */\n",
              "#sk-container-id-2 div.sk-estimator input.sk-toggleable__control:checked~label.sk-toggleable__label {\n",
              "  /* unfitted */\n",
              "  background-color: var(--sklearn-color-unfitted-level-2);\n",
              "}\n",
              "\n",
              "#sk-container-id-2 div.sk-estimator.fitted input.sk-toggleable__control:checked~label.sk-toggleable__label {\n",
              "  /* fitted */\n",
              "  background-color: var(--sklearn-color-fitted-level-2);\n",
              "}\n",
              "\n",
              "#sk-container-id-2 div.sk-label label.sk-toggleable__label,\n",
              "#sk-container-id-2 div.sk-label label {\n",
              "  /* The background is the default theme color */\n",
              "  color: var(--sklearn-color-text-on-default-background);\n",
              "}\n",
              "\n",
              "/* On hover, darken the color of the background */\n",
              "#sk-container-id-2 div.sk-label:hover label.sk-toggleable__label {\n",
              "  color: var(--sklearn-color-text);\n",
              "  background-color: var(--sklearn-color-unfitted-level-2);\n",
              "}\n",
              "\n",
              "/* Label box, darken color on hover, fitted */\n",
              "#sk-container-id-2 div.sk-label.fitted:hover label.sk-toggleable__label.fitted {\n",
              "  color: var(--sklearn-color-text);\n",
              "  background-color: var(--sklearn-color-fitted-level-2);\n",
              "}\n",
              "\n",
              "/* Estimator label */\n",
              "\n",
              "#sk-container-id-2 div.sk-label label {\n",
              "  font-family: monospace;\n",
              "  font-weight: bold;\n",
              "  display: inline-block;\n",
              "  line-height: 1.2em;\n",
              "}\n",
              "\n",
              "#sk-container-id-2 div.sk-label-container {\n",
              "  text-align: center;\n",
              "}\n",
              "\n",
              "/* Estimator-specific */\n",
              "#sk-container-id-2 div.sk-estimator {\n",
              "  font-family: monospace;\n",
              "  border: 1px dotted var(--sklearn-color-border-box);\n",
              "  border-radius: 0.25em;\n",
              "  box-sizing: border-box;\n",
              "  margin-bottom: 0.5em;\n",
              "  /* unfitted */\n",
              "  background-color: var(--sklearn-color-unfitted-level-0);\n",
              "}\n",
              "\n",
              "#sk-container-id-2 div.sk-estimator.fitted {\n",
              "  /* fitted */\n",
              "  background-color: var(--sklearn-color-fitted-level-0);\n",
              "}\n",
              "\n",
              "/* on hover */\n",
              "#sk-container-id-2 div.sk-estimator:hover {\n",
              "  /* unfitted */\n",
              "  background-color: var(--sklearn-color-unfitted-level-2);\n",
              "}\n",
              "\n",
              "#sk-container-id-2 div.sk-estimator.fitted:hover {\n",
              "  /* fitted */\n",
              "  background-color: var(--sklearn-color-fitted-level-2);\n",
              "}\n",
              "\n",
              "/* Specification for estimator info (e.g. \"i\" and \"?\") */\n",
              "\n",
              "/* Common style for \"i\" and \"?\" */\n",
              "\n",
              ".sk-estimator-doc-link,\n",
              "a:link.sk-estimator-doc-link,\n",
              "a:visited.sk-estimator-doc-link {\n",
              "  float: right;\n",
              "  font-size: smaller;\n",
              "  line-height: 1em;\n",
              "  font-family: monospace;\n",
              "  background-color: var(--sklearn-color-background);\n",
              "  border-radius: 1em;\n",
              "  height: 1em;\n",
              "  width: 1em;\n",
              "  text-decoration: none !important;\n",
              "  margin-left: 1ex;\n",
              "  /* unfitted */\n",
              "  border: var(--sklearn-color-unfitted-level-1) 1pt solid;\n",
              "  color: var(--sklearn-color-unfitted-level-1);\n",
              "}\n",
              "\n",
              ".sk-estimator-doc-link.fitted,\n",
              "a:link.sk-estimator-doc-link.fitted,\n",
              "a:visited.sk-estimator-doc-link.fitted {\n",
              "  /* fitted */\n",
              "  border: var(--sklearn-color-fitted-level-1) 1pt solid;\n",
              "  color: var(--sklearn-color-fitted-level-1);\n",
              "}\n",
              "\n",
              "/* On hover */\n",
              "div.sk-estimator:hover .sk-estimator-doc-link:hover,\n",
              ".sk-estimator-doc-link:hover,\n",
              "div.sk-label-container:hover .sk-estimator-doc-link:hover,\n",
              ".sk-estimator-doc-link:hover {\n",
              "  /* unfitted */\n",
              "  background-color: var(--sklearn-color-unfitted-level-3);\n",
              "  color: var(--sklearn-color-background);\n",
              "  text-decoration: none;\n",
              "}\n",
              "\n",
              "div.sk-estimator.fitted:hover .sk-estimator-doc-link.fitted:hover,\n",
              ".sk-estimator-doc-link.fitted:hover,\n",
              "div.sk-label-container:hover .sk-estimator-doc-link.fitted:hover,\n",
              ".sk-estimator-doc-link.fitted:hover {\n",
              "  /* fitted */\n",
              "  background-color: var(--sklearn-color-fitted-level-3);\n",
              "  color: var(--sklearn-color-background);\n",
              "  text-decoration: none;\n",
              "}\n",
              "\n",
              "/* Span, style for the box shown on hovering the info icon */\n",
              ".sk-estimator-doc-link span {\n",
              "  display: none;\n",
              "  z-index: 9999;\n",
              "  position: relative;\n",
              "  font-weight: normal;\n",
              "  right: .2ex;\n",
              "  padding: .5ex;\n",
              "  margin: .5ex;\n",
              "  width: min-content;\n",
              "  min-width: 20ex;\n",
              "  max-width: 50ex;\n",
              "  color: var(--sklearn-color-text);\n",
              "  box-shadow: 2pt 2pt 4pt #999;\n",
              "  /* unfitted */\n",
              "  background: var(--sklearn-color-unfitted-level-0);\n",
              "  border: .5pt solid var(--sklearn-color-unfitted-level-3);\n",
              "}\n",
              "\n",
              ".sk-estimator-doc-link.fitted span {\n",
              "  /* fitted */\n",
              "  background: var(--sklearn-color-fitted-level-0);\n",
              "  border: var(--sklearn-color-fitted-level-3);\n",
              "}\n",
              "\n",
              ".sk-estimator-doc-link:hover span {\n",
              "  display: block;\n",
              "}\n",
              "\n",
              "/* \"?\"-specific style due to the `<a>` HTML tag */\n",
              "\n",
              "#sk-container-id-2 a.estimator_doc_link {\n",
              "  float: right;\n",
              "  font-size: 1rem;\n",
              "  line-height: 1em;\n",
              "  font-family: monospace;\n",
              "  background-color: var(--sklearn-color-background);\n",
              "  border-radius: 1rem;\n",
              "  height: 1rem;\n",
              "  width: 1rem;\n",
              "  text-decoration: none;\n",
              "  /* unfitted */\n",
              "  color: var(--sklearn-color-unfitted-level-1);\n",
              "  border: var(--sklearn-color-unfitted-level-1) 1pt solid;\n",
              "}\n",
              "\n",
              "#sk-container-id-2 a.estimator_doc_link.fitted {\n",
              "  /* fitted */\n",
              "  border: var(--sklearn-color-fitted-level-1) 1pt solid;\n",
              "  color: var(--sklearn-color-fitted-level-1);\n",
              "}\n",
              "\n",
              "/* On hover */\n",
              "#sk-container-id-2 a.estimator_doc_link:hover {\n",
              "  /* unfitted */\n",
              "  background-color: var(--sklearn-color-unfitted-level-3);\n",
              "  color: var(--sklearn-color-background);\n",
              "  text-decoration: none;\n",
              "}\n",
              "\n",
              "#sk-container-id-2 a.estimator_doc_link.fitted:hover {\n",
              "  /* fitted */\n",
              "  background-color: var(--sklearn-color-fitted-level-3);\n",
              "}\n",
              "</style><div id=\"sk-container-id-2\" class=\"sk-top-container\"><div class=\"sk-text-repr-fallback\"><pre>Pipeline(steps=[(&#x27;custom&#x27;, CustomModification()),\n",
              "                (&#x27;pre_process&#x27;,\n",
              "                 ColumnTransformer(remainder=&#x27;passthrough&#x27;,\n",
              "                                   transformers=[(&#x27;dropper&#x27;, &#x27;drop&#x27;,\n",
              "                                                  [0, 1, 4, 5, 8, 10, 11, 16,\n",
              "                                                   18, 20]),\n",
              "                                                 (&#x27;ofe&#x27;, OrdinalEncoder(),\n",
              "                                                  [10]),\n",
              "                                                 (&#x27;ss&#x27;, StandardScaler(),\n",
              "                                                  [6, 12]),\n",
              "                                                 (&#x27;cp1&#x27;,\n",
              "                                                  Pipeline(steps=[(&#x27;imputer&#x27;,\n",
              "                                                                   SimpleImputer(strategy=&#x27;most_frequent&#x27;)),\n",
              "                                                                  (&#x27;encoder&#x27;,\n",
              "                                                                   OneHotEncoder(handle_unknown=&#x27;infreque...\n",
              "                                                  Pipeline(steps=[(&#x27;imputer&#x27;,\n",
              "                                                                   SimpleImputer()),\n",
              "                                                                  (&#x27;encoder&#x27;,\n",
              "                                                                   KBinsDiscretizer(encode=&#x27;onehot-dense&#x27;,\n",
              "                                                                                    strategy=&#x27;kmeans&#x27;))]),\n",
              "                                                  [2, 3]),\n",
              "                                                 (&#x27;uofe&#x27;,\n",
              "                                                  OneHotEncoder(handle_unknown=&#x27;infrequent_if_exist&#x27;,\n",
              "                                                                min_frequency=0.05,\n",
              "                                                                sparse_output=False),\n",
              "                                                  [7, 9, 15, 17, 19])])),\n",
              "                (&#x27;classifier&#x27;,\n",
              "                 BaggingClassifier(bootstrap=False, bootstrap_features=True,\n",
              "                                   estimator=DecisionTreeClassifier(),\n",
              "                                   n_estimators=50))])</pre><b>In a Jupyter environment, please rerun this cell to show the HTML representation or trust the notebook. <br />On GitHub, the HTML representation is unable to render, please try loading this page with nbviewer.org.</b></div><div class=\"sk-container\" hidden><div class=\"sk-item sk-dashed-wrapped\"><div class=\"sk-label-container\"><div class=\"sk-label fitted sk-toggleable\"><input class=\"sk-toggleable__control sk-hidden--visually\" id=\"sk-estimator-id-25\" type=\"checkbox\" ><label for=\"sk-estimator-id-25\" class=\"sk-toggleable__label fitted sk-toggleable__label-arrow fitted\">&nbsp;&nbsp;Pipeline<a class=\"sk-estimator-doc-link fitted\" rel=\"noreferrer\" target=\"_blank\" href=\"https://scikit-learn.org/1.5/modules/generated/sklearn.pipeline.Pipeline.html\">?<span>Documentation for Pipeline</span></a><span class=\"sk-estimator-doc-link fitted\">i<span>Fitted</span></span></label><div class=\"sk-toggleable__content fitted\"><pre>Pipeline(steps=[(&#x27;custom&#x27;, CustomModification()),\n",
              "                (&#x27;pre_process&#x27;,\n",
              "                 ColumnTransformer(remainder=&#x27;passthrough&#x27;,\n",
              "                                   transformers=[(&#x27;dropper&#x27;, &#x27;drop&#x27;,\n",
              "                                                  [0, 1, 4, 5, 8, 10, 11, 16,\n",
              "                                                   18, 20]),\n",
              "                                                 (&#x27;ofe&#x27;, OrdinalEncoder(),\n",
              "                                                  [10]),\n",
              "                                                 (&#x27;ss&#x27;, StandardScaler(),\n",
              "                                                  [6, 12]),\n",
              "                                                 (&#x27;cp1&#x27;,\n",
              "                                                  Pipeline(steps=[(&#x27;imputer&#x27;,\n",
              "                                                                   SimpleImputer(strategy=&#x27;most_frequent&#x27;)),\n",
              "                                                                  (&#x27;encoder&#x27;,\n",
              "                                                                   OneHotEncoder(handle_unknown=&#x27;infreque...\n",
              "                                                  Pipeline(steps=[(&#x27;imputer&#x27;,\n",
              "                                                                   SimpleImputer()),\n",
              "                                                                  (&#x27;encoder&#x27;,\n",
              "                                                                   KBinsDiscretizer(encode=&#x27;onehot-dense&#x27;,\n",
              "                                                                                    strategy=&#x27;kmeans&#x27;))]),\n",
              "                                                  [2, 3]),\n",
              "                                                 (&#x27;uofe&#x27;,\n",
              "                                                  OneHotEncoder(handle_unknown=&#x27;infrequent_if_exist&#x27;,\n",
              "                                                                min_frequency=0.05,\n",
              "                                                                sparse_output=False),\n",
              "                                                  [7, 9, 15, 17, 19])])),\n",
              "                (&#x27;classifier&#x27;,\n",
              "                 BaggingClassifier(bootstrap=False, bootstrap_features=True,\n",
              "                                   estimator=DecisionTreeClassifier(),\n",
              "                                   n_estimators=50))])</pre></div> </div></div><div class=\"sk-serial\"><div class=\"sk-item\"><div class=\"sk-estimator fitted sk-toggleable\"><input class=\"sk-toggleable__control sk-hidden--visually\" id=\"sk-estimator-id-26\" type=\"checkbox\" ><label for=\"sk-estimator-id-26\" class=\"sk-toggleable__label fitted sk-toggleable__label-arrow fitted\">CustomModification</label><div class=\"sk-toggleable__content fitted\"><pre>CustomModification()</pre></div> </div></div><div class=\"sk-item sk-dashed-wrapped\"><div class=\"sk-label-container\"><div class=\"sk-label fitted sk-toggleable\"><input class=\"sk-toggleable__control sk-hidden--visually\" id=\"sk-estimator-id-27\" type=\"checkbox\" ><label for=\"sk-estimator-id-27\" class=\"sk-toggleable__label fitted sk-toggleable__label-arrow fitted\">&nbsp;pre_process: ColumnTransformer<a class=\"sk-estimator-doc-link fitted\" rel=\"noreferrer\" target=\"_blank\" href=\"https://scikit-learn.org/1.5/modules/generated/sklearn.compose.ColumnTransformer.html\">?<span>Documentation for pre_process: ColumnTransformer</span></a></label><div class=\"sk-toggleable__content fitted\"><pre>ColumnTransformer(remainder=&#x27;passthrough&#x27;,\n",
              "                  transformers=[(&#x27;dropper&#x27;, &#x27;drop&#x27;,\n",
              "                                 [0, 1, 4, 5, 8, 10, 11, 16, 18, 20]),\n",
              "                                (&#x27;ofe&#x27;, OrdinalEncoder(), [10]),\n",
              "                                (&#x27;ss&#x27;, StandardScaler(), [6, 12]),\n",
              "                                (&#x27;cp1&#x27;,\n",
              "                                 Pipeline(steps=[(&#x27;imputer&#x27;,\n",
              "                                                  SimpleImputer(strategy=&#x27;most_frequent&#x27;)),\n",
              "                                                 (&#x27;encoder&#x27;,\n",
              "                                                  OneHotEncoder(handle_unknown=&#x27;infrequent_if_exist&#x27;,\n",
              "                                                                sparse_output=False))]),\n",
              "                                 [13, 14]),\n",
              "                                (&#x27;mms&#x27;, MinMaxScaler(),\n",
              "                                 [21, 22, 23, 24, 25, 26]),\n",
              "                                (&#x27;loc&#x27;,\n",
              "                                 Pipeline(steps=[(&#x27;imputer&#x27;, SimpleImputer()),\n",
              "                                                 (&#x27;encoder&#x27;,\n",
              "                                                  KBinsDiscretizer(encode=&#x27;onehot-dense&#x27;,\n",
              "                                                                   strategy=&#x27;kmeans&#x27;))]),\n",
              "                                 [2, 3]),\n",
              "                                (&#x27;uofe&#x27;,\n",
              "                                 OneHotEncoder(handle_unknown=&#x27;infrequent_if_exist&#x27;,\n",
              "                                               min_frequency=0.05,\n",
              "                                               sparse_output=False),\n",
              "                                 [7, 9, 15, 17, 19])])</pre></div> </div></div><div class=\"sk-parallel\"><div class=\"sk-parallel-item\"><div class=\"sk-item\"><div class=\"sk-label-container\"><div class=\"sk-label fitted sk-toggleable\"><input class=\"sk-toggleable__control sk-hidden--visually\" id=\"sk-estimator-id-28\" type=\"checkbox\" ><label for=\"sk-estimator-id-28\" class=\"sk-toggleable__label fitted sk-toggleable__label-arrow fitted\">dropper</label><div class=\"sk-toggleable__content fitted\"><pre>[0, 1, 4, 5, 8, 10, 11, 16, 18, 20]</pre></div> </div></div><div class=\"sk-serial\"><div class=\"sk-item\"><div class=\"sk-estimator fitted sk-toggleable\"><input class=\"sk-toggleable__control sk-hidden--visually\" id=\"sk-estimator-id-29\" type=\"checkbox\" ><label for=\"sk-estimator-id-29\" class=\"sk-toggleable__label fitted sk-toggleable__label-arrow fitted\">drop</label><div class=\"sk-toggleable__content fitted\"><pre>drop</pre></div> </div></div></div></div></div><div class=\"sk-parallel-item\"><div class=\"sk-item\"><div class=\"sk-label-container\"><div class=\"sk-label fitted sk-toggleable\"><input class=\"sk-toggleable__control sk-hidden--visually\" id=\"sk-estimator-id-30\" type=\"checkbox\" ><label for=\"sk-estimator-id-30\" class=\"sk-toggleable__label fitted sk-toggleable__label-arrow fitted\">ofe</label><div class=\"sk-toggleable__content fitted\"><pre>[10]</pre></div> </div></div><div class=\"sk-serial\"><div class=\"sk-item\"><div class=\"sk-estimator fitted sk-toggleable\"><input class=\"sk-toggleable__control sk-hidden--visually\" id=\"sk-estimator-id-31\" type=\"checkbox\" ><label for=\"sk-estimator-id-31\" class=\"sk-toggleable__label fitted sk-toggleable__label-arrow fitted\">&nbsp;OrdinalEncoder<a class=\"sk-estimator-doc-link fitted\" rel=\"noreferrer\" target=\"_blank\" href=\"https://scikit-learn.org/1.5/modules/generated/sklearn.preprocessing.OrdinalEncoder.html\">?<span>Documentation for OrdinalEncoder</span></a></label><div class=\"sk-toggleable__content fitted\"><pre>OrdinalEncoder()</pre></div> </div></div></div></div></div><div class=\"sk-parallel-item\"><div class=\"sk-item\"><div class=\"sk-label-container\"><div class=\"sk-label fitted sk-toggleable\"><input class=\"sk-toggleable__control sk-hidden--visually\" id=\"sk-estimator-id-32\" type=\"checkbox\" ><label for=\"sk-estimator-id-32\" class=\"sk-toggleable__label fitted sk-toggleable__label-arrow fitted\">ss</label><div class=\"sk-toggleable__content fitted\"><pre>[6, 12]</pre></div> </div></div><div class=\"sk-serial\"><div class=\"sk-item\"><div class=\"sk-estimator fitted sk-toggleable\"><input class=\"sk-toggleable__control sk-hidden--visually\" id=\"sk-estimator-id-33\" type=\"checkbox\" ><label for=\"sk-estimator-id-33\" class=\"sk-toggleable__label fitted sk-toggleable__label-arrow fitted\">&nbsp;StandardScaler<a class=\"sk-estimator-doc-link fitted\" rel=\"noreferrer\" target=\"_blank\" href=\"https://scikit-learn.org/1.5/modules/generated/sklearn.preprocessing.StandardScaler.html\">?<span>Documentation for StandardScaler</span></a></label><div class=\"sk-toggleable__content fitted\"><pre>StandardScaler()</pre></div> </div></div></div></div></div><div class=\"sk-parallel-item\"><div class=\"sk-item\"><div class=\"sk-label-container\"><div class=\"sk-label fitted sk-toggleable\"><input class=\"sk-toggleable__control sk-hidden--visually\" id=\"sk-estimator-id-34\" type=\"checkbox\" ><label for=\"sk-estimator-id-34\" class=\"sk-toggleable__label fitted sk-toggleable__label-arrow fitted\">cp1</label><div class=\"sk-toggleable__content fitted\"><pre>[13, 14]</pre></div> </div></div><div class=\"sk-serial\"><div class=\"sk-item\"><div class=\"sk-serial\"><div class=\"sk-item\"><div class=\"sk-estimator fitted sk-toggleable\"><input class=\"sk-toggleable__control sk-hidden--visually\" id=\"sk-estimator-id-35\" type=\"checkbox\" ><label for=\"sk-estimator-id-35\" class=\"sk-toggleable__label fitted sk-toggleable__label-arrow fitted\">&nbsp;SimpleImputer<a class=\"sk-estimator-doc-link fitted\" rel=\"noreferrer\" target=\"_blank\" href=\"https://scikit-learn.org/1.5/modules/generated/sklearn.impute.SimpleImputer.html\">?<span>Documentation for SimpleImputer</span></a></label><div class=\"sk-toggleable__content fitted\"><pre>SimpleImputer(strategy=&#x27;most_frequent&#x27;)</pre></div> </div></div><div class=\"sk-item\"><div class=\"sk-estimator fitted sk-toggleable\"><input class=\"sk-toggleable__control sk-hidden--visually\" id=\"sk-estimator-id-36\" type=\"checkbox\" ><label for=\"sk-estimator-id-36\" class=\"sk-toggleable__label fitted sk-toggleable__label-arrow fitted\">&nbsp;OneHotEncoder<a class=\"sk-estimator-doc-link fitted\" rel=\"noreferrer\" target=\"_blank\" href=\"https://scikit-learn.org/1.5/modules/generated/sklearn.preprocessing.OneHotEncoder.html\">?<span>Documentation for OneHotEncoder</span></a></label><div class=\"sk-toggleable__content fitted\"><pre>OneHotEncoder(handle_unknown=&#x27;infrequent_if_exist&#x27;, sparse_output=False)</pre></div> </div></div></div></div></div></div></div><div class=\"sk-parallel-item\"><div class=\"sk-item\"><div class=\"sk-label-container\"><div class=\"sk-label fitted sk-toggleable\"><input class=\"sk-toggleable__control sk-hidden--visually\" id=\"sk-estimator-id-37\" type=\"checkbox\" ><label for=\"sk-estimator-id-37\" class=\"sk-toggleable__label fitted sk-toggleable__label-arrow fitted\">mms</label><div class=\"sk-toggleable__content fitted\"><pre>[21, 22, 23, 24, 25, 26]</pre></div> </div></div><div class=\"sk-serial\"><div class=\"sk-item\"><div class=\"sk-estimator fitted sk-toggleable\"><input class=\"sk-toggleable__control sk-hidden--visually\" id=\"sk-estimator-id-38\" type=\"checkbox\" ><label for=\"sk-estimator-id-38\" class=\"sk-toggleable__label fitted sk-toggleable__label-arrow fitted\">&nbsp;MinMaxScaler<a class=\"sk-estimator-doc-link fitted\" rel=\"noreferrer\" target=\"_blank\" href=\"https://scikit-learn.org/1.5/modules/generated/sklearn.preprocessing.MinMaxScaler.html\">?<span>Documentation for MinMaxScaler</span></a></label><div class=\"sk-toggleable__content fitted\"><pre>MinMaxScaler()</pre></div> </div></div></div></div></div><div class=\"sk-parallel-item\"><div class=\"sk-item\"><div class=\"sk-label-container\"><div class=\"sk-label fitted sk-toggleable\"><input class=\"sk-toggleable__control sk-hidden--visually\" id=\"sk-estimator-id-39\" type=\"checkbox\" ><label for=\"sk-estimator-id-39\" class=\"sk-toggleable__label fitted sk-toggleable__label-arrow fitted\">loc</label><div class=\"sk-toggleable__content fitted\"><pre>[2, 3]</pre></div> </div></div><div class=\"sk-serial\"><div class=\"sk-item\"><div class=\"sk-serial\"><div class=\"sk-item\"><div class=\"sk-estimator fitted sk-toggleable\"><input class=\"sk-toggleable__control sk-hidden--visually\" id=\"sk-estimator-id-40\" type=\"checkbox\" ><label for=\"sk-estimator-id-40\" class=\"sk-toggleable__label fitted sk-toggleable__label-arrow fitted\">&nbsp;SimpleImputer<a class=\"sk-estimator-doc-link fitted\" rel=\"noreferrer\" target=\"_blank\" href=\"https://scikit-learn.org/1.5/modules/generated/sklearn.impute.SimpleImputer.html\">?<span>Documentation for SimpleImputer</span></a></label><div class=\"sk-toggleable__content fitted\"><pre>SimpleImputer()</pre></div> </div></div><div class=\"sk-item\"><div class=\"sk-estimator fitted sk-toggleable\"><input class=\"sk-toggleable__control sk-hidden--visually\" id=\"sk-estimator-id-41\" type=\"checkbox\" ><label for=\"sk-estimator-id-41\" class=\"sk-toggleable__label fitted sk-toggleable__label-arrow fitted\">&nbsp;KBinsDiscretizer<a class=\"sk-estimator-doc-link fitted\" rel=\"noreferrer\" target=\"_blank\" href=\"https://scikit-learn.org/1.5/modules/generated/sklearn.preprocessing.KBinsDiscretizer.html\">?<span>Documentation for KBinsDiscretizer</span></a></label><div class=\"sk-toggleable__content fitted\"><pre>KBinsDiscretizer(encode=&#x27;onehot-dense&#x27;, strategy=&#x27;kmeans&#x27;)</pre></div> </div></div></div></div></div></div></div><div class=\"sk-parallel-item\"><div class=\"sk-item\"><div class=\"sk-label-container\"><div class=\"sk-label fitted sk-toggleable\"><input class=\"sk-toggleable__control sk-hidden--visually\" id=\"sk-estimator-id-42\" type=\"checkbox\" ><label for=\"sk-estimator-id-42\" class=\"sk-toggleable__label fitted sk-toggleable__label-arrow fitted\">uofe</label><div class=\"sk-toggleable__content fitted\"><pre>[7, 9, 15, 17, 19]</pre></div> </div></div><div class=\"sk-serial\"><div class=\"sk-item\"><div class=\"sk-estimator fitted sk-toggleable\"><input class=\"sk-toggleable__control sk-hidden--visually\" id=\"sk-estimator-id-43\" type=\"checkbox\" ><label for=\"sk-estimator-id-43\" class=\"sk-toggleable__label fitted sk-toggleable__label-arrow fitted\">&nbsp;OneHotEncoder<a class=\"sk-estimator-doc-link fitted\" rel=\"noreferrer\" target=\"_blank\" href=\"https://scikit-learn.org/1.5/modules/generated/sklearn.preprocessing.OneHotEncoder.html\">?<span>Documentation for OneHotEncoder</span></a></label><div class=\"sk-toggleable__content fitted\"><pre>OneHotEncoder(handle_unknown=&#x27;infrequent_if_exist&#x27;, min_frequency=0.05,\n",
              "              sparse_output=False)</pre></div> </div></div></div></div></div><div class=\"sk-parallel-item\"><div class=\"sk-item\"><div class=\"sk-label-container\"><div class=\"sk-label fitted sk-toggleable\"><input class=\"sk-toggleable__control sk-hidden--visually\" id=\"sk-estimator-id-44\" type=\"checkbox\" ><label for=\"sk-estimator-id-44\" class=\"sk-toggleable__label fitted sk-toggleable__label-arrow fitted\">remainder</label><div class=\"sk-toggleable__content fitted\"><pre>[&#x27;MO_0&#x27;, &#x27;MO_1&#x27;, &#x27;MO_2&#x27;, &#x27;MO_3&#x27;, &#x27;MO_4&#x27;, &#x27;MO_5&#x27;, &#x27;MO_6&#x27;, &#x27;MO_7&#x27;, &#x27;MO_8&#x27;, &#x27;MO_9&#x27;, &#x27;MO_10&#x27;, &#x27;MO_11&#x27;, &#x27;MO_12&#x27;, &#x27;MO_13&#x27;, &#x27;MO_14&#x27;, &#x27;MO_15&#x27;, &#x27;MO_16&#x27;, &#x27;MO_17&#x27;, &#x27;MO_18&#x27;, &#x27;MO_19&#x27;, &#x27;MO_20&#x27;, &#x27;MO_21&#x27;, &#x27;MO_22&#x27;, &#x27;MO_23&#x27;, &#x27;MO_24&#x27;, &#x27;MO_25&#x27;, &#x27;MO_26&#x27;, &#x27;MO_27&#x27;, &#x27;MO_28&#x27;, &#x27;MO_29&#x27;, &#x27;MO_30&#x27;, &#x27;MO_31&#x27;, &#x27;MO_32&#x27;, &#x27;MO_33&#x27;, &#x27;MO_34&#x27;, &#x27;MO_35&#x27;, &#x27;MO_36&#x27;, &#x27;MO_37&#x27;, &#x27;MO_38&#x27;, &#x27;MO_39&#x27;, &#x27;MO_40&#x27;, &#x27;MO_41&#x27;, &#x27;MO_42&#x27;, &#x27;MO_43&#x27;, &#x27;MO_44&#x27;, &#x27;MO_45&#x27;, &#x27;MO_46&#x27;, &#x27;MO_47&#x27;, &#x27;MO_48&#x27;, &#x27;MO_49&#x27;, &#x27;MO_50&#x27;, &#x27;MO_51&#x27;, &#x27;MO_52&#x27;, &#x27;MO_53&#x27;, &#x27;MO_54&#x27;, &#x27;MO_55&#x27;, &#x27;MO_56&#x27;, &#x27;MO_57&#x27;, &#x27;MO_58&#x27;, &#x27;MO_59&#x27;, &#x27;MO_60&#x27;, &#x27;MO_61&#x27;, &#x27;MO_62&#x27;, &#x27;MO_63&#x27;, &#x27;MO_64&#x27;, &#x27;MO_65&#x27;, &#x27;MO_66&#x27;, &#x27;MO_67&#x27;, &#x27;MO_68&#x27;, &#x27;MO_69&#x27;, &#x27;MO_70&#x27;, &#x27;MO_71&#x27;, &#x27;MO_72&#x27;, &#x27;MO_73&#x27;, &#x27;MO_74&#x27;, &#x27;MO_75&#x27;, &#x27;MO_76&#x27;, &#x27;MO_77&#x27;, &#x27;MO_78&#x27;, &#x27;MO_79&#x27;, &#x27;MO_80&#x27;, &#x27;MO_81&#x27;, &#x27;MO_82&#x27;, &#x27;MO_83&#x27;, &#x27;MO_84&#x27;, &#x27;MO_85&#x27;, &#x27;MO_86&#x27;, &#x27;MO_87&#x27;, &#x27;MO_88&#x27;, &#x27;MO_89&#x27;, &#x27;MO_90&#x27;, &#x27;MO_91&#x27;, &#x27;MO_92&#x27;, &#x27;MO_93&#x27;, &#x27;MO_94&#x27;, &#x27;MO_95&#x27;, &#x27;MO_96&#x27;, &#x27;MO_97&#x27;, &#x27;MO_98&#x27;, &#x27;MO_99&#x27;, &#x27;MO_100&#x27;, &#x27;MO_101&#x27;, &#x27;MO_102&#x27;, &#x27;MO_103&#x27;, &#x27;MO_104&#x27;, &#x27;MO_105&#x27;, &#x27;MO_106&#x27;, &#x27;MO_107&#x27;, &#x27;MO_108&#x27;, &#x27;MO_109&#x27;, &#x27;MO_110&#x27;, &#x27;MO_111&#x27;, &#x27;MO_112&#x27;, &#x27;MO_113&#x27;, &#x27;MO_114&#x27;, &#x27;MO_115&#x27;, &#x27;MO_116&#x27;, &#x27;MO_117&#x27;, &#x27;MO_118&#x27;, &#x27;MO_119&#x27;, &#x27;MO_120&#x27;, &#x27;MO_121&#x27;, &#x27;MO_122&#x27;, &#x27;MO_123&#x27;, &#x27;MO_124&#x27;, &#x27;MO_125&#x27;, &#x27;MO_126&#x27;, &#x27;MO_127&#x27;, &#x27;MO_128&#x27;, &#x27;MO_129&#x27;, &#x27;MO_130&#x27;, &#x27;MO_131&#x27;, &#x27;MO_132&#x27;, &#x27;MO_133&#x27;, &#x27;MO_134&#x27;, &#x27;MO_135&#x27;, &#x27;MO_136&#x27;, &#x27;MO_137&#x27;, &#x27;MO_138&#x27;, &#x27;MO_139&#x27;, &#x27;MO_140&#x27;, &#x27;MO_141&#x27;, &#x27;MO_142&#x27;, &#x27;MO_143&#x27;, &#x27;MO_144&#x27;, &#x27;MO_145&#x27;, &#x27;MO_146&#x27;, &#x27;MO_147&#x27;, &#x27;MO_148&#x27;, &#x27;MO_149&#x27;, &#x27;MO_150&#x27;, &#x27;MO_151&#x27;, &#x27;MO_152&#x27;, &#x27;MO_153&#x27;, &#x27;MO_154&#x27;, &#x27;MO_155&#x27;, &#x27;MO_156&#x27;, &#x27;MO_157&#x27;, &#x27;MO_158&#x27;, &#x27;MO_159&#x27;, &#x27;MO_160&#x27;, &#x27;MO_161&#x27;, &#x27;MO_162&#x27;, &#x27;MO_163&#x27;, &#x27;MO_164&#x27;, &#x27;MO_165&#x27;, &#x27;MO_166&#x27;, &#x27;MO_167&#x27;, &#x27;MO_168&#x27;, &#x27;MO_169&#x27;, &#x27;MO_170&#x27;, &#x27;MO_171&#x27;, &#x27;MO_172&#x27;, &#x27;MO_173&#x27;, &#x27;MO_174&#x27;, &#x27;MO_175&#x27;, &#x27;MO_176&#x27;, &#x27;MO_177&#x27;, &#x27;MO_178&#x27;, &#x27;MO_179&#x27;, &#x27;MO_180&#x27;, &#x27;MO_181&#x27;, &#x27;MO_182&#x27;, &#x27;MO_183&#x27;, &#x27;MO_184&#x27;, &#x27;MO_185&#x27;, &#x27;MO_186&#x27;, &#x27;MO_187&#x27;, &#x27;MO_188&#x27;, &#x27;MO_189&#x27;, &#x27;MO_190&#x27;, &#x27;MO_191&#x27;, &#x27;MO_192&#x27;, &#x27;MO_193&#x27;, &#x27;MO_194&#x27;, &#x27;MO_195&#x27;, &#x27;MO_196&#x27;, &#x27;MO_197&#x27;, &#x27;MO_198&#x27;, &#x27;MO_199&#x27;, &#x27;MO_200&#x27;, &#x27;MO_201&#x27;, &#x27;MO_202&#x27;, &#x27;MO_203&#x27;, &#x27;MO_204&#x27;, &#x27;MO_205&#x27;, &#x27;MO_206&#x27;, &#x27;MO_207&#x27;, &#x27;MO_208&#x27;, &#x27;MO_209&#x27;, &#x27;MO_210&#x27;, &#x27;MO_211&#x27;, &#x27;MO_212&#x27;, &#x27;MO_213&#x27;, &#x27;MO_214&#x27;, &#x27;MO_215&#x27;, &#x27;MO_216&#x27;, &#x27;MO_217&#x27;, &#x27;MO_218&#x27;, &#x27;MO_219&#x27;, &#x27;MO_220&#x27;, &#x27;MO_221&#x27;, &#x27;MO_222&#x27;, &#x27;MO_223&#x27;, &#x27;MO_224&#x27;, &#x27;MO_225&#x27;, &#x27;MO_226&#x27;, &#x27;MO_227&#x27;, &#x27;MO_228&#x27;, &#x27;MO_229&#x27;, &#x27;MO_230&#x27;, &#x27;MO_231&#x27;, &#x27;MO_232&#x27;, &#x27;MO_233&#x27;, &#x27;MO_234&#x27;, &#x27;MO_235&#x27;, &#x27;MO_236&#x27;, &#x27;MO_237&#x27;, &#x27;MO_238&#x27;, &#x27;MO_239&#x27;, &#x27;MO_240&#x27;, &#x27;MO_241&#x27;, &#x27;MO_242&#x27;, &#x27;MO_243&#x27;, &#x27;MO_244&#x27;, &#x27;MO_245&#x27;, &#x27;MO_246&#x27;, &#x27;MO_247&#x27;, &#x27;MO_248&#x27;, &#x27;MO_249&#x27;, &#x27;MO_250&#x27;, &#x27;MO_251&#x27;, &#x27;MO_252&#x27;, &#x27;MO_253&#x27;, &#x27;MO_254&#x27;, &#x27;MO_255&#x27;, &#x27;MO_256&#x27;, &#x27;MO_257&#x27;, &#x27;MO_258&#x27;, &#x27;MO_259&#x27;, &#x27;MO_260&#x27;, &#x27;MO_261&#x27;, &#x27;MO_262&#x27;, &#x27;MO_263&#x27;, &#x27;MO_264&#x27;, &#x27;MO_265&#x27;, &#x27;MO_266&#x27;, &#x27;MO_267&#x27;, &#x27;MO_268&#x27;, &#x27;MO_269&#x27;, &#x27;MO_270&#x27;, &#x27;MO_271&#x27;, &#x27;MO_272&#x27;, &#x27;MO_273&#x27;, &#x27;MO_274&#x27;, &#x27;MO_275&#x27;, &#x27;MO_276&#x27;, &#x27;MO_277&#x27;, &#x27;MO_278&#x27;, &#x27;MO_279&#x27;, &#x27;MO_280&#x27;, &#x27;MO_281&#x27;, &#x27;MO_282&#x27;, &#x27;MO_283&#x27;, &#x27;MO_284&#x27;, &#x27;MO_285&#x27;, &#x27;MO_286&#x27;, &#x27;MO_287&#x27;, &#x27;MO_288&#x27;, &#x27;MO_289&#x27;, &#x27;MO_290&#x27;, &#x27;MO_291&#x27;, &#x27;MO_292&#x27;, &#x27;MO_293&#x27;, &#x27;MO_294&#x27;, &#x27;MO_295&#x27;, &#x27;MO_296&#x27;, &#x27;MO_297&#x27;, &#x27;MO_298&#x27;, &#x27;MO_299&#x27;, &#x27;MO_300&#x27;, &#x27;MO_301&#x27;, &#x27;MO_302&#x27;, &#x27;MO_303&#x27;, &#x27;MO_304&#x27;, &#x27;MO_305&#x27;, &#x27;MO_306&#x27;, &#x27;MO_307&#x27;, &#x27;MO_308&#x27;, &#x27;MO_309&#x27;, &#x27;MO_310&#x27;, &#x27;MO_311&#x27;, &#x27;MO_312&#x27;, &#x27;MO_313&#x27;, &#x27;MO_314&#x27;, &#x27;MO_315&#x27;, &#x27;MO_316&#x27;, &#x27;MO_317&#x27;, &#x27;MO_318&#x27;, &#x27;MO_319&#x27;, &#x27;MO_320&#x27;, &#x27;MO_321&#x27;, &#x27;MO_322&#x27;, &#x27;MO_323&#x27;, &#x27;MO_324&#x27;, &#x27;MO_325&#x27;, &#x27;MO_326&#x27;, &#x27;MO_327&#x27;, &#x27;MO_328&#x27;, &#x27;MO_329&#x27;, &#x27;MO_330&#x27;, &#x27;MO_331&#x27;, &#x27;MO_332&#x27;, &#x27;MO_333&#x27;, &#x27;MO_334&#x27;, &#x27;MO_335&#x27;, &#x27;MO_336&#x27;, &#x27;MO_337&#x27;, &#x27;MO_338&#x27;, &#x27;MO_339&#x27;, &#x27;MO_340&#x27;, &#x27;MO_341&#x27;, &#x27;MO_342&#x27;, &#x27;MO_343&#x27;, &#x27;MO_344&#x27;, &#x27;MO_345&#x27;, &#x27;MO_346&#x27;, &#x27;MO_347&#x27;, &#x27;MO_348&#x27;, &#x27;MO_349&#x27;, &#x27;MO_350&#x27;, &#x27;MO_351&#x27;, &#x27;MO_352&#x27;, &#x27;MO_353&#x27;, &#x27;MO_354&#x27;, &#x27;MO_355&#x27;, &#x27;MO_356&#x27;, &#x27;MO_357&#x27;, &#x27;MO_358&#x27;, &#x27;MO_359&#x27;, &#x27;MO_360&#x27;, &#x27;MO_361&#x27;, &#x27;MO_362&#x27;, &#x27;MO_363&#x27;, &#x27;MO_364&#x27;, &#x27;MO_365&#x27;, &#x27;MO_366&#x27;, &#x27;MO_367&#x27;, &#x27;MO_368&#x27;, &#x27;MO_369&#x27;, &#x27;MO_370&#x27;, &#x27;MO_371&#x27;, &#x27;MO_372&#x27;, &#x27;MO_373&#x27;, &#x27;MO_374&#x27;, &#x27;MO_375&#x27;, &#x27;MO_376&#x27;, &#x27;MO_377&#x27;, &#x27;MO_378&#x27;, &#x27;MO_379&#x27;, &#x27;MO_380&#x27;, &#x27;MO_381&#x27;, &#x27;MO_382&#x27;, &#x27;MO_383&#x27;, &#x27;MO_384&#x27;, &#x27;MO_385&#x27;, &#x27;MO_386&#x27;, &#x27;MO_387&#x27;, &#x27;MO_388&#x27;, &#x27;MO_389&#x27;, &#x27;MO_390&#x27;, &#x27;MO_391&#x27;, &#x27;MO_392&#x27;, &#x27;MO_393&#x27;, &#x27;MO_394&#x27;, &#x27;MO_395&#x27;, &#x27;MO_396&#x27;, &#x27;MO_397&#x27;, &#x27;MO_398&#x27;, &#x27;MO_399&#x27;, &#x27;MO_400&#x27;, &#x27;MO_401&#x27;, &#x27;MO_402&#x27;, &#x27;MO_403&#x27;, &#x27;MO_404&#x27;, &#x27;MO_405&#x27;, &#x27;MO_406&#x27;, &#x27;MO_407&#x27;, &#x27;MO_408&#x27;, &#x27;MO_409&#x27;, &#x27;MO_410&#x27;, &#x27;MO_411&#x27;, &#x27;MO_412&#x27;, &#x27;MO_413&#x27;, &#x27;MO_414&#x27;, &#x27;MO_415&#x27;, &#x27;MO_416&#x27;, &#x27;MO_417&#x27;, &#x27;MO_418&#x27;, &#x27;MO_419&#x27;, &#x27;MO_420&#x27;, &#x27;MO_421&#x27;, &#x27;MO_422&#x27;, &#x27;MO_423&#x27;, &#x27;MO_424&#x27;, &#x27;MO_425&#x27;, &#x27;MO_426&#x27;, &#x27;MO_427&#x27;, &#x27;MO_428&#x27;, &#x27;MO_429&#x27;, &#x27;MO_430&#x27;, &#x27;MO_431&#x27;, &#x27;MO_432&#x27;, &#x27;MO_433&#x27;, &#x27;MO_434&#x27;, &#x27;MO_435&#x27;, &#x27;MO_436&#x27;, &#x27;MO_437&#x27;, &#x27;MO_438&#x27;, &#x27;MO_439&#x27;, &#x27;MO_440&#x27;, &#x27;MO_441&#x27;, &#x27;MO_442&#x27;, &#x27;MO_443&#x27;, &#x27;MO_444&#x27;, &#x27;MO_445&#x27;, &#x27;MO_446&#x27;, &#x27;MO_447&#x27;, &#x27;MO_448&#x27;, &#x27;MO_449&#x27;, &#x27;MO_450&#x27;, &#x27;MO_451&#x27;, &#x27;MO_452&#x27;, &#x27;MO_453&#x27;, &#x27;MO_454&#x27;, &#x27;MO_455&#x27;, &#x27;MO_456&#x27;, &#x27;MO_457&#x27;, &#x27;MO_458&#x27;, &#x27;MO_459&#x27;, &#x27;MO_460&#x27;, &#x27;MO_461&#x27;, &#x27;MO_462&#x27;, &#x27;MO_463&#x27;, &#x27;MO_464&#x27;, &#x27;MO_465&#x27;, &#x27;MO_466&#x27;, &#x27;MO_467&#x27;, &#x27;MO_468&#x27;, &#x27;MO_469&#x27;, &#x27;MO_470&#x27;, &#x27;MO_471&#x27;, &#x27;MO_472&#x27;, &#x27;MO_473&#x27;, &#x27;MO_474&#x27;, &#x27;MO_475&#x27;, &#x27;MO_476&#x27;, &#x27;MO_477&#x27;, &#x27;MO_478&#x27;, &#x27;MO_479&#x27;, &#x27;MO_480&#x27;]</pre></div> </div></div><div class=\"sk-serial\"><div class=\"sk-item\"><div class=\"sk-estimator fitted sk-toggleable\"><input class=\"sk-toggleable__control sk-hidden--visually\" id=\"sk-estimator-id-45\" type=\"checkbox\" ><label for=\"sk-estimator-id-45\" class=\"sk-toggleable__label fitted sk-toggleable__label-arrow fitted\">passthrough</label><div class=\"sk-toggleable__content fitted\"><pre>passthrough</pre></div> </div></div></div></div></div></div></div><div class=\"sk-item sk-dashed-wrapped\"><div class=\"sk-label-container\"><div class=\"sk-label fitted sk-toggleable\"><input class=\"sk-toggleable__control sk-hidden--visually\" id=\"sk-estimator-id-46\" type=\"checkbox\" ><label for=\"sk-estimator-id-46\" class=\"sk-toggleable__label fitted sk-toggleable__label-arrow fitted\">&nbsp;classifier: BaggingClassifier<a class=\"sk-estimator-doc-link fitted\" rel=\"noreferrer\" target=\"_blank\" href=\"https://scikit-learn.org/1.5/modules/generated/sklearn.ensemble.BaggingClassifier.html\">?<span>Documentation for classifier: BaggingClassifier</span></a></label><div class=\"sk-toggleable__content fitted\"><pre>BaggingClassifier(bootstrap=False, bootstrap_features=True,\n",
              "                  estimator=DecisionTreeClassifier(), n_estimators=50)</pre></div> </div></div><div class=\"sk-parallel\"><div class=\"sk-parallel-item\"><div class=\"sk-item\"><div class=\"sk-label-container\"><div class=\"sk-label fitted sk-toggleable\"><input class=\"sk-toggleable__control sk-hidden--visually\" id=\"sk-estimator-id-47\" type=\"checkbox\" ><label for=\"sk-estimator-id-47\" class=\"sk-toggleable__label fitted sk-toggleable__label-arrow fitted\">estimator: DecisionTreeClassifier</label><div class=\"sk-toggleable__content fitted\"><pre>DecisionTreeClassifier()</pre></div> </div></div><div class=\"sk-serial\"><div class=\"sk-item\"><div class=\"sk-estimator fitted sk-toggleable\"><input class=\"sk-toggleable__control sk-hidden--visually\" id=\"sk-estimator-id-48\" type=\"checkbox\" ><label for=\"sk-estimator-id-48\" class=\"sk-toggleable__label fitted sk-toggleable__label-arrow fitted\">&nbsp;DecisionTreeClassifier<a class=\"sk-estimator-doc-link fitted\" rel=\"noreferrer\" target=\"_blank\" href=\"https://scikit-learn.org/1.5/modules/generated/sklearn.tree.DecisionTreeClassifier.html\">?<span>Documentation for DecisionTreeClassifier</span></a></label><div class=\"sk-toggleable__content fitted\"><pre>DecisionTreeClassifier()</pre></div> </div></div></div></div></div></div></div></div></div></div></div>"
            ]
          },
          "metadata": {},
          "execution_count": 34
        }
      ]
    },
    {
      "cell_type": "code",
      "source": [
        "model.fit(X, y)"
      ],
      "metadata": {
        "id": "U5b4p-l7O4N6",
        "outputId": "c627315b-a4ce-4186-f173-1986a048f025",
        "colab": {
          "base_uri": "https://localhost:8080/",
          "height": 410
        }
      },
      "id": "U5b4p-l7O4N6",
      "execution_count": null,
      "outputs": [
        {
          "output_type": "execute_result",
          "data": {
            "text/plain": [
              "Pipeline(steps=[('custommodification', CustomModification()),\n",
              "                ('columntransformer',\n",
              "                 ColumnTransformer(remainder='passthrough',\n",
              "                                   transformers=[('dropper', 'drop',\n",
              "                                                  [0, 1, 4, 5, 8, 10, 11, 16,\n",
              "                                                   18, 20]),\n",
              "                                                 ('ofe', OrdinalEncoder(),\n",
              "                                                  [10]),\n",
              "                                                 ('ss', StandardScaler(),\n",
              "                                                  [6, 12]),\n",
              "                                                 ('cp1',\n",
              "                                                  Pipeline(steps=[('imputer',\n",
              "                                                                   SimpleImputer(strategy='most_frequent')),\n",
              "                                                                  ('encoder',\n",
              "                                                                   OneHotEncoder(handle...\n",
              "                                                  OneHotEncoder(handle_unknown='infrequent_if_exist',\n",
              "                                                                min_frequency=0.05,\n",
              "                                                                sparse_output=False),\n",
              "                                                  [7, 9, 15, 17, 19])])),\n",
              "                ('votingclassifier',\n",
              "                 VotingClassifier(estimators=[('bgcv',\n",
              "                                               BaggingClassifier(bootstrap=False,\n",
              "                                                                 bootstrap_features=True,\n",
              "                                                                 estimator=DecisionTreeClassifier(),\n",
              "                                                                 n_estimators=80,\n",
              "                                                                 random_state=0)),\n",
              "                                              ('lr',\n",
              "                                               LogisticRegression(penalty='l1',\n",
              "                                                                  solver='liblinear'))],\n",
              "                                  voting='soft', weights=[0.9525, 0.9497]))])"
            ],
            "text/html": [
              "<style>#sk-container-id-8 {\n",
              "  /* Definition of color scheme common for light and dark mode */\n",
              "  --sklearn-color-text: black;\n",
              "  --sklearn-color-line: gray;\n",
              "  /* Definition of color scheme for unfitted estimators */\n",
              "  --sklearn-color-unfitted-level-0: #fff5e6;\n",
              "  --sklearn-color-unfitted-level-1: #f6e4d2;\n",
              "  --sklearn-color-unfitted-level-2: #ffe0b3;\n",
              "  --sklearn-color-unfitted-level-3: chocolate;\n",
              "  /* Definition of color scheme for fitted estimators */\n",
              "  --sklearn-color-fitted-level-0: #f0f8ff;\n",
              "  --sklearn-color-fitted-level-1: #d4ebff;\n",
              "  --sklearn-color-fitted-level-2: #b3dbfd;\n",
              "  --sklearn-color-fitted-level-3: cornflowerblue;\n",
              "\n",
              "  /* Specific color for light theme */\n",
              "  --sklearn-color-text-on-default-background: var(--sg-text-color, var(--theme-code-foreground, var(--jp-content-font-color1, black)));\n",
              "  --sklearn-color-background: var(--sg-background-color, var(--theme-background, var(--jp-layout-color0, white)));\n",
              "  --sklearn-color-border-box: var(--sg-text-color, var(--theme-code-foreground, var(--jp-content-font-color1, black)));\n",
              "  --sklearn-color-icon: #696969;\n",
              "\n",
              "  @media (prefers-color-scheme: dark) {\n",
              "    /* Redefinition of color scheme for dark theme */\n",
              "    --sklearn-color-text-on-default-background: var(--sg-text-color, var(--theme-code-foreground, var(--jp-content-font-color1, white)));\n",
              "    --sklearn-color-background: var(--sg-background-color, var(--theme-background, var(--jp-layout-color0, #111)));\n",
              "    --sklearn-color-border-box: var(--sg-text-color, var(--theme-code-foreground, var(--jp-content-font-color1, white)));\n",
              "    --sklearn-color-icon: #878787;\n",
              "  }\n",
              "}\n",
              "\n",
              "#sk-container-id-8 {\n",
              "  color: var(--sklearn-color-text);\n",
              "}\n",
              "\n",
              "#sk-container-id-8 pre {\n",
              "  padding: 0;\n",
              "}\n",
              "\n",
              "#sk-container-id-8 input.sk-hidden--visually {\n",
              "  border: 0;\n",
              "  clip: rect(1px 1px 1px 1px);\n",
              "  clip: rect(1px, 1px, 1px, 1px);\n",
              "  height: 1px;\n",
              "  margin: -1px;\n",
              "  overflow: hidden;\n",
              "  padding: 0;\n",
              "  position: absolute;\n",
              "  width: 1px;\n",
              "}\n",
              "\n",
              "#sk-container-id-8 div.sk-dashed-wrapped {\n",
              "  border: 1px dashed var(--sklearn-color-line);\n",
              "  margin: 0 0.4em 0.5em 0.4em;\n",
              "  box-sizing: border-box;\n",
              "  padding-bottom: 0.4em;\n",
              "  background-color: var(--sklearn-color-background);\n",
              "}\n",
              "\n",
              "#sk-container-id-8 div.sk-container {\n",
              "  /* jupyter's `normalize.less` sets `[hidden] { display: none; }`\n",
              "     but bootstrap.min.css set `[hidden] { display: none !important; }`\n",
              "     so we also need the `!important` here to be able to override the\n",
              "     default hidden behavior on the sphinx rendered scikit-learn.org.\n",
              "     See: https://github.com/scikit-learn/scikit-learn/issues/21755 */\n",
              "  display: inline-block !important;\n",
              "  position: relative;\n",
              "}\n",
              "\n",
              "#sk-container-id-8 div.sk-text-repr-fallback {\n",
              "  display: none;\n",
              "}\n",
              "\n",
              "div.sk-parallel-item,\n",
              "div.sk-serial,\n",
              "div.sk-item {\n",
              "  /* draw centered vertical line to link estimators */\n",
              "  background-image: linear-gradient(var(--sklearn-color-text-on-default-background), var(--sklearn-color-text-on-default-background));\n",
              "  background-size: 2px 100%;\n",
              "  background-repeat: no-repeat;\n",
              "  background-position: center center;\n",
              "}\n",
              "\n",
              "/* Parallel-specific style estimator block */\n",
              "\n",
              "#sk-container-id-8 div.sk-parallel-item::after {\n",
              "  content: \"\";\n",
              "  width: 100%;\n",
              "  border-bottom: 2px solid var(--sklearn-color-text-on-default-background);\n",
              "  flex-grow: 1;\n",
              "}\n",
              "\n",
              "#sk-container-id-8 div.sk-parallel {\n",
              "  display: flex;\n",
              "  align-items: stretch;\n",
              "  justify-content: center;\n",
              "  background-color: var(--sklearn-color-background);\n",
              "  position: relative;\n",
              "}\n",
              "\n",
              "#sk-container-id-8 div.sk-parallel-item {\n",
              "  display: flex;\n",
              "  flex-direction: column;\n",
              "}\n",
              "\n",
              "#sk-container-id-8 div.sk-parallel-item:first-child::after {\n",
              "  align-self: flex-end;\n",
              "  width: 50%;\n",
              "}\n",
              "\n",
              "#sk-container-id-8 div.sk-parallel-item:last-child::after {\n",
              "  align-self: flex-start;\n",
              "  width: 50%;\n",
              "}\n",
              "\n",
              "#sk-container-id-8 div.sk-parallel-item:only-child::after {\n",
              "  width: 0;\n",
              "}\n",
              "\n",
              "/* Serial-specific style estimator block */\n",
              "\n",
              "#sk-container-id-8 div.sk-serial {\n",
              "  display: flex;\n",
              "  flex-direction: column;\n",
              "  align-items: center;\n",
              "  background-color: var(--sklearn-color-background);\n",
              "  padding-right: 1em;\n",
              "  padding-left: 1em;\n",
              "}\n",
              "\n",
              "\n",
              "/* Toggleable style: style used for estimator/Pipeline/ColumnTransformer box that is\n",
              "clickable and can be expanded/collapsed.\n",
              "- Pipeline and ColumnTransformer use this feature and define the default style\n",
              "- Estimators will overwrite some part of the style using the `sk-estimator` class\n",
              "*/\n",
              "\n",
              "/* Pipeline and ColumnTransformer style (default) */\n",
              "\n",
              "#sk-container-id-8 div.sk-toggleable {\n",
              "  /* Default theme specific background. It is overwritten whether we have a\n",
              "  specific estimator or a Pipeline/ColumnTransformer */\n",
              "  background-color: var(--sklearn-color-background);\n",
              "}\n",
              "\n",
              "/* Toggleable label */\n",
              "#sk-container-id-8 label.sk-toggleable__label {\n",
              "  cursor: pointer;\n",
              "  display: block;\n",
              "  width: 100%;\n",
              "  margin-bottom: 0;\n",
              "  padding: 0.5em;\n",
              "  box-sizing: border-box;\n",
              "  text-align: center;\n",
              "}\n",
              "\n",
              "#sk-container-id-8 label.sk-toggleable__label-arrow:before {\n",
              "  /* Arrow on the left of the label */\n",
              "  content: \"▸\";\n",
              "  float: left;\n",
              "  margin-right: 0.25em;\n",
              "  color: var(--sklearn-color-icon);\n",
              "}\n",
              "\n",
              "#sk-container-id-8 label.sk-toggleable__label-arrow:hover:before {\n",
              "  color: var(--sklearn-color-text);\n",
              "}\n",
              "\n",
              "/* Toggleable content - dropdown */\n",
              "\n",
              "#sk-container-id-8 div.sk-toggleable__content {\n",
              "  max-height: 0;\n",
              "  max-width: 0;\n",
              "  overflow: hidden;\n",
              "  text-align: left;\n",
              "  /* unfitted */\n",
              "  background-color: var(--sklearn-color-unfitted-level-0);\n",
              "}\n",
              "\n",
              "#sk-container-id-8 div.sk-toggleable__content.fitted {\n",
              "  /* fitted */\n",
              "  background-color: var(--sklearn-color-fitted-level-0);\n",
              "}\n",
              "\n",
              "#sk-container-id-8 div.sk-toggleable__content pre {\n",
              "  margin: 0.2em;\n",
              "  border-radius: 0.25em;\n",
              "  color: var(--sklearn-color-text);\n",
              "  /* unfitted */\n",
              "  background-color: var(--sklearn-color-unfitted-level-0);\n",
              "}\n",
              "\n",
              "#sk-container-id-8 div.sk-toggleable__content.fitted pre {\n",
              "  /* unfitted */\n",
              "  background-color: var(--sklearn-color-fitted-level-0);\n",
              "}\n",
              "\n",
              "#sk-container-id-8 input.sk-toggleable__control:checked~div.sk-toggleable__content {\n",
              "  /* Expand drop-down */\n",
              "  max-height: 200px;\n",
              "  max-width: 100%;\n",
              "  overflow: auto;\n",
              "}\n",
              "\n",
              "#sk-container-id-8 input.sk-toggleable__control:checked~label.sk-toggleable__label-arrow:before {\n",
              "  content: \"▾\";\n",
              "}\n",
              "\n",
              "/* Pipeline/ColumnTransformer-specific style */\n",
              "\n",
              "#sk-container-id-8 div.sk-label input.sk-toggleable__control:checked~label.sk-toggleable__label {\n",
              "  color: var(--sklearn-color-text);\n",
              "  background-color: var(--sklearn-color-unfitted-level-2);\n",
              "}\n",
              "\n",
              "#sk-container-id-8 div.sk-label.fitted input.sk-toggleable__control:checked~label.sk-toggleable__label {\n",
              "  background-color: var(--sklearn-color-fitted-level-2);\n",
              "}\n",
              "\n",
              "/* Estimator-specific style */\n",
              "\n",
              "/* Colorize estimator box */\n",
              "#sk-container-id-8 div.sk-estimator input.sk-toggleable__control:checked~label.sk-toggleable__label {\n",
              "  /* unfitted */\n",
              "  background-color: var(--sklearn-color-unfitted-level-2);\n",
              "}\n",
              "\n",
              "#sk-container-id-8 div.sk-estimator.fitted input.sk-toggleable__control:checked~label.sk-toggleable__label {\n",
              "  /* fitted */\n",
              "  background-color: var(--sklearn-color-fitted-level-2);\n",
              "}\n",
              "\n",
              "#sk-container-id-8 div.sk-label label.sk-toggleable__label,\n",
              "#sk-container-id-8 div.sk-label label {\n",
              "  /* The background is the default theme color */\n",
              "  color: var(--sklearn-color-text-on-default-background);\n",
              "}\n",
              "\n",
              "/* On hover, darken the color of the background */\n",
              "#sk-container-id-8 div.sk-label:hover label.sk-toggleable__label {\n",
              "  color: var(--sklearn-color-text);\n",
              "  background-color: var(--sklearn-color-unfitted-level-2);\n",
              "}\n",
              "\n",
              "/* Label box, darken color on hover, fitted */\n",
              "#sk-container-id-8 div.sk-label.fitted:hover label.sk-toggleable__label.fitted {\n",
              "  color: var(--sklearn-color-text);\n",
              "  background-color: var(--sklearn-color-fitted-level-2);\n",
              "}\n",
              "\n",
              "/* Estimator label */\n",
              "\n",
              "#sk-container-id-8 div.sk-label label {\n",
              "  font-family: monospace;\n",
              "  font-weight: bold;\n",
              "  display: inline-block;\n",
              "  line-height: 1.2em;\n",
              "}\n",
              "\n",
              "#sk-container-id-8 div.sk-label-container {\n",
              "  text-align: center;\n",
              "}\n",
              "\n",
              "/* Estimator-specific */\n",
              "#sk-container-id-8 div.sk-estimator {\n",
              "  font-family: monospace;\n",
              "  border: 1px dotted var(--sklearn-color-border-box);\n",
              "  border-radius: 0.25em;\n",
              "  box-sizing: border-box;\n",
              "  margin-bottom: 0.5em;\n",
              "  /* unfitted */\n",
              "  background-color: var(--sklearn-color-unfitted-level-0);\n",
              "}\n",
              "\n",
              "#sk-container-id-8 div.sk-estimator.fitted {\n",
              "  /* fitted */\n",
              "  background-color: var(--sklearn-color-fitted-level-0);\n",
              "}\n",
              "\n",
              "/* on hover */\n",
              "#sk-container-id-8 div.sk-estimator:hover {\n",
              "  /* unfitted */\n",
              "  background-color: var(--sklearn-color-unfitted-level-2);\n",
              "}\n",
              "\n",
              "#sk-container-id-8 div.sk-estimator.fitted:hover {\n",
              "  /* fitted */\n",
              "  background-color: var(--sklearn-color-fitted-level-2);\n",
              "}\n",
              "\n",
              "/* Specification for estimator info (e.g. \"i\" and \"?\") */\n",
              "\n",
              "/* Common style for \"i\" and \"?\" */\n",
              "\n",
              ".sk-estimator-doc-link,\n",
              "a:link.sk-estimator-doc-link,\n",
              "a:visited.sk-estimator-doc-link {\n",
              "  float: right;\n",
              "  font-size: smaller;\n",
              "  line-height: 1em;\n",
              "  font-family: monospace;\n",
              "  background-color: var(--sklearn-color-background);\n",
              "  border-radius: 1em;\n",
              "  height: 1em;\n",
              "  width: 1em;\n",
              "  text-decoration: none !important;\n",
              "  margin-left: 1ex;\n",
              "  /* unfitted */\n",
              "  border: var(--sklearn-color-unfitted-level-1) 1pt solid;\n",
              "  color: var(--sklearn-color-unfitted-level-1);\n",
              "}\n",
              "\n",
              ".sk-estimator-doc-link.fitted,\n",
              "a:link.sk-estimator-doc-link.fitted,\n",
              "a:visited.sk-estimator-doc-link.fitted {\n",
              "  /* fitted */\n",
              "  border: var(--sklearn-color-fitted-level-1) 1pt solid;\n",
              "  color: var(--sklearn-color-fitted-level-1);\n",
              "}\n",
              "\n",
              "/* On hover */\n",
              "div.sk-estimator:hover .sk-estimator-doc-link:hover,\n",
              ".sk-estimator-doc-link:hover,\n",
              "div.sk-label-container:hover .sk-estimator-doc-link:hover,\n",
              ".sk-estimator-doc-link:hover {\n",
              "  /* unfitted */\n",
              "  background-color: var(--sklearn-color-unfitted-level-3);\n",
              "  color: var(--sklearn-color-background);\n",
              "  text-decoration: none;\n",
              "}\n",
              "\n",
              "div.sk-estimator.fitted:hover .sk-estimator-doc-link.fitted:hover,\n",
              ".sk-estimator-doc-link.fitted:hover,\n",
              "div.sk-label-container:hover .sk-estimator-doc-link.fitted:hover,\n",
              ".sk-estimator-doc-link.fitted:hover {\n",
              "  /* fitted */\n",
              "  background-color: var(--sklearn-color-fitted-level-3);\n",
              "  color: var(--sklearn-color-background);\n",
              "  text-decoration: none;\n",
              "}\n",
              "\n",
              "/* Span, style for the box shown on hovering the info icon */\n",
              ".sk-estimator-doc-link span {\n",
              "  display: none;\n",
              "  z-index: 9999;\n",
              "  position: relative;\n",
              "  font-weight: normal;\n",
              "  right: .2ex;\n",
              "  padding: .5ex;\n",
              "  margin: .5ex;\n",
              "  width: min-content;\n",
              "  min-width: 20ex;\n",
              "  max-width: 50ex;\n",
              "  color: var(--sklearn-color-text);\n",
              "  box-shadow: 2pt 2pt 4pt #999;\n",
              "  /* unfitted */\n",
              "  background: var(--sklearn-color-unfitted-level-0);\n",
              "  border: .5pt solid var(--sklearn-color-unfitted-level-3);\n",
              "}\n",
              "\n",
              ".sk-estimator-doc-link.fitted span {\n",
              "  /* fitted */\n",
              "  background: var(--sklearn-color-fitted-level-0);\n",
              "  border: var(--sklearn-color-fitted-level-3);\n",
              "}\n",
              "\n",
              ".sk-estimator-doc-link:hover span {\n",
              "  display: block;\n",
              "}\n",
              "\n",
              "/* \"?\"-specific style due to the `<a>` HTML tag */\n",
              "\n",
              "#sk-container-id-8 a.estimator_doc_link {\n",
              "  float: right;\n",
              "  font-size: 1rem;\n",
              "  line-height: 1em;\n",
              "  font-family: monospace;\n",
              "  background-color: var(--sklearn-color-background);\n",
              "  border-radius: 1rem;\n",
              "  height: 1rem;\n",
              "  width: 1rem;\n",
              "  text-decoration: none;\n",
              "  /* unfitted */\n",
              "  color: var(--sklearn-color-unfitted-level-1);\n",
              "  border: var(--sklearn-color-unfitted-level-1) 1pt solid;\n",
              "}\n",
              "\n",
              "#sk-container-id-8 a.estimator_doc_link.fitted {\n",
              "  /* fitted */\n",
              "  border: var(--sklearn-color-fitted-level-1) 1pt solid;\n",
              "  color: var(--sklearn-color-fitted-level-1);\n",
              "}\n",
              "\n",
              "/* On hover */\n",
              "#sk-container-id-8 a.estimator_doc_link:hover {\n",
              "  /* unfitted */\n",
              "  background-color: var(--sklearn-color-unfitted-level-3);\n",
              "  color: var(--sklearn-color-background);\n",
              "  text-decoration: none;\n",
              "}\n",
              "\n",
              "#sk-container-id-8 a.estimator_doc_link.fitted:hover {\n",
              "  /* fitted */\n",
              "  background-color: var(--sklearn-color-fitted-level-3);\n",
              "}\n",
              "</style><div id=\"sk-container-id-8\" class=\"sk-top-container\"><div class=\"sk-text-repr-fallback\"><pre>Pipeline(steps=[(&#x27;custommodification&#x27;, CustomModification()),\n",
              "                (&#x27;columntransformer&#x27;,\n",
              "                 ColumnTransformer(remainder=&#x27;passthrough&#x27;,\n",
              "                                   transformers=[(&#x27;dropper&#x27;, &#x27;drop&#x27;,\n",
              "                                                  [0, 1, 4, 5, 8, 10, 11, 16,\n",
              "                                                   18, 20]),\n",
              "                                                 (&#x27;ofe&#x27;, OrdinalEncoder(),\n",
              "                                                  [10]),\n",
              "                                                 (&#x27;ss&#x27;, StandardScaler(),\n",
              "                                                  [6, 12]),\n",
              "                                                 (&#x27;cp1&#x27;,\n",
              "                                                  Pipeline(steps=[(&#x27;imputer&#x27;,\n",
              "                                                                   SimpleImputer(strategy=&#x27;most_frequent&#x27;)),\n",
              "                                                                  (&#x27;encoder&#x27;,\n",
              "                                                                   OneHotEncoder(handle...\n",
              "                                                  OneHotEncoder(handle_unknown=&#x27;infrequent_if_exist&#x27;,\n",
              "                                                                min_frequency=0.05,\n",
              "                                                                sparse_output=False),\n",
              "                                                  [7, 9, 15, 17, 19])])),\n",
              "                (&#x27;votingclassifier&#x27;,\n",
              "                 VotingClassifier(estimators=[(&#x27;bgcv&#x27;,\n",
              "                                               BaggingClassifier(bootstrap=False,\n",
              "                                                                 bootstrap_features=True,\n",
              "                                                                 estimator=DecisionTreeClassifier(),\n",
              "                                                                 n_estimators=80,\n",
              "                                                                 random_state=0)),\n",
              "                                              (&#x27;lr&#x27;,\n",
              "                                               LogisticRegression(penalty=&#x27;l1&#x27;,\n",
              "                                                                  solver=&#x27;liblinear&#x27;))],\n",
              "                                  voting=&#x27;soft&#x27;, weights=[0.9525, 0.9497]))])</pre><b>In a Jupyter environment, please rerun this cell to show the HTML representation or trust the notebook. <br />On GitHub, the HTML representation is unable to render, please try loading this page with nbviewer.org.</b></div><div class=\"sk-container\" hidden><div class=\"sk-item sk-dashed-wrapped\"><div class=\"sk-label-container\"><div class=\"sk-label fitted sk-toggleable\"><input class=\"sk-toggleable__control sk-hidden--visually\" id=\"sk-estimator-id-140\" type=\"checkbox\" ><label for=\"sk-estimator-id-140\" class=\"sk-toggleable__label fitted sk-toggleable__label-arrow fitted\">&nbsp;&nbsp;Pipeline<a class=\"sk-estimator-doc-link fitted\" rel=\"noreferrer\" target=\"_blank\" href=\"https://scikit-learn.org/1.5/modules/generated/sklearn.pipeline.Pipeline.html\">?<span>Documentation for Pipeline</span></a><span class=\"sk-estimator-doc-link fitted\">i<span>Fitted</span></span></label><div class=\"sk-toggleable__content fitted\"><pre>Pipeline(steps=[(&#x27;custommodification&#x27;, CustomModification()),\n",
              "                (&#x27;columntransformer&#x27;,\n",
              "                 ColumnTransformer(remainder=&#x27;passthrough&#x27;,\n",
              "                                   transformers=[(&#x27;dropper&#x27;, &#x27;drop&#x27;,\n",
              "                                                  [0, 1, 4, 5, 8, 10, 11, 16,\n",
              "                                                   18, 20]),\n",
              "                                                 (&#x27;ofe&#x27;, OrdinalEncoder(),\n",
              "                                                  [10]),\n",
              "                                                 (&#x27;ss&#x27;, StandardScaler(),\n",
              "                                                  [6, 12]),\n",
              "                                                 (&#x27;cp1&#x27;,\n",
              "                                                  Pipeline(steps=[(&#x27;imputer&#x27;,\n",
              "                                                                   SimpleImputer(strategy=&#x27;most_frequent&#x27;)),\n",
              "                                                                  (&#x27;encoder&#x27;,\n",
              "                                                                   OneHotEncoder(handle...\n",
              "                                                  OneHotEncoder(handle_unknown=&#x27;infrequent_if_exist&#x27;,\n",
              "                                                                min_frequency=0.05,\n",
              "                                                                sparse_output=False),\n",
              "                                                  [7, 9, 15, 17, 19])])),\n",
              "                (&#x27;votingclassifier&#x27;,\n",
              "                 VotingClassifier(estimators=[(&#x27;bgcv&#x27;,\n",
              "                                               BaggingClassifier(bootstrap=False,\n",
              "                                                                 bootstrap_features=True,\n",
              "                                                                 estimator=DecisionTreeClassifier(),\n",
              "                                                                 n_estimators=80,\n",
              "                                                                 random_state=0)),\n",
              "                                              (&#x27;lr&#x27;,\n",
              "                                               LogisticRegression(penalty=&#x27;l1&#x27;,\n",
              "                                                                  solver=&#x27;liblinear&#x27;))],\n",
              "                                  voting=&#x27;soft&#x27;, weights=[0.9525, 0.9497]))])</pre></div> </div></div><div class=\"sk-serial\"><div class=\"sk-item\"><div class=\"sk-estimator fitted sk-toggleable\"><input class=\"sk-toggleable__control sk-hidden--visually\" id=\"sk-estimator-id-141\" type=\"checkbox\" ><label for=\"sk-estimator-id-141\" class=\"sk-toggleable__label fitted sk-toggleable__label-arrow fitted\">CustomModification</label><div class=\"sk-toggleable__content fitted\"><pre>CustomModification()</pre></div> </div></div><div class=\"sk-item sk-dashed-wrapped\"><div class=\"sk-label-container\"><div class=\"sk-label fitted sk-toggleable\"><input class=\"sk-toggleable__control sk-hidden--visually\" id=\"sk-estimator-id-142\" type=\"checkbox\" ><label for=\"sk-estimator-id-142\" class=\"sk-toggleable__label fitted sk-toggleable__label-arrow fitted\">&nbsp;columntransformer: ColumnTransformer<a class=\"sk-estimator-doc-link fitted\" rel=\"noreferrer\" target=\"_blank\" href=\"https://scikit-learn.org/1.5/modules/generated/sklearn.compose.ColumnTransformer.html\">?<span>Documentation for columntransformer: ColumnTransformer</span></a></label><div class=\"sk-toggleable__content fitted\"><pre>ColumnTransformer(remainder=&#x27;passthrough&#x27;,\n",
              "                  transformers=[(&#x27;dropper&#x27;, &#x27;drop&#x27;,\n",
              "                                 [0, 1, 4, 5, 8, 10, 11, 16, 18, 20]),\n",
              "                                (&#x27;ofe&#x27;, OrdinalEncoder(), [10]),\n",
              "                                (&#x27;ss&#x27;, StandardScaler(), [6, 12]),\n",
              "                                (&#x27;cp1&#x27;,\n",
              "                                 Pipeline(steps=[(&#x27;imputer&#x27;,\n",
              "                                                  SimpleImputer(strategy=&#x27;most_frequent&#x27;)),\n",
              "                                                 (&#x27;encoder&#x27;,\n",
              "                                                  OneHotEncoder(handle_unknown=&#x27;infrequent_if_exist&#x27;,\n",
              "                                                                sparse_output=False))]),\n",
              "                                 [13, 14]),\n",
              "                                (&#x27;mms&#x27;, MinMaxScaler(),\n",
              "                                 [21, 22, 23, 24, 25, 26]),\n",
              "                                (&#x27;loc&#x27;,\n",
              "                                 Pipeline(steps=[(&#x27;imputer&#x27;, SimpleImputer()),\n",
              "                                                 (&#x27;encoder&#x27;,\n",
              "                                                  KBinsDiscretizer(encode=&#x27;onehot-dense&#x27;,\n",
              "                                                                   strategy=&#x27;kmeans&#x27;))]),\n",
              "                                 [2, 3]),\n",
              "                                (&#x27;uofe&#x27;,\n",
              "                                 OneHotEncoder(handle_unknown=&#x27;infrequent_if_exist&#x27;,\n",
              "                                               min_frequency=0.05,\n",
              "                                               sparse_output=False),\n",
              "                                 [7, 9, 15, 17, 19])])</pre></div> </div></div><div class=\"sk-parallel\"><div class=\"sk-parallel-item\"><div class=\"sk-item\"><div class=\"sk-label-container\"><div class=\"sk-label fitted sk-toggleable\"><input class=\"sk-toggleable__control sk-hidden--visually\" id=\"sk-estimator-id-143\" type=\"checkbox\" ><label for=\"sk-estimator-id-143\" class=\"sk-toggleable__label fitted sk-toggleable__label-arrow fitted\">dropper</label><div class=\"sk-toggleable__content fitted\"><pre>[0, 1, 4, 5, 8, 10, 11, 16, 18, 20]</pre></div> </div></div><div class=\"sk-serial\"><div class=\"sk-item\"><div class=\"sk-estimator fitted sk-toggleable\"><input class=\"sk-toggleable__control sk-hidden--visually\" id=\"sk-estimator-id-144\" type=\"checkbox\" ><label for=\"sk-estimator-id-144\" class=\"sk-toggleable__label fitted sk-toggleable__label-arrow fitted\">drop</label><div class=\"sk-toggleable__content fitted\"><pre>drop</pre></div> </div></div></div></div></div><div class=\"sk-parallel-item\"><div class=\"sk-item\"><div class=\"sk-label-container\"><div class=\"sk-label fitted sk-toggleable\"><input class=\"sk-toggleable__control sk-hidden--visually\" id=\"sk-estimator-id-145\" type=\"checkbox\" ><label for=\"sk-estimator-id-145\" class=\"sk-toggleable__label fitted sk-toggleable__label-arrow fitted\">ofe</label><div class=\"sk-toggleable__content fitted\"><pre>[10]</pre></div> </div></div><div class=\"sk-serial\"><div class=\"sk-item\"><div class=\"sk-estimator fitted sk-toggleable\"><input class=\"sk-toggleable__control sk-hidden--visually\" id=\"sk-estimator-id-146\" type=\"checkbox\" ><label for=\"sk-estimator-id-146\" class=\"sk-toggleable__label fitted sk-toggleable__label-arrow fitted\">&nbsp;OrdinalEncoder<a class=\"sk-estimator-doc-link fitted\" rel=\"noreferrer\" target=\"_blank\" href=\"https://scikit-learn.org/1.5/modules/generated/sklearn.preprocessing.OrdinalEncoder.html\">?<span>Documentation for OrdinalEncoder</span></a></label><div class=\"sk-toggleable__content fitted\"><pre>OrdinalEncoder()</pre></div> </div></div></div></div></div><div class=\"sk-parallel-item\"><div class=\"sk-item\"><div class=\"sk-label-container\"><div class=\"sk-label fitted sk-toggleable\"><input class=\"sk-toggleable__control sk-hidden--visually\" id=\"sk-estimator-id-147\" type=\"checkbox\" ><label for=\"sk-estimator-id-147\" class=\"sk-toggleable__label fitted sk-toggleable__label-arrow fitted\">ss</label><div class=\"sk-toggleable__content fitted\"><pre>[6, 12]</pre></div> </div></div><div class=\"sk-serial\"><div class=\"sk-item\"><div class=\"sk-estimator fitted sk-toggleable\"><input class=\"sk-toggleable__control sk-hidden--visually\" id=\"sk-estimator-id-148\" type=\"checkbox\" ><label for=\"sk-estimator-id-148\" class=\"sk-toggleable__label fitted sk-toggleable__label-arrow fitted\">&nbsp;StandardScaler<a class=\"sk-estimator-doc-link fitted\" rel=\"noreferrer\" target=\"_blank\" href=\"https://scikit-learn.org/1.5/modules/generated/sklearn.preprocessing.StandardScaler.html\">?<span>Documentation for StandardScaler</span></a></label><div class=\"sk-toggleable__content fitted\"><pre>StandardScaler()</pre></div> </div></div></div></div></div><div class=\"sk-parallel-item\"><div class=\"sk-item\"><div class=\"sk-label-container\"><div class=\"sk-label fitted sk-toggleable\"><input class=\"sk-toggleable__control sk-hidden--visually\" id=\"sk-estimator-id-149\" type=\"checkbox\" ><label for=\"sk-estimator-id-149\" class=\"sk-toggleable__label fitted sk-toggleable__label-arrow fitted\">cp1</label><div class=\"sk-toggleable__content fitted\"><pre>[13, 14]</pre></div> </div></div><div class=\"sk-serial\"><div class=\"sk-item\"><div class=\"sk-serial\"><div class=\"sk-item\"><div class=\"sk-estimator fitted sk-toggleable\"><input class=\"sk-toggleable__control sk-hidden--visually\" id=\"sk-estimator-id-150\" type=\"checkbox\" ><label for=\"sk-estimator-id-150\" class=\"sk-toggleable__label fitted sk-toggleable__label-arrow fitted\">&nbsp;SimpleImputer<a class=\"sk-estimator-doc-link fitted\" rel=\"noreferrer\" target=\"_blank\" href=\"https://scikit-learn.org/1.5/modules/generated/sklearn.impute.SimpleImputer.html\">?<span>Documentation for SimpleImputer</span></a></label><div class=\"sk-toggleable__content fitted\"><pre>SimpleImputer(strategy=&#x27;most_frequent&#x27;)</pre></div> </div></div><div class=\"sk-item\"><div class=\"sk-estimator fitted sk-toggleable\"><input class=\"sk-toggleable__control sk-hidden--visually\" id=\"sk-estimator-id-151\" type=\"checkbox\" ><label for=\"sk-estimator-id-151\" class=\"sk-toggleable__label fitted sk-toggleable__label-arrow fitted\">&nbsp;OneHotEncoder<a class=\"sk-estimator-doc-link fitted\" rel=\"noreferrer\" target=\"_blank\" href=\"https://scikit-learn.org/1.5/modules/generated/sklearn.preprocessing.OneHotEncoder.html\">?<span>Documentation for OneHotEncoder</span></a></label><div class=\"sk-toggleable__content fitted\"><pre>OneHotEncoder(handle_unknown=&#x27;infrequent_if_exist&#x27;, sparse_output=False)</pre></div> </div></div></div></div></div></div></div><div class=\"sk-parallel-item\"><div class=\"sk-item\"><div class=\"sk-label-container\"><div class=\"sk-label fitted sk-toggleable\"><input class=\"sk-toggleable__control sk-hidden--visually\" id=\"sk-estimator-id-152\" type=\"checkbox\" ><label for=\"sk-estimator-id-152\" class=\"sk-toggleable__label fitted sk-toggleable__label-arrow fitted\">mms</label><div class=\"sk-toggleable__content fitted\"><pre>[21, 22, 23, 24, 25, 26]</pre></div> </div></div><div class=\"sk-serial\"><div class=\"sk-item\"><div class=\"sk-estimator fitted sk-toggleable\"><input class=\"sk-toggleable__control sk-hidden--visually\" id=\"sk-estimator-id-153\" type=\"checkbox\" ><label for=\"sk-estimator-id-153\" class=\"sk-toggleable__label fitted sk-toggleable__label-arrow fitted\">&nbsp;MinMaxScaler<a class=\"sk-estimator-doc-link fitted\" rel=\"noreferrer\" target=\"_blank\" href=\"https://scikit-learn.org/1.5/modules/generated/sklearn.preprocessing.MinMaxScaler.html\">?<span>Documentation for MinMaxScaler</span></a></label><div class=\"sk-toggleable__content fitted\"><pre>MinMaxScaler()</pre></div> </div></div></div></div></div><div class=\"sk-parallel-item\"><div class=\"sk-item\"><div class=\"sk-label-container\"><div class=\"sk-label fitted sk-toggleable\"><input class=\"sk-toggleable__control sk-hidden--visually\" id=\"sk-estimator-id-154\" type=\"checkbox\" ><label for=\"sk-estimator-id-154\" class=\"sk-toggleable__label fitted sk-toggleable__label-arrow fitted\">loc</label><div class=\"sk-toggleable__content fitted\"><pre>[2, 3]</pre></div> </div></div><div class=\"sk-serial\"><div class=\"sk-item\"><div class=\"sk-serial\"><div class=\"sk-item\"><div class=\"sk-estimator fitted sk-toggleable\"><input class=\"sk-toggleable__control sk-hidden--visually\" id=\"sk-estimator-id-155\" type=\"checkbox\" ><label for=\"sk-estimator-id-155\" class=\"sk-toggleable__label fitted sk-toggleable__label-arrow fitted\">&nbsp;SimpleImputer<a class=\"sk-estimator-doc-link fitted\" rel=\"noreferrer\" target=\"_blank\" href=\"https://scikit-learn.org/1.5/modules/generated/sklearn.impute.SimpleImputer.html\">?<span>Documentation for SimpleImputer</span></a></label><div class=\"sk-toggleable__content fitted\"><pre>SimpleImputer()</pre></div> </div></div><div class=\"sk-item\"><div class=\"sk-estimator fitted sk-toggleable\"><input class=\"sk-toggleable__control sk-hidden--visually\" id=\"sk-estimator-id-156\" type=\"checkbox\" ><label for=\"sk-estimator-id-156\" class=\"sk-toggleable__label fitted sk-toggleable__label-arrow fitted\">&nbsp;KBinsDiscretizer<a class=\"sk-estimator-doc-link fitted\" rel=\"noreferrer\" target=\"_blank\" href=\"https://scikit-learn.org/1.5/modules/generated/sklearn.preprocessing.KBinsDiscretizer.html\">?<span>Documentation for KBinsDiscretizer</span></a></label><div class=\"sk-toggleable__content fitted\"><pre>KBinsDiscretizer(encode=&#x27;onehot-dense&#x27;, strategy=&#x27;kmeans&#x27;)</pre></div> </div></div></div></div></div></div></div><div class=\"sk-parallel-item\"><div class=\"sk-item\"><div class=\"sk-label-container\"><div class=\"sk-label fitted sk-toggleable\"><input class=\"sk-toggleable__control sk-hidden--visually\" id=\"sk-estimator-id-157\" type=\"checkbox\" ><label for=\"sk-estimator-id-157\" class=\"sk-toggleable__label fitted sk-toggleable__label-arrow fitted\">uofe</label><div class=\"sk-toggleable__content fitted\"><pre>[7, 9, 15, 17, 19]</pre></div> </div></div><div class=\"sk-serial\"><div class=\"sk-item\"><div class=\"sk-estimator fitted sk-toggleable\"><input class=\"sk-toggleable__control sk-hidden--visually\" id=\"sk-estimator-id-158\" type=\"checkbox\" ><label for=\"sk-estimator-id-158\" class=\"sk-toggleable__label fitted sk-toggleable__label-arrow fitted\">&nbsp;OneHotEncoder<a class=\"sk-estimator-doc-link fitted\" rel=\"noreferrer\" target=\"_blank\" href=\"https://scikit-learn.org/1.5/modules/generated/sklearn.preprocessing.OneHotEncoder.html\">?<span>Documentation for OneHotEncoder</span></a></label><div class=\"sk-toggleable__content fitted\"><pre>OneHotEncoder(handle_unknown=&#x27;infrequent_if_exist&#x27;, min_frequency=0.05,\n",
              "              sparse_output=False)</pre></div> </div></div></div></div></div><div class=\"sk-parallel-item\"><div class=\"sk-item\"><div class=\"sk-label-container\"><div class=\"sk-label fitted sk-toggleable\"><input class=\"sk-toggleable__control sk-hidden--visually\" id=\"sk-estimator-id-159\" type=\"checkbox\" ><label for=\"sk-estimator-id-159\" class=\"sk-toggleable__label fitted sk-toggleable__label-arrow fitted\">remainder</label><div class=\"sk-toggleable__content fitted\"><pre>[&#x27;MO_0&#x27;, &#x27;MO_1&#x27;, &#x27;MO_2&#x27;, &#x27;MO_3&#x27;, &#x27;MO_4&#x27;, &#x27;MO_5&#x27;, &#x27;MO_6&#x27;, &#x27;MO_7&#x27;, &#x27;MO_8&#x27;, &#x27;MO_9&#x27;, &#x27;MO_10&#x27;, &#x27;MO_11&#x27;, &#x27;MO_12&#x27;, &#x27;MO_13&#x27;, &#x27;MO_14&#x27;, &#x27;MO_15&#x27;, &#x27;MO_16&#x27;, &#x27;MO_17&#x27;, &#x27;MO_18&#x27;, &#x27;MO_19&#x27;, &#x27;MO_20&#x27;, &#x27;MO_21&#x27;, &#x27;MO_22&#x27;, &#x27;MO_23&#x27;, &#x27;MO_24&#x27;, &#x27;MO_25&#x27;, &#x27;MO_26&#x27;, &#x27;MO_27&#x27;, &#x27;MO_28&#x27;, &#x27;MO_29&#x27;, &#x27;MO_30&#x27;, &#x27;MO_31&#x27;, &#x27;MO_32&#x27;, &#x27;MO_33&#x27;, &#x27;MO_34&#x27;, &#x27;MO_35&#x27;, &#x27;MO_36&#x27;, &#x27;MO_37&#x27;, &#x27;MO_38&#x27;, &#x27;MO_39&#x27;, &#x27;MO_40&#x27;, &#x27;MO_41&#x27;, &#x27;MO_42&#x27;, &#x27;MO_43&#x27;, &#x27;MO_44&#x27;, &#x27;MO_45&#x27;, &#x27;MO_46&#x27;, &#x27;MO_47&#x27;, &#x27;MO_48&#x27;, &#x27;MO_49&#x27;, &#x27;MO_50&#x27;, &#x27;MO_51&#x27;, &#x27;MO_52&#x27;, &#x27;MO_53&#x27;, &#x27;MO_54&#x27;, &#x27;MO_55&#x27;, &#x27;MO_56&#x27;, &#x27;MO_57&#x27;, &#x27;MO_58&#x27;, &#x27;MO_59&#x27;, &#x27;MO_60&#x27;, &#x27;MO_61&#x27;, &#x27;MO_62&#x27;, &#x27;MO_63&#x27;, &#x27;MO_64&#x27;, &#x27;MO_65&#x27;, &#x27;MO_66&#x27;, &#x27;MO_67&#x27;, &#x27;MO_68&#x27;, &#x27;MO_69&#x27;, &#x27;MO_70&#x27;, &#x27;MO_71&#x27;, &#x27;MO_72&#x27;, &#x27;MO_73&#x27;, &#x27;MO_74&#x27;, &#x27;MO_75&#x27;, &#x27;MO_76&#x27;, &#x27;MO_77&#x27;, &#x27;MO_78&#x27;, &#x27;MO_79&#x27;, &#x27;MO_80&#x27;, &#x27;MO_81&#x27;, &#x27;MO_82&#x27;, &#x27;MO_83&#x27;, &#x27;MO_84&#x27;, &#x27;MO_85&#x27;, &#x27;MO_86&#x27;, &#x27;MO_87&#x27;, &#x27;MO_88&#x27;, &#x27;MO_89&#x27;, &#x27;MO_90&#x27;, &#x27;MO_91&#x27;, &#x27;MO_92&#x27;, &#x27;MO_93&#x27;, &#x27;MO_94&#x27;, &#x27;MO_95&#x27;, &#x27;MO_96&#x27;, &#x27;MO_97&#x27;, &#x27;MO_98&#x27;, &#x27;MO_99&#x27;, &#x27;MO_100&#x27;, &#x27;MO_101&#x27;, &#x27;MO_102&#x27;, &#x27;MO_103&#x27;, &#x27;MO_104&#x27;, &#x27;MO_105&#x27;, &#x27;MO_106&#x27;, &#x27;MO_107&#x27;, &#x27;MO_108&#x27;, &#x27;MO_109&#x27;, &#x27;MO_110&#x27;, &#x27;MO_111&#x27;, &#x27;MO_112&#x27;, &#x27;MO_113&#x27;, &#x27;MO_114&#x27;, &#x27;MO_115&#x27;, &#x27;MO_116&#x27;, &#x27;MO_117&#x27;, &#x27;MO_118&#x27;, &#x27;MO_119&#x27;, &#x27;MO_120&#x27;, &#x27;MO_121&#x27;, &#x27;MO_122&#x27;, &#x27;MO_123&#x27;, &#x27;MO_124&#x27;, &#x27;MO_125&#x27;, &#x27;MO_126&#x27;, &#x27;MO_127&#x27;, &#x27;MO_128&#x27;, &#x27;MO_129&#x27;, &#x27;MO_130&#x27;, &#x27;MO_131&#x27;, &#x27;MO_132&#x27;, &#x27;MO_133&#x27;, &#x27;MO_134&#x27;, &#x27;MO_135&#x27;, &#x27;MO_136&#x27;, &#x27;MO_137&#x27;, &#x27;MO_138&#x27;, &#x27;MO_139&#x27;, &#x27;MO_140&#x27;, &#x27;MO_141&#x27;, &#x27;MO_142&#x27;, &#x27;MO_143&#x27;, &#x27;MO_144&#x27;, &#x27;MO_145&#x27;, &#x27;MO_146&#x27;, &#x27;MO_147&#x27;, &#x27;MO_148&#x27;, &#x27;MO_149&#x27;, &#x27;MO_150&#x27;, &#x27;MO_151&#x27;, &#x27;MO_152&#x27;, &#x27;MO_153&#x27;, &#x27;MO_154&#x27;, &#x27;MO_155&#x27;, &#x27;MO_156&#x27;, &#x27;MO_157&#x27;, &#x27;MO_158&#x27;, &#x27;MO_159&#x27;, &#x27;MO_160&#x27;, &#x27;MO_161&#x27;, &#x27;MO_162&#x27;, &#x27;MO_163&#x27;, &#x27;MO_164&#x27;, &#x27;MO_165&#x27;, &#x27;MO_166&#x27;, &#x27;MO_167&#x27;, &#x27;MO_168&#x27;, &#x27;MO_169&#x27;, &#x27;MO_170&#x27;, &#x27;MO_171&#x27;, &#x27;MO_172&#x27;, &#x27;MO_173&#x27;, &#x27;MO_174&#x27;, &#x27;MO_175&#x27;, &#x27;MO_176&#x27;, &#x27;MO_177&#x27;, &#x27;MO_178&#x27;, &#x27;MO_179&#x27;, &#x27;MO_180&#x27;, &#x27;MO_181&#x27;, &#x27;MO_182&#x27;, &#x27;MO_183&#x27;, &#x27;MO_184&#x27;, &#x27;MO_185&#x27;, &#x27;MO_186&#x27;, &#x27;MO_187&#x27;, &#x27;MO_188&#x27;, &#x27;MO_189&#x27;, &#x27;MO_190&#x27;, &#x27;MO_191&#x27;, &#x27;MO_192&#x27;, &#x27;MO_193&#x27;, &#x27;MO_194&#x27;, &#x27;MO_195&#x27;, &#x27;MO_196&#x27;, &#x27;MO_197&#x27;, &#x27;MO_198&#x27;, &#x27;MO_199&#x27;, &#x27;MO_200&#x27;, &#x27;MO_201&#x27;, &#x27;MO_202&#x27;, &#x27;MO_203&#x27;, &#x27;MO_204&#x27;, &#x27;MO_205&#x27;, &#x27;MO_206&#x27;, &#x27;MO_207&#x27;, &#x27;MO_208&#x27;, &#x27;MO_209&#x27;, &#x27;MO_210&#x27;, &#x27;MO_211&#x27;, &#x27;MO_212&#x27;, &#x27;MO_213&#x27;, &#x27;MO_214&#x27;, &#x27;MO_215&#x27;, &#x27;MO_216&#x27;, &#x27;MO_217&#x27;, &#x27;MO_218&#x27;, &#x27;MO_219&#x27;, &#x27;MO_220&#x27;, &#x27;MO_221&#x27;, &#x27;MO_222&#x27;, &#x27;MO_223&#x27;, &#x27;MO_224&#x27;, &#x27;MO_225&#x27;, &#x27;MO_226&#x27;, &#x27;MO_227&#x27;, &#x27;MO_228&#x27;, &#x27;MO_229&#x27;, &#x27;MO_230&#x27;, &#x27;MO_231&#x27;, &#x27;MO_232&#x27;, &#x27;MO_233&#x27;, &#x27;MO_234&#x27;, &#x27;MO_235&#x27;, &#x27;MO_236&#x27;, &#x27;MO_237&#x27;, &#x27;MO_238&#x27;, &#x27;MO_239&#x27;, &#x27;MO_240&#x27;, &#x27;MO_241&#x27;, &#x27;MO_242&#x27;, &#x27;MO_243&#x27;, &#x27;MO_244&#x27;, &#x27;MO_245&#x27;, &#x27;MO_246&#x27;, &#x27;MO_247&#x27;, &#x27;MO_248&#x27;, &#x27;MO_249&#x27;, &#x27;MO_250&#x27;, &#x27;MO_251&#x27;, &#x27;MO_252&#x27;, &#x27;MO_253&#x27;, &#x27;MO_254&#x27;, &#x27;MO_255&#x27;, &#x27;MO_256&#x27;, &#x27;MO_257&#x27;, &#x27;MO_258&#x27;, &#x27;MO_259&#x27;, &#x27;MO_260&#x27;, &#x27;MO_261&#x27;, &#x27;MO_262&#x27;, &#x27;MO_263&#x27;, &#x27;MO_264&#x27;, &#x27;MO_265&#x27;, &#x27;MO_266&#x27;, &#x27;MO_267&#x27;, &#x27;MO_268&#x27;, &#x27;MO_269&#x27;, &#x27;MO_270&#x27;, &#x27;MO_271&#x27;, &#x27;MO_272&#x27;, &#x27;MO_273&#x27;, &#x27;MO_274&#x27;, &#x27;MO_275&#x27;, &#x27;MO_276&#x27;, &#x27;MO_277&#x27;, &#x27;MO_278&#x27;, &#x27;MO_279&#x27;, &#x27;MO_280&#x27;, &#x27;MO_281&#x27;, &#x27;MO_282&#x27;, &#x27;MO_283&#x27;, &#x27;MO_284&#x27;, &#x27;MO_285&#x27;, &#x27;MO_286&#x27;, &#x27;MO_287&#x27;, &#x27;MO_288&#x27;, &#x27;MO_289&#x27;, &#x27;MO_290&#x27;, &#x27;MO_291&#x27;, &#x27;MO_292&#x27;, &#x27;MO_293&#x27;, &#x27;MO_294&#x27;, &#x27;MO_295&#x27;, &#x27;MO_296&#x27;, &#x27;MO_297&#x27;, &#x27;MO_298&#x27;, &#x27;MO_299&#x27;, &#x27;MO_300&#x27;, &#x27;MO_301&#x27;, &#x27;MO_302&#x27;, &#x27;MO_303&#x27;, &#x27;MO_304&#x27;, &#x27;MO_305&#x27;, &#x27;MO_306&#x27;, &#x27;MO_307&#x27;, &#x27;MO_308&#x27;, &#x27;MO_309&#x27;, &#x27;MO_310&#x27;, &#x27;MO_311&#x27;, &#x27;MO_312&#x27;, &#x27;MO_313&#x27;, &#x27;MO_314&#x27;, &#x27;MO_315&#x27;, &#x27;MO_316&#x27;, &#x27;MO_317&#x27;, &#x27;MO_318&#x27;, &#x27;MO_319&#x27;, &#x27;MO_320&#x27;, &#x27;MO_321&#x27;, &#x27;MO_322&#x27;, &#x27;MO_323&#x27;, &#x27;MO_324&#x27;, &#x27;MO_325&#x27;, &#x27;MO_326&#x27;, &#x27;MO_327&#x27;, &#x27;MO_328&#x27;, &#x27;MO_329&#x27;, &#x27;MO_330&#x27;, &#x27;MO_331&#x27;, &#x27;MO_332&#x27;, &#x27;MO_333&#x27;, &#x27;MO_334&#x27;, &#x27;MO_335&#x27;, &#x27;MO_336&#x27;, &#x27;MO_337&#x27;, &#x27;MO_338&#x27;, &#x27;MO_339&#x27;, &#x27;MO_340&#x27;, &#x27;MO_341&#x27;, &#x27;MO_342&#x27;, &#x27;MO_343&#x27;, &#x27;MO_344&#x27;, &#x27;MO_345&#x27;, &#x27;MO_346&#x27;, &#x27;MO_347&#x27;, &#x27;MO_348&#x27;, &#x27;MO_349&#x27;, &#x27;MO_350&#x27;, &#x27;MO_351&#x27;, &#x27;MO_352&#x27;, &#x27;MO_353&#x27;, &#x27;MO_354&#x27;, &#x27;MO_355&#x27;, &#x27;MO_356&#x27;, &#x27;MO_357&#x27;, &#x27;MO_358&#x27;, &#x27;MO_359&#x27;, &#x27;MO_360&#x27;, &#x27;MO_361&#x27;, &#x27;MO_362&#x27;, &#x27;MO_363&#x27;, &#x27;MO_364&#x27;, &#x27;MO_365&#x27;, &#x27;MO_366&#x27;, &#x27;MO_367&#x27;, &#x27;MO_368&#x27;, &#x27;MO_369&#x27;, &#x27;MO_370&#x27;, &#x27;MO_371&#x27;, &#x27;MO_372&#x27;, &#x27;MO_373&#x27;, &#x27;MO_374&#x27;, &#x27;MO_375&#x27;, &#x27;MO_376&#x27;, &#x27;MO_377&#x27;, &#x27;MO_378&#x27;, &#x27;MO_379&#x27;, &#x27;MO_380&#x27;, &#x27;MO_381&#x27;, &#x27;MO_382&#x27;, &#x27;MO_383&#x27;, &#x27;MO_384&#x27;, &#x27;MO_385&#x27;, &#x27;MO_386&#x27;, &#x27;MO_387&#x27;, &#x27;MO_388&#x27;, &#x27;MO_389&#x27;, &#x27;MO_390&#x27;, &#x27;MO_391&#x27;, &#x27;MO_392&#x27;, &#x27;MO_393&#x27;, &#x27;MO_394&#x27;, &#x27;MO_395&#x27;, &#x27;MO_396&#x27;, &#x27;MO_397&#x27;, &#x27;MO_398&#x27;, &#x27;MO_399&#x27;, &#x27;MO_400&#x27;, &#x27;MO_401&#x27;, &#x27;MO_402&#x27;, &#x27;MO_403&#x27;, &#x27;MO_404&#x27;, &#x27;MO_405&#x27;, &#x27;MO_406&#x27;, &#x27;MO_407&#x27;, &#x27;MO_408&#x27;, &#x27;MO_409&#x27;, &#x27;MO_410&#x27;, &#x27;MO_411&#x27;, &#x27;MO_412&#x27;, &#x27;MO_413&#x27;, &#x27;MO_414&#x27;, &#x27;MO_415&#x27;, &#x27;MO_416&#x27;, &#x27;MO_417&#x27;, &#x27;MO_418&#x27;, &#x27;MO_419&#x27;, &#x27;MO_420&#x27;, &#x27;MO_421&#x27;, &#x27;MO_422&#x27;, &#x27;MO_423&#x27;, &#x27;MO_424&#x27;, &#x27;MO_425&#x27;, &#x27;MO_426&#x27;, &#x27;MO_427&#x27;, &#x27;MO_428&#x27;, &#x27;MO_429&#x27;, &#x27;MO_430&#x27;, &#x27;MO_431&#x27;, &#x27;MO_432&#x27;, &#x27;MO_433&#x27;, &#x27;MO_434&#x27;, &#x27;MO_435&#x27;, &#x27;MO_436&#x27;, &#x27;MO_437&#x27;, &#x27;MO_438&#x27;, &#x27;MO_439&#x27;, &#x27;MO_440&#x27;, &#x27;MO_441&#x27;, &#x27;MO_442&#x27;, &#x27;MO_443&#x27;, &#x27;MO_444&#x27;, &#x27;MO_445&#x27;, &#x27;MO_446&#x27;, &#x27;MO_447&#x27;, &#x27;MO_448&#x27;, &#x27;MO_449&#x27;, &#x27;MO_450&#x27;, &#x27;MO_451&#x27;, &#x27;MO_452&#x27;, &#x27;MO_453&#x27;, &#x27;MO_454&#x27;, &#x27;MO_455&#x27;, &#x27;MO_456&#x27;, &#x27;MO_457&#x27;, &#x27;MO_458&#x27;, &#x27;MO_459&#x27;, &#x27;MO_460&#x27;, &#x27;MO_461&#x27;, &#x27;MO_462&#x27;, &#x27;MO_463&#x27;, &#x27;MO_464&#x27;, &#x27;MO_465&#x27;, &#x27;MO_466&#x27;, &#x27;MO_467&#x27;, &#x27;MO_468&#x27;, &#x27;MO_469&#x27;, &#x27;MO_470&#x27;, &#x27;MO_471&#x27;, &#x27;MO_472&#x27;, &#x27;MO_473&#x27;, &#x27;MO_474&#x27;, &#x27;MO_475&#x27;, &#x27;MO_476&#x27;, &#x27;MO_477&#x27;, &#x27;MO_478&#x27;, &#x27;MO_479&#x27;, &#x27;MO_480&#x27;]</pre></div> </div></div><div class=\"sk-serial\"><div class=\"sk-item\"><div class=\"sk-estimator fitted sk-toggleable\"><input class=\"sk-toggleable__control sk-hidden--visually\" id=\"sk-estimator-id-160\" type=\"checkbox\" ><label for=\"sk-estimator-id-160\" class=\"sk-toggleable__label fitted sk-toggleable__label-arrow fitted\">passthrough</label><div class=\"sk-toggleable__content fitted\"><pre>passthrough</pre></div> </div></div></div></div></div></div></div><div class=\"sk-item sk-dashed-wrapped\"><div class=\"sk-label-container\"><div class=\"sk-label fitted sk-toggleable\"><input class=\"sk-toggleable__control sk-hidden--visually\" id=\"sk-estimator-id-161\" type=\"checkbox\" ><label for=\"sk-estimator-id-161\" class=\"sk-toggleable__label fitted sk-toggleable__label-arrow fitted\">&nbsp;votingclassifier: VotingClassifier<a class=\"sk-estimator-doc-link fitted\" rel=\"noreferrer\" target=\"_blank\" href=\"https://scikit-learn.org/1.5/modules/generated/sklearn.ensemble.VotingClassifier.html\">?<span>Documentation for votingclassifier: VotingClassifier</span></a></label><div class=\"sk-toggleable__content fitted\"><pre>VotingClassifier(estimators=[(&#x27;bgcv&#x27;,\n",
              "                              BaggingClassifier(bootstrap=False,\n",
              "                                                bootstrap_features=True,\n",
              "                                                estimator=DecisionTreeClassifier(),\n",
              "                                                n_estimators=80,\n",
              "                                                random_state=0)),\n",
              "                             (&#x27;lr&#x27;,\n",
              "                              LogisticRegression(penalty=&#x27;l1&#x27;,\n",
              "                                                 solver=&#x27;liblinear&#x27;))],\n",
              "                 voting=&#x27;soft&#x27;, weights=[0.9525, 0.9497])</pre></div> </div></div><div class=\"sk-parallel\"><div class=\"sk-parallel-item\"><div class=\"sk-item\"><div class=\"sk-label-container\"><div class=\"sk-label fitted sk-toggleable\"><label>bgcv</label></div></div><div class=\"sk-serial\"><div class=\"sk-item sk-dashed-wrapped\"><div class=\"sk-parallel\"><div class=\"sk-parallel-item\"><div class=\"sk-item\"><div class=\"sk-label-container\"><div class=\"sk-label fitted sk-toggleable\"><input class=\"sk-toggleable__control sk-hidden--visually\" id=\"sk-estimator-id-162\" type=\"checkbox\" ><label for=\"sk-estimator-id-162\" class=\"sk-toggleable__label fitted sk-toggleable__label-arrow fitted\">estimator: DecisionTreeClassifier</label><div class=\"sk-toggleable__content fitted\"><pre>DecisionTreeClassifier()</pre></div> </div></div><div class=\"sk-serial\"><div class=\"sk-item\"><div class=\"sk-estimator fitted sk-toggleable\"><input class=\"sk-toggleable__control sk-hidden--visually\" id=\"sk-estimator-id-163\" type=\"checkbox\" ><label for=\"sk-estimator-id-163\" class=\"sk-toggleable__label fitted sk-toggleable__label-arrow fitted\">&nbsp;DecisionTreeClassifier<a class=\"sk-estimator-doc-link fitted\" rel=\"noreferrer\" target=\"_blank\" href=\"https://scikit-learn.org/1.5/modules/generated/sklearn.tree.DecisionTreeClassifier.html\">?<span>Documentation for DecisionTreeClassifier</span></a></label><div class=\"sk-toggleable__content fitted\"><pre>DecisionTreeClassifier()</pre></div> </div></div></div></div></div></div></div></div></div></div><div class=\"sk-parallel-item\"><div class=\"sk-item\"><div class=\"sk-label-container\"><div class=\"sk-label fitted sk-toggleable\"><label>lr</label></div></div><div class=\"sk-serial\"><div class=\"sk-item\"><div class=\"sk-estimator fitted sk-toggleable\"><input class=\"sk-toggleable__control sk-hidden--visually\" id=\"sk-estimator-id-164\" type=\"checkbox\" ><label for=\"sk-estimator-id-164\" class=\"sk-toggleable__label fitted sk-toggleable__label-arrow fitted\">&nbsp;LogisticRegression<a class=\"sk-estimator-doc-link fitted\" rel=\"noreferrer\" target=\"_blank\" href=\"https://scikit-learn.org/1.5/modules/generated/sklearn.linear_model.LogisticRegression.html\">?<span>Documentation for LogisticRegression</span></a></label><div class=\"sk-toggleable__content fitted\"><pre>LogisticRegression(penalty=&#x27;l1&#x27;, solver=&#x27;liblinear&#x27;)</pre></div> </div></div></div></div></div></div></div></div></div></div></div>"
            ]
          },
          "metadata": {},
          "execution_count": 147
        }
      ]
    },
    {
      "cell_type": "code",
      "source": [
        "from google.colab import files\n",
        "uploaded = files.upload()\n",
        "\n",
        "for fn in uploaded.keys():\n",
        "  print('User uploaded file \"{name}\" with length {length} bytes'.format(\n",
        "      name=fn, length=len(uploaded[fn])))\n",
        "import io\n",
        "Xt = pd.read_csv(io.BytesIO(uploaded[fn]))"
      ],
      "metadata": {
        "colab": {
          "base_uri": "https://localhost:8080/",
          "height": 176
        },
        "id": "tiexn6_hHkVf",
        "outputId": "8103ed4b-8b0b-47a4-84be-1891d2bdf396"
      },
      "id": "tiexn6_hHkVf",
      "execution_count": null,
      "outputs": [
        {
          "output_type": "error",
          "ename": "ModuleNotFoundError",
          "evalue": "No module named 'google'",
          "traceback": [
            "\u001b[0;31m---------------------------------------------------------------------------\u001b[0m",
            "\u001b[0;31mModuleNotFoundError\u001b[0m                       Traceback (most recent call last)",
            "Cell \u001b[0;32mIn[35], line 1\u001b[0m\n\u001b[0;32m----> 1\u001b[0m \u001b[38;5;28;01mfrom\u001b[39;00m \u001b[38;5;21;01mgoogle\u001b[39;00m\u001b[38;5;21;01m.\u001b[39;00m\u001b[38;5;21;01mcolab\u001b[39;00m \u001b[38;5;28;01mimport\u001b[39;00m files\n\u001b[1;32m      2\u001b[0m uploaded \u001b[38;5;241m=\u001b[39m files\u001b[38;5;241m.\u001b[39mupload()\n\u001b[1;32m      4\u001b[0m \u001b[38;5;28;01mfor\u001b[39;00m fn \u001b[38;5;129;01min\u001b[39;00m uploaded\u001b[38;5;241m.\u001b[39mkeys():\n",
            "\u001b[0;31mModuleNotFoundError\u001b[0m: No module named 'google'"
          ]
        }
      ]
    },
    {
      "cell_type": "code",
      "source": [
        "# for local runtime\n",
        "Xt = pd.read_csv('data/test.csv')"
      ],
      "metadata": {
        "id": "wm2Jdf5QpNrj"
      },
      "id": "wm2Jdf5QpNrj",
      "execution_count": null,
      "outputs": []
    },
    {
      "cell_type": "code",
      "source": [
        "prediction = model.predict(Xt)"
      ],
      "metadata": {
        "id": "JX1akORP4YTa"
      },
      "id": "JX1akORP4YTa",
      "execution_count": null,
      "outputs": []
    },
    {
      "cell_type": "code",
      "source": [
        "# sub = pd.DataFrame(prediction, index=Xt.index, columns=['Crime_Category'])\n",
        "sub = pd.DataFrame()\n",
        "sub['Crime_Category'] = prediction\n",
        "sub.index += 1\n",
        "sub.index.name = 'ID'\n",
        "# sub['Crime_Category'] = prediction"
      ],
      "metadata": {
        "id": "CHBMs-99IjlK"
      },
      "id": "CHBMs-99IjlK",
      "execution_count": null,
      "outputs": []
    },
    {
      "cell_type": "code",
      "source": [
        "sub.to_csv('submission.csv')\n",
        "files.download('submission.csv')"
      ],
      "metadata": {
        "colab": {
          "base_uri": "https://localhost:8080/",
          "height": 158
        },
        "id": "S9kPEj2OItAt",
        "outputId": "a26083a4-5720-4c18-e823-4f0210ff51f2"
      },
      "id": "S9kPEj2OItAt",
      "execution_count": null,
      "outputs": [
        {
          "output_type": "error",
          "ename": "NameError",
          "evalue": "name 'files' is not defined",
          "traceback": [
            "\u001b[0;31m---------------------------------------------------------------------------\u001b[0m",
            "\u001b[0;31mNameError\u001b[0m                                 Traceback (most recent call last)",
            "Cell \u001b[0;32mIn[42], line 2\u001b[0m\n\u001b[1;32m      1\u001b[0m sub\u001b[38;5;241m.\u001b[39mto_csv(\u001b[38;5;124m'\u001b[39m\u001b[38;5;124msubmission.csv\u001b[39m\u001b[38;5;124m'\u001b[39m)\n\u001b[0;32m----> 2\u001b[0m files\u001b[38;5;241m.\u001b[39mdownload(\u001b[38;5;124m'\u001b[39m\u001b[38;5;124msubmission.csv\u001b[39m\u001b[38;5;124m'\u001b[39m)\n",
            "\u001b[0;31mNameError\u001b[0m: name 'files' is not defined"
          ]
        }
      ]
    },
    {
      "cell_type": "code",
      "source": [
        "# for local runtime\n",
        "sub.to_csv('./submission.csv')"
      ],
      "metadata": {
        "id": "Rzv2GLvqLtFS"
      },
      "id": "Rzv2GLvqLtFS",
      "execution_count": null,
      "outputs": []
    },
    {
      "cell_type": "code",
      "source": [],
      "metadata": {
        "id": "V3csjypzp9Ay"
      },
      "id": "V3csjypzp9Ay",
      "execution_count": null,
      "outputs": []
    }
  ],
  "metadata": {
    "kernelspec": {
      "display_name": "Python 3 (ipykernel)",
      "language": "python",
      "name": "python3"
    },
    "language_info": {
      "codemirror_mode": {
        "name": "ipython",
        "version": 3
      },
      "file_extension": ".py",
      "mimetype": "text/x-python",
      "name": "python",
      "nbconvert_exporter": "python",
      "pygments_lexer": "ipython3",
      "version": "3.12.7"
    },
    "colab": {
      "provenance": []
    }
  },
  "nbformat": 4,
  "nbformat_minor": 5
}