{
  "cells": [
    {
      "cell_type": "code",
      "execution_count": 80,
      "id": "8f2d48d9-2f3e-4cf8-a961-d0a1d70c2ce1",
      "metadata": {
        "colab": {
          "base_uri": "https://localhost:8080/"
        },
        "id": "8f2d48d9-2f3e-4cf8-a961-d0a1d70c2ce1",
        "outputId": "804295dc-ae16-4871-d9ef-626e2b738fa2"
      },
      "outputs": [
        {
          "output_type": "execute_result",
          "data": {
            "text/plain": [
              "'1.5.1'"
            ]
          },
          "metadata": {},
          "execution_count": 80
        }
      ],
      "source": [
        "import numpy as np\n",
        "import pandas as pd\n",
        "import math\n",
        "import matplotlib.pyplot as plt\n",
        "from sklearn.model_selection import train_test_split\n",
        "from sklearn.pipeline import Pipeline\n",
        "from sklearn.compose import ColumnTransformer\n",
        "from sklearn.pipeline import Pipeline, make_pipeline\n",
        "from sklearn.impute import SimpleImputer\n",
        "from sklearn.naive_bayes import GaussianNB\n",
        "from sklearn.preprocessing import LabelBinarizer, KBinsDiscretizer, OneHotEncoder, OrdinalEncoder, MultiLabelBinarizer, MinMaxScaler, FunctionTransformer, StandardScaler, LabelEncoder\n",
        "from sklearn.base import BaseEstimator, TransformerMixin\n",
        "from sklearn.ensemble import RandomForestClassifier\n",
        "from sklearn.linear_model import LogisticRegression, SGDClassifier\n",
        "from sklearn.tree import DecisionTreeClassifier\n",
        "from sklearn.ensemble import BaggingClassifier\n",
        "from sklearn.pipeline import Pipeline\n",
        "from sklearn.model_selection import GridSearchCV, StratifiedKFold, cross_val_score\n",
        "from sklearn.ensemble import BaggingClassifier\n",
        "from sklearn.pipeline import Pipeline\n",
        "from sklearn.model_selection import GridSearchCV, StratifiedKFold\n",
        "import warnings\n",
        "warnings.filterwarnings('ignore')\n",
        "from sklearn import __version__\n",
        "__version__"
      ]
    },
    {
      "cell_type": "markdown",
      "id": "2b7aca7a-d6b6-4295-9fb5-dd763f6e5319",
      "metadata": {
        "id": "2b7aca7a-d6b6-4295-9fb5-dd763f6e5319"
      },
      "source": [
        "# EDA"
      ]
    },
    {
      "cell_type": "code",
      "source": [
        "# prompt: code to upload file in pandas\n",
        "\n",
        "from google.colab import files\n",
        "uploaded = files.upload()\n",
        "\n",
        "for fn in uploaded.keys():\n",
        "  print('User uploaded file \"{name}\" with length {length} bytes'.format(\n",
        "      name=fn, length=len(uploaded[fn])))\n",
        "\n",
        "# Assuming the uploaded file is a CSV, you can load it into a pandas DataFrame\n",
        "import io\n",
        "df = pd.read_csv(io.BytesIO(uploaded[fn]))\n",
        "# Replace 'fn' with the actual file name if you have only one file uploaded\n",
        "\n",
        "# Now you can work with the DataFrame 'df'\n",
        "df.head()"
      ],
      "metadata": {
        "colab": {
          "base_uri": "https://localhost:8080/",
          "height": 198
        },
        "id": "obBlBz0zDQ9O",
        "outputId": "f8e546ac-3d4a-4f54-fcc2-68c7596462d5"
      },
      "id": "obBlBz0zDQ9O",
      "execution_count": 2,
      "outputs": [
        {
          "output_type": "error",
          "ename": "ModuleNotFoundError",
          "evalue": "No module named 'google'",
          "traceback": [
            "\u001b[0;31m---------------------------------------------------------------------------\u001b[0m",
            "\u001b[0;31mModuleNotFoundError\u001b[0m                       Traceback (most recent call last)",
            "Cell \u001b[0;32mIn[2], line 3\u001b[0m\n\u001b[1;32m      1\u001b[0m \u001b[38;5;66;03m# prompt: code to upload file in pandas\u001b[39;00m\n\u001b[0;32m----> 3\u001b[0m \u001b[38;5;28;01mfrom\u001b[39;00m \u001b[38;5;21;01mgoogle\u001b[39;00m\u001b[38;5;21;01m.\u001b[39;00m\u001b[38;5;21;01mcolab\u001b[39;00m \u001b[38;5;28;01mimport\u001b[39;00m files\n\u001b[1;32m      4\u001b[0m uploaded \u001b[38;5;241m=\u001b[39m files\u001b[38;5;241m.\u001b[39mupload()\n\u001b[1;32m      6\u001b[0m \u001b[38;5;28;01mfor\u001b[39;00m fn \u001b[38;5;129;01min\u001b[39;00m uploaded\u001b[38;5;241m.\u001b[39mkeys():\n",
            "\u001b[0;31mModuleNotFoundError\u001b[0m: No module named 'google'"
          ]
        }
      ]
    },
    {
      "cell_type": "code",
      "source": [
        "# plt.hist(df.Reporting_District_no, bins=100)\n",
        "# df.info()"
      ],
      "metadata": {
        "id": "M5mUWkujmW8a"
      },
      "id": "M5mUWkujmW8a",
      "execution_count": null,
      "outputs": []
    },
    {
      "cell_type": "code",
      "execution_count": null,
      "id": "e4292486-53d5-49ca-8687-3b8c972913e3",
      "metadata": {
        "id": "e4292486-53d5-49ca-8687-3b8c972913e3"
      },
      "outputs": [],
      "source": [
        "# df.describe()"
      ]
    },
    {
      "cell_type": "markdown",
      "source": [
        "### for local runtime"
      ],
      "metadata": {
        "id": "XnCROEQrRoOT"
      },
      "id": "XnCROEQrRoOT"
    },
    {
      "cell_type": "code",
      "source": [
        "!ls"
      ],
      "metadata": {
        "colab": {
          "base_uri": "https://localhost:8080/"
        },
        "id": "jmU3_LijRxPu",
        "outputId": "5f91dd40-b9a3-4f4e-a43a-2e52a5a5f25e"
      },
      "id": "jmU3_LijRxPu",
      "execution_count": 3,
      "outputs": [
        {
          "output_type": "stream",
          "name": "stdout",
          "text": [
            "crime-cast-forecasting-crime-categories.zip  data  main.ipynb\r\n"
          ]
        }
      ]
    },
    {
      "cell_type": "code",
      "source": [
        "df = pd.read_csv('data/train.csv')"
      ],
      "metadata": {
        "id": "ALPDAI3XRnlH"
      },
      "id": "ALPDAI3XRnlH",
      "execution_count": 4,
      "outputs": []
    },
    {
      "cell_type": "code",
      "source": [
        "len(df.columns)"
      ],
      "metadata": {
        "colab": {
          "base_uri": "https://localhost:8080/"
        },
        "id": "xEeuJ68CV7LE",
        "outputId": "03b5596e-554c-42c7-8d56-ebdbfda585cd"
      },
      "id": "xEeuJ68CV7LE",
      "execution_count": 5,
      "outputs": [
        {
          "output_type": "execute_result",
          "data": {
            "text/plain": [
              "22"
            ]
          },
          "metadata": {},
          "execution_count": 5
        }
      ]
    },
    {
      "cell_type": "code",
      "source": [
        "df.Crime_Category.unique()"
      ],
      "metadata": {
        "id": "dCglLEEBtrtk",
        "outputId": "71323d20-d24e-47dc-fc60-0aa01a8041ee",
        "colab": {
          "base_uri": "https://localhost:8080/"
        }
      },
      "id": "dCglLEEBtrtk",
      "execution_count": 48,
      "outputs": [
        {
          "output_type": "execute_result",
          "data": {
            "text/plain": [
              "array(['Property Crimes', 'Violent Crimes', 'Other Crimes',\n",
              "       'Crimes against Public Order', 'Fraud and White-Collar Crimes',\n",
              "       'Crimes against Persons'], dtype=object)"
            ]
          },
          "metadata": {},
          "execution_count": 48
        }
      ]
    },
    {
      "cell_type": "markdown",
      "id": "1c384170-907a-4b97-bf40-811f3a8e3c09",
      "metadata": {
        "id": "1c384170-907a-4b97-bf40-811f3a8e3c09"
      },
      "source": [
        "# Preprocessing"
      ]
    },
    {
      "cell_type": "markdown",
      "id": "49a37ad1-8834-434a-a569-29ef9a4bfe1a",
      "metadata": {
        "id": "49a37ad1-8834-434a-a569-29ef9a4bfe1a"
      },
      "source": [
        "#### Spliting train and test sets"
      ]
    },
    {
      "cell_type": "code",
      "execution_count": 6,
      "id": "0ab14798-352c-43ef-9620-9d837780b07e",
      "metadata": {
        "id": "0ab14798-352c-43ef-9620-9d837780b07e"
      },
      "outputs": [],
      "source": [
        "X, y = df.iloc[:, :-1], df.iloc[:, -1]"
      ]
    },
    {
      "cell_type": "code",
      "execution_count": 7,
      "id": "60f1dcec-e3bf-446b-ae8a-3e0a98406752",
      "metadata": {
        "id": "60f1dcec-e3bf-446b-ae8a-3e0a98406752"
      },
      "outputs": [],
      "source": [
        "X_train, X_test, y_train, y_test = train_test_split(X, y, stratify=y, test_size=0.2, random_state=1)"
      ]
    },
    {
      "cell_type": "code",
      "execution_count": 8,
      "id": "171c7f6f-bb5e-4c35-bc68-cd18c668bfc3",
      "metadata": {
        "colab": {
          "base_uri": "https://localhost:8080/"
        },
        "id": "171c7f6f-bb5e-4c35-bc68-cd18c668bfc3",
        "outputId": "10117053-082c-4127-cb15-3ef0fb092e6e"
      },
      "outputs": [
        {
          "output_type": "execute_result",
          "data": {
            "text/plain": [
              "((16000, 21), (4000, 21))"
            ]
          },
          "metadata": {},
          "execution_count": 8
        }
      ],
      "source": [
        "X_train.shape, X_test.shape"
      ]
    },
    {
      "cell_type": "code",
      "execution_count": 9,
      "id": "fc0b204d-b14e-4c18-aea8-92e4f51bc7ae",
      "metadata": {
        "id": "fc0b204d-b14e-4c18-aea8-92e4f51bc7ae"
      },
      "outputs": [],
      "source": [
        "class CustomModification(BaseEstimator, TransformerMixin):\n",
        "    def fit(self, X, y=None):\n",
        "        self.mlb = MultiLabelBinarizer()\n",
        "        modus_operandi = X['Modus_Operandi'].map(lambda x: () if type(x) == float else tuple(map(int,x.split(' '))))\n",
        "        self.mlb.fit(modus_operandi)\n",
        "        return self\n",
        "\n",
        "    def transform(self, X, y=None):\n",
        "        X = X.copy()\n",
        "        self.clean(X)\n",
        "\n",
        "        X['reported_year'] = X['Date_Reported'].dt.year\n",
        "        X['reported_month'] = X['Date_Reported'].dt.month\n",
        "        X['reported_day'] = X['Date_Reported'].dt.day\n",
        "\n",
        "        X['occurred_year'] = X['Date_Occurred'].dt.year\n",
        "        X['occurred_month'] = X['Date_Occurred'].dt.month\n",
        "        X['occurred_day'] = X['Date_Occurred'].dt.day\n",
        "\n",
        "        MO = self.mlb.transform(X['Modus_Operandi'])\n",
        "        X2 = pd.DataFrame(MO, index=X.index)\n",
        "        X2.columns = X2.columns.map(lambda x: 'MO_' + str(x))\n",
        "        X = pd.concat([X, X2], axis=1)\n",
        "\n",
        "        return X\n",
        "\n",
        "    def clean(self, X):\n",
        "      X[\"Latitude\"] = X['Latitude'].map(lambda x: np.nan if x == 0 else x)\n",
        "      X[\"Longitude\"] = X['Longitude'].map(lambda x: np.nan if x == 0 else x)\n",
        "      X['Date_Reported'] = pd.to_datetime(X['Date_Reported'], format='%m/%d/%Y %H:%M:%S %p')\n",
        "      X['Date_Occurred'] = pd.to_datetime(X['Date_Occurred'], format='%m/%d/%Y %H:%M:%S %p')\n",
        "      X.loc[X['Victim_Age'] < 0, 'Victim_Age'] = 0\n",
        "      X[\"Modus_Operandi\"] = X['Modus_Operandi'].map(lambda x: () if type(x) == float else tuple(map(int,x.split(' '))))\n",
        "\n"
      ]
    },
    {
      "cell_type": "code",
      "execution_count": 10,
      "id": "d3e64afe-1724-4bde-ab3c-3e7e761cef0e",
      "metadata": {
        "id": "d3e64afe-1724-4bde-ab3c-3e7e761cef0e"
      },
      "outputs": [],
      "source": [
        "cat_pipe = Pipeline([\n",
        "    ('imputer', SimpleImputer(strategy='most_frequent')),\n",
        "    ('encoder', OneHotEncoder(sparse_output=False, handle_unknown='infrequent_if_exist')),\n",
        "])\n",
        "num_pipe = Pipeline([\n",
        "    ('imputer', SimpleImputer(strategy='mean')),\n",
        "    ('encoder', KBinsDiscretizer(strategy='kmeans', encode='onehot-dense')),\n",
        "])"
      ]
    },
    {
      "cell_type": "code",
      "execution_count": 11,
      "id": "a4e08501-9526-4265-96db-7db9cd37f797",
      "metadata": {
        "id": "a4e08501-9526-4265-96db-7db9cd37f797"
      },
      "outputs": [],
      "source": [
        "pre_proc = ColumnTransformer([\n",
        "  ('dropper', 'drop', [0, 1, 4, 5, 8, 10, 11, 16, 18, 20]),\n",
        "  ('ofe', OrdinalEncoder(), [10]),\n",
        "  ('ss', StandardScaler(with_mean=True, with_std=True), [6, 12]),\n",
        "  ('cp1', cat_pipe, [13, 14]),\n",
        "  ('mms', MinMaxScaler(), list(range(21, 27))),\n",
        "  ('loc', num_pipe, [2, 3]),\n",
        "  ('uofe', OneHotEncoder(sparse_output=False, handle_unknown='infrequent_if_exist', min_frequency=0.05), [7,9,15,17,19]),\n",
        "], remainder='passthrough').set_output(transform='pandas')"
      ]
    },
    {
      "cell_type": "code",
      "source": [
        "skf = StratifiedKFold(n_splits=5, shuffle=True, random_state=1)"
      ],
      "metadata": {
        "id": "FX2GzTUB4KTv"
      },
      "id": "FX2GzTUB4KTv",
      "execution_count": 69,
      "outputs": []
    },
    {
      "cell_type": "code",
      "source": [
        "le = LabelEncoder()\n",
        "y_train_enc = le.fit_transform(y_train)\n",
        "y_test_enc = le.fit_transform(y_test)"
      ],
      "metadata": {
        "id": "juuGm-UzDaV2"
      },
      "id": "juuGm-UzDaV2",
      "execution_count": 12,
      "outputs": []
    },
    {
      "cell_type": "code",
      "source": [
        "lb = LabelBinarizer()\n",
        "y_train_bin = lb.fit_transform(y_train)\n",
        "y_test_bin = lb.fit_transform(y_test)"
      ],
      "metadata": {
        "id": "aqyhmBH9GOHE"
      },
      "id": "aqyhmBH9GOHE",
      "execution_count": 13,
      "outputs": []
    },
    {
      "cell_type": "code",
      "execution_count": 14,
      "id": "d56e2314-cc47-4cb9-b60f-7019d5d088d4",
      "metadata": {
        "id": "d56e2314-cc47-4cb9-b60f-7019d5d088d4"
      },
      "outputs": [],
      "source": [
        "pipe1 = make_pipeline(CustomModification(), pre_proc, GaussianNB())"
      ]
    },
    {
      "cell_type": "code",
      "source": [
        "pipe2 = make_pipeline(CustomModification(), pre_proc, DecisionTreeClassifier())"
      ],
      "metadata": {
        "id": "J7aGxXvaGHfl"
      },
      "id": "J7aGxXvaGHfl",
      "execution_count": 15,
      "outputs": []
    },
    {
      "cell_type": "code",
      "source": [
        "pipe3 = make_pipeline(CustomModification(), pre_proc, RandomForestClassifier(random_state=0))"
      ],
      "metadata": {
        "id": "QqYR9DVpTHoc"
      },
      "id": "QqYR9DVpTHoc",
      "execution_count": 16,
      "outputs": []
    },
    {
      "cell_type": "code",
      "source": [
        "pipe4 = make_pipeline(CustomModification(), pre_proc, LogisticRegression(solver='liblinear',penalty='l1'))\n",
        "# pipe4 = make_pipeline(CustomModification(), pre_proc, LogisticRegression())"
      ],
      "metadata": {
        "id": "148ICz8fUG25"
      },
      "id": "148ICz8fUG25",
      "execution_count": 17,
      "outputs": []
    },
    {
      "cell_type": "code",
      "source": [
        "pipe5 = make_pipeline(CustomModification(), pre_proc, SGDClassifier())"
      ],
      "metadata": {
        "id": "CTdE45TA5o3U"
      },
      "id": "CTdE45TA5o3U",
      "execution_count": 76,
      "outputs": []
    },
    {
      "cell_type": "code",
      "execution_count": 77,
      "id": "b46c9469-f3e7-499d-9625-957b4da7df05",
      "metadata": {
        "colab": {
          "base_uri": "https://localhost:8080/"
        },
        "id": "b46c9469-f3e7-499d-9625-957b4da7df05",
        "outputId": "f14e88a2-9010-4500-b900-078d6b2b7329"
      },
      "outputs": [
        {
          "output_type": "stream",
          "name": "stdout",
          "text": [
            "GaussianNB\n",
            "Training Score:  0.3340625\n",
            "Testing Score:  0.312\n"
          ]
        }
      ],
      "source": [
        "print('GaussianNB')\n",
        "pipe1.fit(X_train, y_train_enc)\n",
        "trs_gnb = pipe1.score(X_train, y_train_enc)\n",
        "tes_gnb = pipe1.score(X_test, y_test_enc)\n",
        "print('Training Score: ', trs_gnb)\n",
        "print('Testing Score: ', tes_gnb)"
      ]
    },
    {
      "cell_type": "code",
      "execution_count": 79,
      "id": "2fa6ae96-1e97-4e01-b5a1-2526a6c02d91",
      "metadata": {
        "colab": {
          "base_uri": "https://localhost:8080/"
        },
        "id": "2fa6ae96-1e97-4e01-b5a1-2526a6c02d91",
        "outputId": "50f87dc7-11e2-4cc6-8d1c-dd5215edffe2"
      },
      "outputs": [
        {
          "output_type": "stream",
          "name": "stdout",
          "text": [
            "Decision Tree Classifier\n",
            "Label Encode Ordinaly\n",
            "Training Score:  1.0\n",
            "Testing Score:  0.92575\n",
            "\n",
            "Label Binarized\n",
            "Training Score:  1.0\n",
            "Testing Score:  0.9255\n"
          ]
        }
      ],
      "source": [
        "print('Decision Tree Classifier')\n",
        "print('Label Encode Ordinaly')\n",
        "pipe2.fit(X_train, y_train_enc)\n",
        "print('Training Score: ', pipe2.score(X_train, y_train_enc))\n",
        "print('Testing Score: ', pipe2.score(X_test, y_test_enc))\n",
        "print()\n",
        "print('Label Binarized')\n",
        "pipe2.fit(X_train, y_train_bin)\n",
        "print('Training Score: ', pipe2.score(X_train, y_train_bin))\n",
        "print('Testing Score: ', pipe2.score(X_test, y_test_bin))"
      ]
    },
    {
      "cell_type": "code",
      "source": [
        "print('Random Forest Classifier')\n",
        "\n",
        "print('Label Encode Ordinaly')\n",
        "pipe3.fit(X_train, y_train_enc)\n",
        "print('Training Score: ', pipe3.score(X_train, y_train_enc))\n",
        "print('Testing Score: ', pipe3.score(X_test, y_test_enc))\n",
        "print()\n",
        "\n",
        "print('Label Binarized')\n",
        "pipe3.fit(X_train, y_train_bin)\n",
        "print('Training Score: ', pipe3.score(X_train, y_train_bin))\n",
        "print('Testing Score: ', pipe3.score(X_test, y_test_bin))\n",
        "print()\n",
        "\n",
        "print('Cross-validation')\n",
        "cvl = cross_val_score(pipe3, X, y, cv=skf, scoring='accuracy')\n",
        "print('CV_score, std: ', cvl.mean(), cvl.std())"
      ],
      "metadata": {
        "colab": {
          "base_uri": "https://localhost:8080/"
        },
        "id": "hs2UUlIaTT4Z",
        "outputId": "80831794-6126-4650-f9c9-a0c6a433ff9d"
      },
      "id": "hs2UUlIaTT4Z",
      "execution_count": 74,
      "outputs": [
        {
          "output_type": "stream",
          "name": "stdout",
          "text": [
            "Random Forest Classifier\n",
            "Label Encode Ordinaly\n",
            "Training Score:  1.0\n",
            "Testing Score:  0.94625\n",
            "\n",
            "Label Binarized\n",
            "Training Score:  1.0\n",
            "Testing Score:  0.9205\n",
            "\n",
            "Cross-validation\n",
            "CV_score, std:  0.94575 0.0028328430948430863\n"
          ]
        }
      ]
    },
    {
      "cell_type": "code",
      "source": [
        "print('Logistic Regression')\n",
        "pipe4.fit(X_train, y_train_enc)\n",
        "print('Training Score: ', pipe4.score(X_train, y_train_enc))\n",
        "print('Testing Score: ', pipe4.score(X_test, y_test_enc))\n",
        "\n",
        "cvl = cross_val_score(pipe4, X, y, cv=skf, scoring='accuracy')\n",
        "print('CV_score: ', cvl.mean())"
      ],
      "metadata": {
        "colab": {
          "base_uri": "https://localhost:8080/"
        },
        "id": "svB2KPOTUOJd",
        "outputId": "f0c9893b-50ea-4007-fd3e-ac3a1a38fb97"
      },
      "id": "svB2KPOTUOJd",
      "execution_count": 68,
      "outputs": [
        {
          "output_type": "stream",
          "name": "stdout",
          "text": [
            "Logistic Regression\n",
            "Training Score:  0.9555\n",
            "Testing Score:  0.951\n",
            "CV_score:  0.9497\n"
          ]
        }
      ]
    },
    {
      "cell_type": "code",
      "source": [
        "print('SGDClassifier')\n",
        "pipe5.fit(X_train, y_train_enc)\n",
        "print('Training Score: ', pipe5.score(X_train, y_train_enc))\n",
        "print('Testing Score: ', pipe5.score(X_test, y_test_enc))\n",
        "\n",
        "cvl = cross_val_score(pipe4, X, y, cv=skf, scoring='accuracy')\n",
        "print('CV_score, std: ', np.round(cvl.mean(), 4), np.round(cvl.std(), 4))"
      ],
      "metadata": {
        "id": "cKhtHoal6QfE",
        "outputId": "524c6696-80ab-4980-a829-a94d638f88c3",
        "colab": {
          "base_uri": "https://localhost:8080/"
        }
      },
      "id": "cKhtHoal6QfE",
      "execution_count": 86,
      "outputs": [
        {
          "output_type": "stream",
          "name": "stdout",
          "text": [
            "SGDClassifier\n",
            "Training Score:  0.9543125\n",
            "Testing Score:  0.946\n",
            "CV_score, std:  0.9496 0.0025\n"
          ]
        }
      ]
    },
    {
      "cell_type": "code",
      "source": [
        "pipe = Pipeline([\n",
        "    ('custom',  CustomModification()),\n",
        "    ('pre_process', pre_proc),\n",
        "    ('classifier', BaggingClassifier(estimator=DecisionTreeClassifier()))\n",
        "])\n",
        "\n",
        "skf = StratifiedKFold(n_splits=5, shuffle=True, random_state=1)\n",
        "\n",
        "param_grid = {\n",
        "    'classifier__max_samples': [0.2, 0.6, 1.0],\n",
        "    'classifier__max_features': [2, 5, 0.5, 1.0],\n",
        "    'classifier__bootstrap': [True, False],\n",
        "    'classifier__bootstrap_features': [True, False],\n",
        "    'classifier__n_estimators': [10, 20, 50],\n",
        "}\n",
        "\n",
        "grid_search = GridSearchCV(pipe, param_grid, cv=skf, scoring='accuracy')\n",
        "grid_search.fit(X, y)\n",
        "\n",
        "print(\"Best Parameters: \", grid_search.best_params_)\n",
        "print(\"Best Parameters: \", grid_search.best_score_)"
      ],
      "metadata": {
        "id": "uJzkmQNhTWxK",
        "colab": {
          "base_uri": "https://localhost:8080/"
        },
        "outputId": "e7211b26-ca52-4453-a9e7-10e63ac6e31f"
      },
      "id": "uJzkmQNhTWxK",
      "execution_count": 23,
      "outputs": [
        {
          "output_type": "stream",
          "name": "stdout",
          "text": [
            "Best Parameters:  {'classifier__bootstrap': False, 'classifier__bootstrap_features': True, 'classifier__max_features': 1.0, 'classifier__max_samples': 1.0, 'classifier__n_estimators': 50}\n"
          ]
        }
      ]
    },
    {
      "cell_type": "code",
      "source": [
        "bgcv = make_pipeline(CustomModification(), pre_proc, BaggingClassifier(\n",
        "    DecisionTreeClassifier(),\n",
        "    n_estimators=80,\n",
        "    max_samples=1.0,\n",
        "    max_features=1.0,\n",
        "    bootstrap=False,\n",
        "    bootstrap_features=True,\n",
        "    random_state=0\n",
        "))\n",
        "cvl = cross_val_score(bgcv, X, y, cv=skf, scoring='accuracy')\n",
        "m, s = cvl.mean(), cvl.std()\n",
        "model_report = pd.DataFrame(dict(BaggingClassifier_best=[m, s]), index=['Mean', 'Std'])"
      ],
      "metadata": {
        "id": "Qgk-6YPvrA4Z"
      },
      "id": "Qgk-6YPvrA4Z",
      "execution_count": 51,
      "outputs": []
    },
    {
      "cell_type": "code",
      "source": [
        "model_report.transpose().head(1)"
      ],
      "metadata": {
        "id": "ncjdMgeVv79g",
        "outputId": "6648e8bf-c3f9-47ab-caed-a8bb6f0fa205",
        "colab": {
          "base_uri": "https://localhost:8080/",
          "height": 80
        }
      },
      "id": "ncjdMgeVv79g",
      "execution_count": 63,
      "outputs": [
        {
          "output_type": "execute_result",
          "data": {
            "text/plain": [
              "                           Mean       Std\n",
              "Bagging_Classifier_Best  0.9525  0.002302"
            ],
            "text/html": [
              "<div>\n",
              "<style scoped>\n",
              "    .dataframe tbody tr th:only-of-type {\n",
              "        vertical-align: middle;\n",
              "    }\n",
              "\n",
              "    .dataframe tbody tr th {\n",
              "        vertical-align: top;\n",
              "    }\n",
              "\n",
              "    .dataframe thead th {\n",
              "        text-align: right;\n",
              "    }\n",
              "</style>\n",
              "<table border=\"1\" class=\"dataframe\">\n",
              "  <thead>\n",
              "    <tr style=\"text-align: right;\">\n",
              "      <th></th>\n",
              "      <th>Mean</th>\n",
              "      <th>Std</th>\n",
              "    </tr>\n",
              "  </thead>\n",
              "  <tbody>\n",
              "    <tr>\n",
              "      <th>Bagging_Classifier_Best</th>\n",
              "      <td>0.9525</td>\n",
              "      <td>0.002302</td>\n",
              "    </tr>\n",
              "  </tbody>\n",
              "</table>\n",
              "</div>"
            ]
          },
          "metadata": {},
          "execution_count": 63
        }
      ]
    },
    {
      "cell_type": "code",
      "source": [
        "pipe = Pipeline([\n",
        "    ('custom',  CustomModification()),\n",
        "    ('pre_process', pre_proc),\n",
        "    ('classifier', SGDClassifier(early_stopping=False, validation_fraction=0.1))\n",
        "])\n",
        "\n",
        "skf = StratifiedKFold(n_splits=5, shuffle=True, random_state=1)\n",
        "\n",
        "param_grid = {\n",
        "    'classifier__max_iter': [100, 500],\n",
        "    'classifier__penalty': ['l2', 'l1', 'elasticnet'],\n",
        "    'classifier__loss': ['hinge', 'squared_hinge', 'huber', 'modified_huber'],\n",
        "    'classifier__learning_rate': ['optimal', 'invscaling'],\n",
        "    'classifier__class_weight': [None, 'balanced'],\n",
        "    'classifier__l1_ratio': [0.1, 0.15, 0.2],\n",
        "    'classifier__average': [True, False],\n",
        "    'classifier__epsilon': [0.05, 0.1, 0.15, 0.2, 0.5],\n",
        "}\n",
        "\n",
        "grid_search = GridSearchCV(pipe, param_grid, cv=skf, scoring='accuracy')\n",
        "grid_search.fit(X, y)\n",
        "\n",
        "print(\"Best Parameters: \", grid_search.best_params_)\n",
        "print(\"Best Parameters: \", grid_search.best_score_)"
      ],
      "metadata": {
        "id": "ys0CufUa96pM"
      },
      "id": "ys0CufUa96pM",
      "execution_count": null,
      "outputs": []
    },
    {
      "cell_type": "code",
      "source": [
        "grid_search.best_score_, grid_search.best_params_"
      ],
      "metadata": {
        "id": "nRgeVFzNEBAl",
        "outputId": "cc887788-05f6-4f2c-ecf8-654119052abd",
        "colab": {
          "base_uri": "https://localhost:8080/"
        }
      },
      "id": "nRgeVFzNEBAl",
      "execution_count": 95,
      "outputs": [
        {
          "output_type": "execute_result",
          "data": {
            "text/plain": [
              "(0.9430999999999999,\n",
              " {'classifier__class_weight': None,\n",
              "  'classifier__learning_rate': 'optimal',\n",
              "  'classifier__loss': 'hinge',\n",
              "  'classifier__max_iter': 100,\n",
              "  'classifier__penalty': 'elasticnet'})"
            ]
          },
          "metadata": {},
          "execution_count": 95
        }
      ]
    },
    {
      "cell_type": "markdown",
      "source": [
        "# Final"
      ],
      "metadata": {
        "id": "GLA0HiyOTvwg"
      },
      "id": "GLA0HiyOTvwg"
    },
    {
      "cell_type": "code",
      "source": [
        "model = grid_search.best_estimator_\n",
        "model.fit(X, y)"
      ],
      "metadata": {
        "colab": {
          "base_uri": "https://localhost:8080/",
          "height": 428
        },
        "id": "H3r38kfHH0JQ",
        "outputId": "8435af8b-58bb-47bf-c742-d528e1d8bcab"
      },
      "id": "H3r38kfHH0JQ",
      "execution_count": 34,
      "outputs": [
        {
          "output_type": "execute_result",
          "data": {
            "text/plain": [
              "Pipeline(steps=[('custom', CustomModification()),\n",
              "                ('pre_process',\n",
              "                 ColumnTransformer(remainder='passthrough',\n",
              "                                   transformers=[('dropper', 'drop',\n",
              "                                                  [0, 1, 4, 5, 8, 10, 11, 16,\n",
              "                                                   18, 20]),\n",
              "                                                 ('ofe', OrdinalEncoder(),\n",
              "                                                  [10]),\n",
              "                                                 ('ss', StandardScaler(),\n",
              "                                                  [6, 12]),\n",
              "                                                 ('cp1',\n",
              "                                                  Pipeline(steps=[('imputer',\n",
              "                                                                   SimpleImputer(strategy='most_frequent')),\n",
              "                                                                  ('encoder',\n",
              "                                                                   OneHotEncoder(handle_unknown='infreque...\n",
              "                                                  Pipeline(steps=[('imputer',\n",
              "                                                                   SimpleImputer()),\n",
              "                                                                  ('encoder',\n",
              "                                                                   KBinsDiscretizer(encode='onehot-dense',\n",
              "                                                                                    strategy='kmeans'))]),\n",
              "                                                  [2, 3]),\n",
              "                                                 ('uofe',\n",
              "                                                  OneHotEncoder(handle_unknown='infrequent_if_exist',\n",
              "                                                                min_frequency=0.05,\n",
              "                                                                sparse_output=False),\n",
              "                                                  [7, 9, 15, 17, 19])])),\n",
              "                ('classifier',\n",
              "                 BaggingClassifier(bootstrap=False, bootstrap_features=True,\n",
              "                                   estimator=DecisionTreeClassifier(),\n",
              "                                   n_estimators=50))])"
            ],
            "text/html": [
              "<style>#sk-container-id-2 {\n",
              "  /* Definition of color scheme common for light and dark mode */\n",
              "  --sklearn-color-text: black;\n",
              "  --sklearn-color-line: gray;\n",
              "  /* Definition of color scheme for unfitted estimators */\n",
              "  --sklearn-color-unfitted-level-0: #fff5e6;\n",
              "  --sklearn-color-unfitted-level-1: #f6e4d2;\n",
              "  --sklearn-color-unfitted-level-2: #ffe0b3;\n",
              "  --sklearn-color-unfitted-level-3: chocolate;\n",
              "  /* Definition of color scheme for fitted estimators */\n",
              "  --sklearn-color-fitted-level-0: #f0f8ff;\n",
              "  --sklearn-color-fitted-level-1: #d4ebff;\n",
              "  --sklearn-color-fitted-level-2: #b3dbfd;\n",
              "  --sklearn-color-fitted-level-3: cornflowerblue;\n",
              "\n",
              "  /* Specific color for light theme */\n",
              "  --sklearn-color-text-on-default-background: var(--sg-text-color, var(--theme-code-foreground, var(--jp-content-font-color1, black)));\n",
              "  --sklearn-color-background: var(--sg-background-color, var(--theme-background, var(--jp-layout-color0, white)));\n",
              "  --sklearn-color-border-box: var(--sg-text-color, var(--theme-code-foreground, var(--jp-content-font-color1, black)));\n",
              "  --sklearn-color-icon: #696969;\n",
              "\n",
              "  @media (prefers-color-scheme: dark) {\n",
              "    /* Redefinition of color scheme for dark theme */\n",
              "    --sklearn-color-text-on-default-background: var(--sg-text-color, var(--theme-code-foreground, var(--jp-content-font-color1, white)));\n",
              "    --sklearn-color-background: var(--sg-background-color, var(--theme-background, var(--jp-layout-color0, #111)));\n",
              "    --sklearn-color-border-box: var(--sg-text-color, var(--theme-code-foreground, var(--jp-content-font-color1, white)));\n",
              "    --sklearn-color-icon: #878787;\n",
              "  }\n",
              "}\n",
              "\n",
              "#sk-container-id-2 {\n",
              "  color: var(--sklearn-color-text);\n",
              "}\n",
              "\n",
              "#sk-container-id-2 pre {\n",
              "  padding: 0;\n",
              "}\n",
              "\n",
              "#sk-container-id-2 input.sk-hidden--visually {\n",
              "  border: 0;\n",
              "  clip: rect(1px 1px 1px 1px);\n",
              "  clip: rect(1px, 1px, 1px, 1px);\n",
              "  height: 1px;\n",
              "  margin: -1px;\n",
              "  overflow: hidden;\n",
              "  padding: 0;\n",
              "  position: absolute;\n",
              "  width: 1px;\n",
              "}\n",
              "\n",
              "#sk-container-id-2 div.sk-dashed-wrapped {\n",
              "  border: 1px dashed var(--sklearn-color-line);\n",
              "  margin: 0 0.4em 0.5em 0.4em;\n",
              "  box-sizing: border-box;\n",
              "  padding-bottom: 0.4em;\n",
              "  background-color: var(--sklearn-color-background);\n",
              "}\n",
              "\n",
              "#sk-container-id-2 div.sk-container {\n",
              "  /* jupyter's `normalize.less` sets `[hidden] { display: none; }`\n",
              "     but bootstrap.min.css set `[hidden] { display: none !important; }`\n",
              "     so we also need the `!important` here to be able to override the\n",
              "     default hidden behavior on the sphinx rendered scikit-learn.org.\n",
              "     See: https://github.com/scikit-learn/scikit-learn/issues/21755 */\n",
              "  display: inline-block !important;\n",
              "  position: relative;\n",
              "}\n",
              "\n",
              "#sk-container-id-2 div.sk-text-repr-fallback {\n",
              "  display: none;\n",
              "}\n",
              "\n",
              "div.sk-parallel-item,\n",
              "div.sk-serial,\n",
              "div.sk-item {\n",
              "  /* draw centered vertical line to link estimators */\n",
              "  background-image: linear-gradient(var(--sklearn-color-text-on-default-background), var(--sklearn-color-text-on-default-background));\n",
              "  background-size: 2px 100%;\n",
              "  background-repeat: no-repeat;\n",
              "  background-position: center center;\n",
              "}\n",
              "\n",
              "/* Parallel-specific style estimator block */\n",
              "\n",
              "#sk-container-id-2 div.sk-parallel-item::after {\n",
              "  content: \"\";\n",
              "  width: 100%;\n",
              "  border-bottom: 2px solid var(--sklearn-color-text-on-default-background);\n",
              "  flex-grow: 1;\n",
              "}\n",
              "\n",
              "#sk-container-id-2 div.sk-parallel {\n",
              "  display: flex;\n",
              "  align-items: stretch;\n",
              "  justify-content: center;\n",
              "  background-color: var(--sklearn-color-background);\n",
              "  position: relative;\n",
              "}\n",
              "\n",
              "#sk-container-id-2 div.sk-parallel-item {\n",
              "  display: flex;\n",
              "  flex-direction: column;\n",
              "}\n",
              "\n",
              "#sk-container-id-2 div.sk-parallel-item:first-child::after {\n",
              "  align-self: flex-end;\n",
              "  width: 50%;\n",
              "}\n",
              "\n",
              "#sk-container-id-2 div.sk-parallel-item:last-child::after {\n",
              "  align-self: flex-start;\n",
              "  width: 50%;\n",
              "}\n",
              "\n",
              "#sk-container-id-2 div.sk-parallel-item:only-child::after {\n",
              "  width: 0;\n",
              "}\n",
              "\n",
              "/* Serial-specific style estimator block */\n",
              "\n",
              "#sk-container-id-2 div.sk-serial {\n",
              "  display: flex;\n",
              "  flex-direction: column;\n",
              "  align-items: center;\n",
              "  background-color: var(--sklearn-color-background);\n",
              "  padding-right: 1em;\n",
              "  padding-left: 1em;\n",
              "}\n",
              "\n",
              "\n",
              "/* Toggleable style: style used for estimator/Pipeline/ColumnTransformer box that is\n",
              "clickable and can be expanded/collapsed.\n",
              "- Pipeline and ColumnTransformer use this feature and define the default style\n",
              "- Estimators will overwrite some part of the style using the `sk-estimator` class\n",
              "*/\n",
              "\n",
              "/* Pipeline and ColumnTransformer style (default) */\n",
              "\n",
              "#sk-container-id-2 div.sk-toggleable {\n",
              "  /* Default theme specific background. It is overwritten whether we have a\n",
              "  specific estimator or a Pipeline/ColumnTransformer */\n",
              "  background-color: var(--sklearn-color-background);\n",
              "}\n",
              "\n",
              "/* Toggleable label */\n",
              "#sk-container-id-2 label.sk-toggleable__label {\n",
              "  cursor: pointer;\n",
              "  display: block;\n",
              "  width: 100%;\n",
              "  margin-bottom: 0;\n",
              "  padding: 0.5em;\n",
              "  box-sizing: border-box;\n",
              "  text-align: center;\n",
              "}\n",
              "\n",
              "#sk-container-id-2 label.sk-toggleable__label-arrow:before {\n",
              "  /* Arrow on the left of the label */\n",
              "  content: \"▸\";\n",
              "  float: left;\n",
              "  margin-right: 0.25em;\n",
              "  color: var(--sklearn-color-icon);\n",
              "}\n",
              "\n",
              "#sk-container-id-2 label.sk-toggleable__label-arrow:hover:before {\n",
              "  color: var(--sklearn-color-text);\n",
              "}\n",
              "\n",
              "/* Toggleable content - dropdown */\n",
              "\n",
              "#sk-container-id-2 div.sk-toggleable__content {\n",
              "  max-height: 0;\n",
              "  max-width: 0;\n",
              "  overflow: hidden;\n",
              "  text-align: left;\n",
              "  /* unfitted */\n",
              "  background-color: var(--sklearn-color-unfitted-level-0);\n",
              "}\n",
              "\n",
              "#sk-container-id-2 div.sk-toggleable__content.fitted {\n",
              "  /* fitted */\n",
              "  background-color: var(--sklearn-color-fitted-level-0);\n",
              "}\n",
              "\n",
              "#sk-container-id-2 div.sk-toggleable__content pre {\n",
              "  margin: 0.2em;\n",
              "  border-radius: 0.25em;\n",
              "  color: var(--sklearn-color-text);\n",
              "  /* unfitted */\n",
              "  background-color: var(--sklearn-color-unfitted-level-0);\n",
              "}\n",
              "\n",
              "#sk-container-id-2 div.sk-toggleable__content.fitted pre {\n",
              "  /* unfitted */\n",
              "  background-color: var(--sklearn-color-fitted-level-0);\n",
              "}\n",
              "\n",
              "#sk-container-id-2 input.sk-toggleable__control:checked~div.sk-toggleable__content {\n",
              "  /* Expand drop-down */\n",
              "  max-height: 200px;\n",
              "  max-width: 100%;\n",
              "  overflow: auto;\n",
              "}\n",
              "\n",
              "#sk-container-id-2 input.sk-toggleable__control:checked~label.sk-toggleable__label-arrow:before {\n",
              "  content: \"▾\";\n",
              "}\n",
              "\n",
              "/* Pipeline/ColumnTransformer-specific style */\n",
              "\n",
              "#sk-container-id-2 div.sk-label input.sk-toggleable__control:checked~label.sk-toggleable__label {\n",
              "  color: var(--sklearn-color-text);\n",
              "  background-color: var(--sklearn-color-unfitted-level-2);\n",
              "}\n",
              "\n",
              "#sk-container-id-2 div.sk-label.fitted input.sk-toggleable__control:checked~label.sk-toggleable__label {\n",
              "  background-color: var(--sklearn-color-fitted-level-2);\n",
              "}\n",
              "\n",
              "/* Estimator-specific style */\n",
              "\n",
              "/* Colorize estimator box */\n",
              "#sk-container-id-2 div.sk-estimator input.sk-toggleable__control:checked~label.sk-toggleable__label {\n",
              "  /* unfitted */\n",
              "  background-color: var(--sklearn-color-unfitted-level-2);\n",
              "}\n",
              "\n",
              "#sk-container-id-2 div.sk-estimator.fitted input.sk-toggleable__control:checked~label.sk-toggleable__label {\n",
              "  /* fitted */\n",
              "  background-color: var(--sklearn-color-fitted-level-2);\n",
              "}\n",
              "\n",
              "#sk-container-id-2 div.sk-label label.sk-toggleable__label,\n",
              "#sk-container-id-2 div.sk-label label {\n",
              "  /* The background is the default theme color */\n",
              "  color: var(--sklearn-color-text-on-default-background);\n",
              "}\n",
              "\n",
              "/* On hover, darken the color of the background */\n",
              "#sk-container-id-2 div.sk-label:hover label.sk-toggleable__label {\n",
              "  color: var(--sklearn-color-text);\n",
              "  background-color: var(--sklearn-color-unfitted-level-2);\n",
              "}\n",
              "\n",
              "/* Label box, darken color on hover, fitted */\n",
              "#sk-container-id-2 div.sk-label.fitted:hover label.sk-toggleable__label.fitted {\n",
              "  color: var(--sklearn-color-text);\n",
              "  background-color: var(--sklearn-color-fitted-level-2);\n",
              "}\n",
              "\n",
              "/* Estimator label */\n",
              "\n",
              "#sk-container-id-2 div.sk-label label {\n",
              "  font-family: monospace;\n",
              "  font-weight: bold;\n",
              "  display: inline-block;\n",
              "  line-height: 1.2em;\n",
              "}\n",
              "\n",
              "#sk-container-id-2 div.sk-label-container {\n",
              "  text-align: center;\n",
              "}\n",
              "\n",
              "/* Estimator-specific */\n",
              "#sk-container-id-2 div.sk-estimator {\n",
              "  font-family: monospace;\n",
              "  border: 1px dotted var(--sklearn-color-border-box);\n",
              "  border-radius: 0.25em;\n",
              "  box-sizing: border-box;\n",
              "  margin-bottom: 0.5em;\n",
              "  /* unfitted */\n",
              "  background-color: var(--sklearn-color-unfitted-level-0);\n",
              "}\n",
              "\n",
              "#sk-container-id-2 div.sk-estimator.fitted {\n",
              "  /* fitted */\n",
              "  background-color: var(--sklearn-color-fitted-level-0);\n",
              "}\n",
              "\n",
              "/* on hover */\n",
              "#sk-container-id-2 div.sk-estimator:hover {\n",
              "  /* unfitted */\n",
              "  background-color: var(--sklearn-color-unfitted-level-2);\n",
              "}\n",
              "\n",
              "#sk-container-id-2 div.sk-estimator.fitted:hover {\n",
              "  /* fitted */\n",
              "  background-color: var(--sklearn-color-fitted-level-2);\n",
              "}\n",
              "\n",
              "/* Specification for estimator info (e.g. \"i\" and \"?\") */\n",
              "\n",
              "/* Common style for \"i\" and \"?\" */\n",
              "\n",
              ".sk-estimator-doc-link,\n",
              "a:link.sk-estimator-doc-link,\n",
              "a:visited.sk-estimator-doc-link {\n",
              "  float: right;\n",
              "  font-size: smaller;\n",
              "  line-height: 1em;\n",
              "  font-family: monospace;\n",
              "  background-color: var(--sklearn-color-background);\n",
              "  border-radius: 1em;\n",
              "  height: 1em;\n",
              "  width: 1em;\n",
              "  text-decoration: none !important;\n",
              "  margin-left: 1ex;\n",
              "  /* unfitted */\n",
              "  border: var(--sklearn-color-unfitted-level-1) 1pt solid;\n",
              "  color: var(--sklearn-color-unfitted-level-1);\n",
              "}\n",
              "\n",
              ".sk-estimator-doc-link.fitted,\n",
              "a:link.sk-estimator-doc-link.fitted,\n",
              "a:visited.sk-estimator-doc-link.fitted {\n",
              "  /* fitted */\n",
              "  border: var(--sklearn-color-fitted-level-1) 1pt solid;\n",
              "  color: var(--sklearn-color-fitted-level-1);\n",
              "}\n",
              "\n",
              "/* On hover */\n",
              "div.sk-estimator:hover .sk-estimator-doc-link:hover,\n",
              ".sk-estimator-doc-link:hover,\n",
              "div.sk-label-container:hover .sk-estimator-doc-link:hover,\n",
              ".sk-estimator-doc-link:hover {\n",
              "  /* unfitted */\n",
              "  background-color: var(--sklearn-color-unfitted-level-3);\n",
              "  color: var(--sklearn-color-background);\n",
              "  text-decoration: none;\n",
              "}\n",
              "\n",
              "div.sk-estimator.fitted:hover .sk-estimator-doc-link.fitted:hover,\n",
              ".sk-estimator-doc-link.fitted:hover,\n",
              "div.sk-label-container:hover .sk-estimator-doc-link.fitted:hover,\n",
              ".sk-estimator-doc-link.fitted:hover {\n",
              "  /* fitted */\n",
              "  background-color: var(--sklearn-color-fitted-level-3);\n",
              "  color: var(--sklearn-color-background);\n",
              "  text-decoration: none;\n",
              "}\n",
              "\n",
              "/* Span, style for the box shown on hovering the info icon */\n",
              ".sk-estimator-doc-link span {\n",
              "  display: none;\n",
              "  z-index: 9999;\n",
              "  position: relative;\n",
              "  font-weight: normal;\n",
              "  right: .2ex;\n",
              "  padding: .5ex;\n",
              "  margin: .5ex;\n",
              "  width: min-content;\n",
              "  min-width: 20ex;\n",
              "  max-width: 50ex;\n",
              "  color: var(--sklearn-color-text);\n",
              "  box-shadow: 2pt 2pt 4pt #999;\n",
              "  /* unfitted */\n",
              "  background: var(--sklearn-color-unfitted-level-0);\n",
              "  border: .5pt solid var(--sklearn-color-unfitted-level-3);\n",
              "}\n",
              "\n",
              ".sk-estimator-doc-link.fitted span {\n",
              "  /* fitted */\n",
              "  background: var(--sklearn-color-fitted-level-0);\n",
              "  border: var(--sklearn-color-fitted-level-3);\n",
              "}\n",
              "\n",
              ".sk-estimator-doc-link:hover span {\n",
              "  display: block;\n",
              "}\n",
              "\n",
              "/* \"?\"-specific style due to the `<a>` HTML tag */\n",
              "\n",
              "#sk-container-id-2 a.estimator_doc_link {\n",
              "  float: right;\n",
              "  font-size: 1rem;\n",
              "  line-height: 1em;\n",
              "  font-family: monospace;\n",
              "  background-color: var(--sklearn-color-background);\n",
              "  border-radius: 1rem;\n",
              "  height: 1rem;\n",
              "  width: 1rem;\n",
              "  text-decoration: none;\n",
              "  /* unfitted */\n",
              "  color: var(--sklearn-color-unfitted-level-1);\n",
              "  border: var(--sklearn-color-unfitted-level-1) 1pt solid;\n",
              "}\n",
              "\n",
              "#sk-container-id-2 a.estimator_doc_link.fitted {\n",
              "  /* fitted */\n",
              "  border: var(--sklearn-color-fitted-level-1) 1pt solid;\n",
              "  color: var(--sklearn-color-fitted-level-1);\n",
              "}\n",
              "\n",
              "/* On hover */\n",
              "#sk-container-id-2 a.estimator_doc_link:hover {\n",
              "  /* unfitted */\n",
              "  background-color: var(--sklearn-color-unfitted-level-3);\n",
              "  color: var(--sklearn-color-background);\n",
              "  text-decoration: none;\n",
              "}\n",
              "\n",
              "#sk-container-id-2 a.estimator_doc_link.fitted:hover {\n",
              "  /* fitted */\n",
              "  background-color: var(--sklearn-color-fitted-level-3);\n",
              "}\n",
              "</style><div id=\"sk-container-id-2\" class=\"sk-top-container\"><div class=\"sk-text-repr-fallback\"><pre>Pipeline(steps=[(&#x27;custom&#x27;, CustomModification()),\n",
              "                (&#x27;pre_process&#x27;,\n",
              "                 ColumnTransformer(remainder=&#x27;passthrough&#x27;,\n",
              "                                   transformers=[(&#x27;dropper&#x27;, &#x27;drop&#x27;,\n",
              "                                                  [0, 1, 4, 5, 8, 10, 11, 16,\n",
              "                                                   18, 20]),\n",
              "                                                 (&#x27;ofe&#x27;, OrdinalEncoder(),\n",
              "                                                  [10]),\n",
              "                                                 (&#x27;ss&#x27;, StandardScaler(),\n",
              "                                                  [6, 12]),\n",
              "                                                 (&#x27;cp1&#x27;,\n",
              "                                                  Pipeline(steps=[(&#x27;imputer&#x27;,\n",
              "                                                                   SimpleImputer(strategy=&#x27;most_frequent&#x27;)),\n",
              "                                                                  (&#x27;encoder&#x27;,\n",
              "                                                                   OneHotEncoder(handle_unknown=&#x27;infreque...\n",
              "                                                  Pipeline(steps=[(&#x27;imputer&#x27;,\n",
              "                                                                   SimpleImputer()),\n",
              "                                                                  (&#x27;encoder&#x27;,\n",
              "                                                                   KBinsDiscretizer(encode=&#x27;onehot-dense&#x27;,\n",
              "                                                                                    strategy=&#x27;kmeans&#x27;))]),\n",
              "                                                  [2, 3]),\n",
              "                                                 (&#x27;uofe&#x27;,\n",
              "                                                  OneHotEncoder(handle_unknown=&#x27;infrequent_if_exist&#x27;,\n",
              "                                                                min_frequency=0.05,\n",
              "                                                                sparse_output=False),\n",
              "                                                  [7, 9, 15, 17, 19])])),\n",
              "                (&#x27;classifier&#x27;,\n",
              "                 BaggingClassifier(bootstrap=False, bootstrap_features=True,\n",
              "                                   estimator=DecisionTreeClassifier(),\n",
              "                                   n_estimators=50))])</pre><b>In a Jupyter environment, please rerun this cell to show the HTML representation or trust the notebook. <br />On GitHub, the HTML representation is unable to render, please try loading this page with nbviewer.org.</b></div><div class=\"sk-container\" hidden><div class=\"sk-item sk-dashed-wrapped\"><div class=\"sk-label-container\"><div class=\"sk-label fitted sk-toggleable\"><input class=\"sk-toggleable__control sk-hidden--visually\" id=\"sk-estimator-id-25\" type=\"checkbox\" ><label for=\"sk-estimator-id-25\" class=\"sk-toggleable__label fitted sk-toggleable__label-arrow fitted\">&nbsp;&nbsp;Pipeline<a class=\"sk-estimator-doc-link fitted\" rel=\"noreferrer\" target=\"_blank\" href=\"https://scikit-learn.org/1.5/modules/generated/sklearn.pipeline.Pipeline.html\">?<span>Documentation for Pipeline</span></a><span class=\"sk-estimator-doc-link fitted\">i<span>Fitted</span></span></label><div class=\"sk-toggleable__content fitted\"><pre>Pipeline(steps=[(&#x27;custom&#x27;, CustomModification()),\n",
              "                (&#x27;pre_process&#x27;,\n",
              "                 ColumnTransformer(remainder=&#x27;passthrough&#x27;,\n",
              "                                   transformers=[(&#x27;dropper&#x27;, &#x27;drop&#x27;,\n",
              "                                                  [0, 1, 4, 5, 8, 10, 11, 16,\n",
              "                                                   18, 20]),\n",
              "                                                 (&#x27;ofe&#x27;, OrdinalEncoder(),\n",
              "                                                  [10]),\n",
              "                                                 (&#x27;ss&#x27;, StandardScaler(),\n",
              "                                                  [6, 12]),\n",
              "                                                 (&#x27;cp1&#x27;,\n",
              "                                                  Pipeline(steps=[(&#x27;imputer&#x27;,\n",
              "                                                                   SimpleImputer(strategy=&#x27;most_frequent&#x27;)),\n",
              "                                                                  (&#x27;encoder&#x27;,\n",
              "                                                                   OneHotEncoder(handle_unknown=&#x27;infreque...\n",
              "                                                  Pipeline(steps=[(&#x27;imputer&#x27;,\n",
              "                                                                   SimpleImputer()),\n",
              "                                                                  (&#x27;encoder&#x27;,\n",
              "                                                                   KBinsDiscretizer(encode=&#x27;onehot-dense&#x27;,\n",
              "                                                                                    strategy=&#x27;kmeans&#x27;))]),\n",
              "                                                  [2, 3]),\n",
              "                                                 (&#x27;uofe&#x27;,\n",
              "                                                  OneHotEncoder(handle_unknown=&#x27;infrequent_if_exist&#x27;,\n",
              "                                                                min_frequency=0.05,\n",
              "                                                                sparse_output=False),\n",
              "                                                  [7, 9, 15, 17, 19])])),\n",
              "                (&#x27;classifier&#x27;,\n",
              "                 BaggingClassifier(bootstrap=False, bootstrap_features=True,\n",
              "                                   estimator=DecisionTreeClassifier(),\n",
              "                                   n_estimators=50))])</pre></div> </div></div><div class=\"sk-serial\"><div class=\"sk-item\"><div class=\"sk-estimator fitted sk-toggleable\"><input class=\"sk-toggleable__control sk-hidden--visually\" id=\"sk-estimator-id-26\" type=\"checkbox\" ><label for=\"sk-estimator-id-26\" class=\"sk-toggleable__label fitted sk-toggleable__label-arrow fitted\">CustomModification</label><div class=\"sk-toggleable__content fitted\"><pre>CustomModification()</pre></div> </div></div><div class=\"sk-item sk-dashed-wrapped\"><div class=\"sk-label-container\"><div class=\"sk-label fitted sk-toggleable\"><input class=\"sk-toggleable__control sk-hidden--visually\" id=\"sk-estimator-id-27\" type=\"checkbox\" ><label for=\"sk-estimator-id-27\" class=\"sk-toggleable__label fitted sk-toggleable__label-arrow fitted\">&nbsp;pre_process: ColumnTransformer<a class=\"sk-estimator-doc-link fitted\" rel=\"noreferrer\" target=\"_blank\" href=\"https://scikit-learn.org/1.5/modules/generated/sklearn.compose.ColumnTransformer.html\">?<span>Documentation for pre_process: ColumnTransformer</span></a></label><div class=\"sk-toggleable__content fitted\"><pre>ColumnTransformer(remainder=&#x27;passthrough&#x27;,\n",
              "                  transformers=[(&#x27;dropper&#x27;, &#x27;drop&#x27;,\n",
              "                                 [0, 1, 4, 5, 8, 10, 11, 16, 18, 20]),\n",
              "                                (&#x27;ofe&#x27;, OrdinalEncoder(), [10]),\n",
              "                                (&#x27;ss&#x27;, StandardScaler(), [6, 12]),\n",
              "                                (&#x27;cp1&#x27;,\n",
              "                                 Pipeline(steps=[(&#x27;imputer&#x27;,\n",
              "                                                  SimpleImputer(strategy=&#x27;most_frequent&#x27;)),\n",
              "                                                 (&#x27;encoder&#x27;,\n",
              "                                                  OneHotEncoder(handle_unknown=&#x27;infrequent_if_exist&#x27;,\n",
              "                                                                sparse_output=False))]),\n",
              "                                 [13, 14]),\n",
              "                                (&#x27;mms&#x27;, MinMaxScaler(),\n",
              "                                 [21, 22, 23, 24, 25, 26]),\n",
              "                                (&#x27;loc&#x27;,\n",
              "                                 Pipeline(steps=[(&#x27;imputer&#x27;, SimpleImputer()),\n",
              "                                                 (&#x27;encoder&#x27;,\n",
              "                                                  KBinsDiscretizer(encode=&#x27;onehot-dense&#x27;,\n",
              "                                                                   strategy=&#x27;kmeans&#x27;))]),\n",
              "                                 [2, 3]),\n",
              "                                (&#x27;uofe&#x27;,\n",
              "                                 OneHotEncoder(handle_unknown=&#x27;infrequent_if_exist&#x27;,\n",
              "                                               min_frequency=0.05,\n",
              "                                               sparse_output=False),\n",
              "                                 [7, 9, 15, 17, 19])])</pre></div> </div></div><div class=\"sk-parallel\"><div class=\"sk-parallel-item\"><div class=\"sk-item\"><div class=\"sk-label-container\"><div class=\"sk-label fitted sk-toggleable\"><input class=\"sk-toggleable__control sk-hidden--visually\" id=\"sk-estimator-id-28\" type=\"checkbox\" ><label for=\"sk-estimator-id-28\" class=\"sk-toggleable__label fitted sk-toggleable__label-arrow fitted\">dropper</label><div class=\"sk-toggleable__content fitted\"><pre>[0, 1, 4, 5, 8, 10, 11, 16, 18, 20]</pre></div> </div></div><div class=\"sk-serial\"><div class=\"sk-item\"><div class=\"sk-estimator fitted sk-toggleable\"><input class=\"sk-toggleable__control sk-hidden--visually\" id=\"sk-estimator-id-29\" type=\"checkbox\" ><label for=\"sk-estimator-id-29\" class=\"sk-toggleable__label fitted sk-toggleable__label-arrow fitted\">drop</label><div class=\"sk-toggleable__content fitted\"><pre>drop</pre></div> </div></div></div></div></div><div class=\"sk-parallel-item\"><div class=\"sk-item\"><div class=\"sk-label-container\"><div class=\"sk-label fitted sk-toggleable\"><input class=\"sk-toggleable__control sk-hidden--visually\" id=\"sk-estimator-id-30\" type=\"checkbox\" ><label for=\"sk-estimator-id-30\" class=\"sk-toggleable__label fitted sk-toggleable__label-arrow fitted\">ofe</label><div class=\"sk-toggleable__content fitted\"><pre>[10]</pre></div> </div></div><div class=\"sk-serial\"><div class=\"sk-item\"><div class=\"sk-estimator fitted sk-toggleable\"><input class=\"sk-toggleable__control sk-hidden--visually\" id=\"sk-estimator-id-31\" type=\"checkbox\" ><label for=\"sk-estimator-id-31\" class=\"sk-toggleable__label fitted sk-toggleable__label-arrow fitted\">&nbsp;OrdinalEncoder<a class=\"sk-estimator-doc-link fitted\" rel=\"noreferrer\" target=\"_blank\" href=\"https://scikit-learn.org/1.5/modules/generated/sklearn.preprocessing.OrdinalEncoder.html\">?<span>Documentation for OrdinalEncoder</span></a></label><div class=\"sk-toggleable__content fitted\"><pre>OrdinalEncoder()</pre></div> </div></div></div></div></div><div class=\"sk-parallel-item\"><div class=\"sk-item\"><div class=\"sk-label-container\"><div class=\"sk-label fitted sk-toggleable\"><input class=\"sk-toggleable__control sk-hidden--visually\" id=\"sk-estimator-id-32\" type=\"checkbox\" ><label for=\"sk-estimator-id-32\" class=\"sk-toggleable__label fitted sk-toggleable__label-arrow fitted\">ss</label><div class=\"sk-toggleable__content fitted\"><pre>[6, 12]</pre></div> </div></div><div class=\"sk-serial\"><div class=\"sk-item\"><div class=\"sk-estimator fitted sk-toggleable\"><input class=\"sk-toggleable__control sk-hidden--visually\" id=\"sk-estimator-id-33\" type=\"checkbox\" ><label for=\"sk-estimator-id-33\" class=\"sk-toggleable__label fitted sk-toggleable__label-arrow fitted\">&nbsp;StandardScaler<a class=\"sk-estimator-doc-link fitted\" rel=\"noreferrer\" target=\"_blank\" href=\"https://scikit-learn.org/1.5/modules/generated/sklearn.preprocessing.StandardScaler.html\">?<span>Documentation for StandardScaler</span></a></label><div class=\"sk-toggleable__content fitted\"><pre>StandardScaler()</pre></div> </div></div></div></div></div><div class=\"sk-parallel-item\"><div class=\"sk-item\"><div class=\"sk-label-container\"><div class=\"sk-label fitted sk-toggleable\"><input class=\"sk-toggleable__control sk-hidden--visually\" id=\"sk-estimator-id-34\" type=\"checkbox\" ><label for=\"sk-estimator-id-34\" class=\"sk-toggleable__label fitted sk-toggleable__label-arrow fitted\">cp1</label><div class=\"sk-toggleable__content fitted\"><pre>[13, 14]</pre></div> </div></div><div class=\"sk-serial\"><div class=\"sk-item\"><div class=\"sk-serial\"><div class=\"sk-item\"><div class=\"sk-estimator fitted sk-toggleable\"><input class=\"sk-toggleable__control sk-hidden--visually\" id=\"sk-estimator-id-35\" type=\"checkbox\" ><label for=\"sk-estimator-id-35\" class=\"sk-toggleable__label fitted sk-toggleable__label-arrow fitted\">&nbsp;SimpleImputer<a class=\"sk-estimator-doc-link fitted\" rel=\"noreferrer\" target=\"_blank\" href=\"https://scikit-learn.org/1.5/modules/generated/sklearn.impute.SimpleImputer.html\">?<span>Documentation for SimpleImputer</span></a></label><div class=\"sk-toggleable__content fitted\"><pre>SimpleImputer(strategy=&#x27;most_frequent&#x27;)</pre></div> </div></div><div class=\"sk-item\"><div class=\"sk-estimator fitted sk-toggleable\"><input class=\"sk-toggleable__control sk-hidden--visually\" id=\"sk-estimator-id-36\" type=\"checkbox\" ><label for=\"sk-estimator-id-36\" class=\"sk-toggleable__label fitted sk-toggleable__label-arrow fitted\">&nbsp;OneHotEncoder<a class=\"sk-estimator-doc-link fitted\" rel=\"noreferrer\" target=\"_blank\" href=\"https://scikit-learn.org/1.5/modules/generated/sklearn.preprocessing.OneHotEncoder.html\">?<span>Documentation for OneHotEncoder</span></a></label><div class=\"sk-toggleable__content fitted\"><pre>OneHotEncoder(handle_unknown=&#x27;infrequent_if_exist&#x27;, sparse_output=False)</pre></div> </div></div></div></div></div></div></div><div class=\"sk-parallel-item\"><div class=\"sk-item\"><div class=\"sk-label-container\"><div class=\"sk-label fitted sk-toggleable\"><input class=\"sk-toggleable__control sk-hidden--visually\" id=\"sk-estimator-id-37\" type=\"checkbox\" ><label for=\"sk-estimator-id-37\" class=\"sk-toggleable__label fitted sk-toggleable__label-arrow fitted\">mms</label><div class=\"sk-toggleable__content fitted\"><pre>[21, 22, 23, 24, 25, 26]</pre></div> </div></div><div class=\"sk-serial\"><div class=\"sk-item\"><div class=\"sk-estimator fitted sk-toggleable\"><input class=\"sk-toggleable__control sk-hidden--visually\" id=\"sk-estimator-id-38\" type=\"checkbox\" ><label for=\"sk-estimator-id-38\" class=\"sk-toggleable__label fitted sk-toggleable__label-arrow fitted\">&nbsp;MinMaxScaler<a class=\"sk-estimator-doc-link fitted\" rel=\"noreferrer\" target=\"_blank\" href=\"https://scikit-learn.org/1.5/modules/generated/sklearn.preprocessing.MinMaxScaler.html\">?<span>Documentation for MinMaxScaler</span></a></label><div class=\"sk-toggleable__content fitted\"><pre>MinMaxScaler()</pre></div> </div></div></div></div></div><div class=\"sk-parallel-item\"><div class=\"sk-item\"><div class=\"sk-label-container\"><div class=\"sk-label fitted sk-toggleable\"><input class=\"sk-toggleable__control sk-hidden--visually\" id=\"sk-estimator-id-39\" type=\"checkbox\" ><label for=\"sk-estimator-id-39\" class=\"sk-toggleable__label fitted sk-toggleable__label-arrow fitted\">loc</label><div class=\"sk-toggleable__content fitted\"><pre>[2, 3]</pre></div> </div></div><div class=\"sk-serial\"><div class=\"sk-item\"><div class=\"sk-serial\"><div class=\"sk-item\"><div class=\"sk-estimator fitted sk-toggleable\"><input class=\"sk-toggleable__control sk-hidden--visually\" id=\"sk-estimator-id-40\" type=\"checkbox\" ><label for=\"sk-estimator-id-40\" class=\"sk-toggleable__label fitted sk-toggleable__label-arrow fitted\">&nbsp;SimpleImputer<a class=\"sk-estimator-doc-link fitted\" rel=\"noreferrer\" target=\"_blank\" href=\"https://scikit-learn.org/1.5/modules/generated/sklearn.impute.SimpleImputer.html\">?<span>Documentation for SimpleImputer</span></a></label><div class=\"sk-toggleable__content fitted\"><pre>SimpleImputer()</pre></div> </div></div><div class=\"sk-item\"><div class=\"sk-estimator fitted sk-toggleable\"><input class=\"sk-toggleable__control sk-hidden--visually\" id=\"sk-estimator-id-41\" type=\"checkbox\" ><label for=\"sk-estimator-id-41\" class=\"sk-toggleable__label fitted sk-toggleable__label-arrow fitted\">&nbsp;KBinsDiscretizer<a class=\"sk-estimator-doc-link fitted\" rel=\"noreferrer\" target=\"_blank\" href=\"https://scikit-learn.org/1.5/modules/generated/sklearn.preprocessing.KBinsDiscretizer.html\">?<span>Documentation for KBinsDiscretizer</span></a></label><div class=\"sk-toggleable__content fitted\"><pre>KBinsDiscretizer(encode=&#x27;onehot-dense&#x27;, strategy=&#x27;kmeans&#x27;)</pre></div> </div></div></div></div></div></div></div><div class=\"sk-parallel-item\"><div class=\"sk-item\"><div class=\"sk-label-container\"><div class=\"sk-label fitted sk-toggleable\"><input class=\"sk-toggleable__control sk-hidden--visually\" id=\"sk-estimator-id-42\" type=\"checkbox\" ><label for=\"sk-estimator-id-42\" class=\"sk-toggleable__label fitted sk-toggleable__label-arrow fitted\">uofe</label><div class=\"sk-toggleable__content fitted\"><pre>[7, 9, 15, 17, 19]</pre></div> </div></div><div class=\"sk-serial\"><div class=\"sk-item\"><div class=\"sk-estimator fitted sk-toggleable\"><input class=\"sk-toggleable__control sk-hidden--visually\" id=\"sk-estimator-id-43\" type=\"checkbox\" ><label for=\"sk-estimator-id-43\" class=\"sk-toggleable__label fitted sk-toggleable__label-arrow fitted\">&nbsp;OneHotEncoder<a class=\"sk-estimator-doc-link fitted\" rel=\"noreferrer\" target=\"_blank\" href=\"https://scikit-learn.org/1.5/modules/generated/sklearn.preprocessing.OneHotEncoder.html\">?<span>Documentation for OneHotEncoder</span></a></label><div class=\"sk-toggleable__content fitted\"><pre>OneHotEncoder(handle_unknown=&#x27;infrequent_if_exist&#x27;, min_frequency=0.05,\n",
              "              sparse_output=False)</pre></div> </div></div></div></div></div><div class=\"sk-parallel-item\"><div class=\"sk-item\"><div class=\"sk-label-container\"><div class=\"sk-label fitted sk-toggleable\"><input class=\"sk-toggleable__control sk-hidden--visually\" id=\"sk-estimator-id-44\" type=\"checkbox\" ><label for=\"sk-estimator-id-44\" class=\"sk-toggleable__label fitted sk-toggleable__label-arrow fitted\">remainder</label><div class=\"sk-toggleable__content fitted\"><pre>[&#x27;MO_0&#x27;, &#x27;MO_1&#x27;, &#x27;MO_2&#x27;, &#x27;MO_3&#x27;, &#x27;MO_4&#x27;, &#x27;MO_5&#x27;, &#x27;MO_6&#x27;, &#x27;MO_7&#x27;, &#x27;MO_8&#x27;, &#x27;MO_9&#x27;, &#x27;MO_10&#x27;, &#x27;MO_11&#x27;, &#x27;MO_12&#x27;, &#x27;MO_13&#x27;, &#x27;MO_14&#x27;, &#x27;MO_15&#x27;, &#x27;MO_16&#x27;, &#x27;MO_17&#x27;, &#x27;MO_18&#x27;, &#x27;MO_19&#x27;, &#x27;MO_20&#x27;, &#x27;MO_21&#x27;, &#x27;MO_22&#x27;, &#x27;MO_23&#x27;, &#x27;MO_24&#x27;, &#x27;MO_25&#x27;, &#x27;MO_26&#x27;, &#x27;MO_27&#x27;, &#x27;MO_28&#x27;, &#x27;MO_29&#x27;, &#x27;MO_30&#x27;, &#x27;MO_31&#x27;, &#x27;MO_32&#x27;, &#x27;MO_33&#x27;, &#x27;MO_34&#x27;, &#x27;MO_35&#x27;, &#x27;MO_36&#x27;, &#x27;MO_37&#x27;, &#x27;MO_38&#x27;, &#x27;MO_39&#x27;, &#x27;MO_40&#x27;, &#x27;MO_41&#x27;, &#x27;MO_42&#x27;, &#x27;MO_43&#x27;, &#x27;MO_44&#x27;, &#x27;MO_45&#x27;, &#x27;MO_46&#x27;, &#x27;MO_47&#x27;, &#x27;MO_48&#x27;, &#x27;MO_49&#x27;, &#x27;MO_50&#x27;, &#x27;MO_51&#x27;, &#x27;MO_52&#x27;, &#x27;MO_53&#x27;, &#x27;MO_54&#x27;, &#x27;MO_55&#x27;, &#x27;MO_56&#x27;, &#x27;MO_57&#x27;, &#x27;MO_58&#x27;, &#x27;MO_59&#x27;, &#x27;MO_60&#x27;, &#x27;MO_61&#x27;, &#x27;MO_62&#x27;, &#x27;MO_63&#x27;, &#x27;MO_64&#x27;, &#x27;MO_65&#x27;, &#x27;MO_66&#x27;, &#x27;MO_67&#x27;, &#x27;MO_68&#x27;, &#x27;MO_69&#x27;, &#x27;MO_70&#x27;, &#x27;MO_71&#x27;, &#x27;MO_72&#x27;, &#x27;MO_73&#x27;, &#x27;MO_74&#x27;, &#x27;MO_75&#x27;, &#x27;MO_76&#x27;, &#x27;MO_77&#x27;, &#x27;MO_78&#x27;, &#x27;MO_79&#x27;, &#x27;MO_80&#x27;, &#x27;MO_81&#x27;, &#x27;MO_82&#x27;, &#x27;MO_83&#x27;, &#x27;MO_84&#x27;, &#x27;MO_85&#x27;, &#x27;MO_86&#x27;, &#x27;MO_87&#x27;, &#x27;MO_88&#x27;, &#x27;MO_89&#x27;, &#x27;MO_90&#x27;, &#x27;MO_91&#x27;, &#x27;MO_92&#x27;, &#x27;MO_93&#x27;, &#x27;MO_94&#x27;, &#x27;MO_95&#x27;, &#x27;MO_96&#x27;, &#x27;MO_97&#x27;, &#x27;MO_98&#x27;, &#x27;MO_99&#x27;, &#x27;MO_100&#x27;, &#x27;MO_101&#x27;, &#x27;MO_102&#x27;, &#x27;MO_103&#x27;, &#x27;MO_104&#x27;, &#x27;MO_105&#x27;, &#x27;MO_106&#x27;, &#x27;MO_107&#x27;, &#x27;MO_108&#x27;, &#x27;MO_109&#x27;, &#x27;MO_110&#x27;, &#x27;MO_111&#x27;, &#x27;MO_112&#x27;, &#x27;MO_113&#x27;, &#x27;MO_114&#x27;, &#x27;MO_115&#x27;, &#x27;MO_116&#x27;, &#x27;MO_117&#x27;, &#x27;MO_118&#x27;, &#x27;MO_119&#x27;, &#x27;MO_120&#x27;, &#x27;MO_121&#x27;, &#x27;MO_122&#x27;, &#x27;MO_123&#x27;, &#x27;MO_124&#x27;, &#x27;MO_125&#x27;, &#x27;MO_126&#x27;, &#x27;MO_127&#x27;, &#x27;MO_128&#x27;, &#x27;MO_129&#x27;, &#x27;MO_130&#x27;, &#x27;MO_131&#x27;, &#x27;MO_132&#x27;, &#x27;MO_133&#x27;, &#x27;MO_134&#x27;, &#x27;MO_135&#x27;, &#x27;MO_136&#x27;, &#x27;MO_137&#x27;, &#x27;MO_138&#x27;, &#x27;MO_139&#x27;, &#x27;MO_140&#x27;, &#x27;MO_141&#x27;, &#x27;MO_142&#x27;, &#x27;MO_143&#x27;, &#x27;MO_144&#x27;, &#x27;MO_145&#x27;, &#x27;MO_146&#x27;, &#x27;MO_147&#x27;, &#x27;MO_148&#x27;, &#x27;MO_149&#x27;, &#x27;MO_150&#x27;, &#x27;MO_151&#x27;, &#x27;MO_152&#x27;, &#x27;MO_153&#x27;, &#x27;MO_154&#x27;, &#x27;MO_155&#x27;, &#x27;MO_156&#x27;, &#x27;MO_157&#x27;, &#x27;MO_158&#x27;, &#x27;MO_159&#x27;, &#x27;MO_160&#x27;, &#x27;MO_161&#x27;, &#x27;MO_162&#x27;, &#x27;MO_163&#x27;, &#x27;MO_164&#x27;, &#x27;MO_165&#x27;, &#x27;MO_166&#x27;, &#x27;MO_167&#x27;, &#x27;MO_168&#x27;, &#x27;MO_169&#x27;, &#x27;MO_170&#x27;, &#x27;MO_171&#x27;, &#x27;MO_172&#x27;, &#x27;MO_173&#x27;, &#x27;MO_174&#x27;, &#x27;MO_175&#x27;, &#x27;MO_176&#x27;, &#x27;MO_177&#x27;, &#x27;MO_178&#x27;, &#x27;MO_179&#x27;, &#x27;MO_180&#x27;, &#x27;MO_181&#x27;, &#x27;MO_182&#x27;, &#x27;MO_183&#x27;, &#x27;MO_184&#x27;, &#x27;MO_185&#x27;, &#x27;MO_186&#x27;, &#x27;MO_187&#x27;, &#x27;MO_188&#x27;, &#x27;MO_189&#x27;, &#x27;MO_190&#x27;, &#x27;MO_191&#x27;, &#x27;MO_192&#x27;, &#x27;MO_193&#x27;, &#x27;MO_194&#x27;, &#x27;MO_195&#x27;, &#x27;MO_196&#x27;, &#x27;MO_197&#x27;, &#x27;MO_198&#x27;, &#x27;MO_199&#x27;, &#x27;MO_200&#x27;, &#x27;MO_201&#x27;, &#x27;MO_202&#x27;, &#x27;MO_203&#x27;, &#x27;MO_204&#x27;, &#x27;MO_205&#x27;, &#x27;MO_206&#x27;, &#x27;MO_207&#x27;, &#x27;MO_208&#x27;, &#x27;MO_209&#x27;, &#x27;MO_210&#x27;, &#x27;MO_211&#x27;, &#x27;MO_212&#x27;, &#x27;MO_213&#x27;, &#x27;MO_214&#x27;, &#x27;MO_215&#x27;, &#x27;MO_216&#x27;, &#x27;MO_217&#x27;, &#x27;MO_218&#x27;, &#x27;MO_219&#x27;, &#x27;MO_220&#x27;, &#x27;MO_221&#x27;, &#x27;MO_222&#x27;, &#x27;MO_223&#x27;, &#x27;MO_224&#x27;, &#x27;MO_225&#x27;, &#x27;MO_226&#x27;, &#x27;MO_227&#x27;, &#x27;MO_228&#x27;, &#x27;MO_229&#x27;, &#x27;MO_230&#x27;, &#x27;MO_231&#x27;, &#x27;MO_232&#x27;, &#x27;MO_233&#x27;, &#x27;MO_234&#x27;, &#x27;MO_235&#x27;, &#x27;MO_236&#x27;, &#x27;MO_237&#x27;, &#x27;MO_238&#x27;, &#x27;MO_239&#x27;, &#x27;MO_240&#x27;, &#x27;MO_241&#x27;, &#x27;MO_242&#x27;, &#x27;MO_243&#x27;, &#x27;MO_244&#x27;, &#x27;MO_245&#x27;, &#x27;MO_246&#x27;, &#x27;MO_247&#x27;, &#x27;MO_248&#x27;, &#x27;MO_249&#x27;, &#x27;MO_250&#x27;, &#x27;MO_251&#x27;, &#x27;MO_252&#x27;, &#x27;MO_253&#x27;, &#x27;MO_254&#x27;, &#x27;MO_255&#x27;, &#x27;MO_256&#x27;, &#x27;MO_257&#x27;, &#x27;MO_258&#x27;, &#x27;MO_259&#x27;, &#x27;MO_260&#x27;, &#x27;MO_261&#x27;, &#x27;MO_262&#x27;, &#x27;MO_263&#x27;, &#x27;MO_264&#x27;, &#x27;MO_265&#x27;, &#x27;MO_266&#x27;, &#x27;MO_267&#x27;, &#x27;MO_268&#x27;, &#x27;MO_269&#x27;, &#x27;MO_270&#x27;, &#x27;MO_271&#x27;, &#x27;MO_272&#x27;, &#x27;MO_273&#x27;, &#x27;MO_274&#x27;, &#x27;MO_275&#x27;, &#x27;MO_276&#x27;, &#x27;MO_277&#x27;, &#x27;MO_278&#x27;, &#x27;MO_279&#x27;, &#x27;MO_280&#x27;, &#x27;MO_281&#x27;, &#x27;MO_282&#x27;, &#x27;MO_283&#x27;, &#x27;MO_284&#x27;, &#x27;MO_285&#x27;, &#x27;MO_286&#x27;, &#x27;MO_287&#x27;, &#x27;MO_288&#x27;, &#x27;MO_289&#x27;, &#x27;MO_290&#x27;, &#x27;MO_291&#x27;, &#x27;MO_292&#x27;, &#x27;MO_293&#x27;, &#x27;MO_294&#x27;, &#x27;MO_295&#x27;, &#x27;MO_296&#x27;, &#x27;MO_297&#x27;, &#x27;MO_298&#x27;, &#x27;MO_299&#x27;, &#x27;MO_300&#x27;, &#x27;MO_301&#x27;, &#x27;MO_302&#x27;, &#x27;MO_303&#x27;, &#x27;MO_304&#x27;, &#x27;MO_305&#x27;, &#x27;MO_306&#x27;, &#x27;MO_307&#x27;, &#x27;MO_308&#x27;, &#x27;MO_309&#x27;, &#x27;MO_310&#x27;, &#x27;MO_311&#x27;, &#x27;MO_312&#x27;, &#x27;MO_313&#x27;, &#x27;MO_314&#x27;, &#x27;MO_315&#x27;, &#x27;MO_316&#x27;, &#x27;MO_317&#x27;, &#x27;MO_318&#x27;, &#x27;MO_319&#x27;, &#x27;MO_320&#x27;, &#x27;MO_321&#x27;, &#x27;MO_322&#x27;, &#x27;MO_323&#x27;, &#x27;MO_324&#x27;, &#x27;MO_325&#x27;, &#x27;MO_326&#x27;, &#x27;MO_327&#x27;, &#x27;MO_328&#x27;, &#x27;MO_329&#x27;, &#x27;MO_330&#x27;, &#x27;MO_331&#x27;, &#x27;MO_332&#x27;, &#x27;MO_333&#x27;, &#x27;MO_334&#x27;, &#x27;MO_335&#x27;, &#x27;MO_336&#x27;, &#x27;MO_337&#x27;, &#x27;MO_338&#x27;, &#x27;MO_339&#x27;, &#x27;MO_340&#x27;, &#x27;MO_341&#x27;, &#x27;MO_342&#x27;, &#x27;MO_343&#x27;, &#x27;MO_344&#x27;, &#x27;MO_345&#x27;, &#x27;MO_346&#x27;, &#x27;MO_347&#x27;, &#x27;MO_348&#x27;, &#x27;MO_349&#x27;, &#x27;MO_350&#x27;, &#x27;MO_351&#x27;, &#x27;MO_352&#x27;, &#x27;MO_353&#x27;, &#x27;MO_354&#x27;, &#x27;MO_355&#x27;, &#x27;MO_356&#x27;, &#x27;MO_357&#x27;, &#x27;MO_358&#x27;, &#x27;MO_359&#x27;, &#x27;MO_360&#x27;, &#x27;MO_361&#x27;, &#x27;MO_362&#x27;, &#x27;MO_363&#x27;, &#x27;MO_364&#x27;, &#x27;MO_365&#x27;, &#x27;MO_366&#x27;, &#x27;MO_367&#x27;, &#x27;MO_368&#x27;, &#x27;MO_369&#x27;, &#x27;MO_370&#x27;, &#x27;MO_371&#x27;, &#x27;MO_372&#x27;, &#x27;MO_373&#x27;, &#x27;MO_374&#x27;, &#x27;MO_375&#x27;, &#x27;MO_376&#x27;, &#x27;MO_377&#x27;, &#x27;MO_378&#x27;, &#x27;MO_379&#x27;, &#x27;MO_380&#x27;, &#x27;MO_381&#x27;, &#x27;MO_382&#x27;, &#x27;MO_383&#x27;, &#x27;MO_384&#x27;, &#x27;MO_385&#x27;, &#x27;MO_386&#x27;, &#x27;MO_387&#x27;, &#x27;MO_388&#x27;, &#x27;MO_389&#x27;, &#x27;MO_390&#x27;, &#x27;MO_391&#x27;, &#x27;MO_392&#x27;, &#x27;MO_393&#x27;, &#x27;MO_394&#x27;, &#x27;MO_395&#x27;, &#x27;MO_396&#x27;, &#x27;MO_397&#x27;, &#x27;MO_398&#x27;, &#x27;MO_399&#x27;, &#x27;MO_400&#x27;, &#x27;MO_401&#x27;, &#x27;MO_402&#x27;, &#x27;MO_403&#x27;, &#x27;MO_404&#x27;, &#x27;MO_405&#x27;, &#x27;MO_406&#x27;, &#x27;MO_407&#x27;, &#x27;MO_408&#x27;, &#x27;MO_409&#x27;, &#x27;MO_410&#x27;, &#x27;MO_411&#x27;, &#x27;MO_412&#x27;, &#x27;MO_413&#x27;, &#x27;MO_414&#x27;, &#x27;MO_415&#x27;, &#x27;MO_416&#x27;, &#x27;MO_417&#x27;, &#x27;MO_418&#x27;, &#x27;MO_419&#x27;, &#x27;MO_420&#x27;, &#x27;MO_421&#x27;, &#x27;MO_422&#x27;, &#x27;MO_423&#x27;, &#x27;MO_424&#x27;, &#x27;MO_425&#x27;, &#x27;MO_426&#x27;, &#x27;MO_427&#x27;, &#x27;MO_428&#x27;, &#x27;MO_429&#x27;, &#x27;MO_430&#x27;, &#x27;MO_431&#x27;, &#x27;MO_432&#x27;, &#x27;MO_433&#x27;, &#x27;MO_434&#x27;, &#x27;MO_435&#x27;, &#x27;MO_436&#x27;, &#x27;MO_437&#x27;, &#x27;MO_438&#x27;, &#x27;MO_439&#x27;, &#x27;MO_440&#x27;, &#x27;MO_441&#x27;, &#x27;MO_442&#x27;, &#x27;MO_443&#x27;, &#x27;MO_444&#x27;, &#x27;MO_445&#x27;, &#x27;MO_446&#x27;, &#x27;MO_447&#x27;, &#x27;MO_448&#x27;, &#x27;MO_449&#x27;, &#x27;MO_450&#x27;, &#x27;MO_451&#x27;, &#x27;MO_452&#x27;, &#x27;MO_453&#x27;, &#x27;MO_454&#x27;, &#x27;MO_455&#x27;, &#x27;MO_456&#x27;, &#x27;MO_457&#x27;, &#x27;MO_458&#x27;, &#x27;MO_459&#x27;, &#x27;MO_460&#x27;, &#x27;MO_461&#x27;, &#x27;MO_462&#x27;, &#x27;MO_463&#x27;, &#x27;MO_464&#x27;, &#x27;MO_465&#x27;, &#x27;MO_466&#x27;, &#x27;MO_467&#x27;, &#x27;MO_468&#x27;, &#x27;MO_469&#x27;, &#x27;MO_470&#x27;, &#x27;MO_471&#x27;, &#x27;MO_472&#x27;, &#x27;MO_473&#x27;, &#x27;MO_474&#x27;, &#x27;MO_475&#x27;, &#x27;MO_476&#x27;, &#x27;MO_477&#x27;, &#x27;MO_478&#x27;, &#x27;MO_479&#x27;, &#x27;MO_480&#x27;]</pre></div> </div></div><div class=\"sk-serial\"><div class=\"sk-item\"><div class=\"sk-estimator fitted sk-toggleable\"><input class=\"sk-toggleable__control sk-hidden--visually\" id=\"sk-estimator-id-45\" type=\"checkbox\" ><label for=\"sk-estimator-id-45\" class=\"sk-toggleable__label fitted sk-toggleable__label-arrow fitted\">passthrough</label><div class=\"sk-toggleable__content fitted\"><pre>passthrough</pre></div> </div></div></div></div></div></div></div><div class=\"sk-item sk-dashed-wrapped\"><div class=\"sk-label-container\"><div class=\"sk-label fitted sk-toggleable\"><input class=\"sk-toggleable__control sk-hidden--visually\" id=\"sk-estimator-id-46\" type=\"checkbox\" ><label for=\"sk-estimator-id-46\" class=\"sk-toggleable__label fitted sk-toggleable__label-arrow fitted\">&nbsp;classifier: BaggingClassifier<a class=\"sk-estimator-doc-link fitted\" rel=\"noreferrer\" target=\"_blank\" href=\"https://scikit-learn.org/1.5/modules/generated/sklearn.ensemble.BaggingClassifier.html\">?<span>Documentation for classifier: BaggingClassifier</span></a></label><div class=\"sk-toggleable__content fitted\"><pre>BaggingClassifier(bootstrap=False, bootstrap_features=True,\n",
              "                  estimator=DecisionTreeClassifier(), n_estimators=50)</pre></div> </div></div><div class=\"sk-parallel\"><div class=\"sk-parallel-item\"><div class=\"sk-item\"><div class=\"sk-label-container\"><div class=\"sk-label fitted sk-toggleable\"><input class=\"sk-toggleable__control sk-hidden--visually\" id=\"sk-estimator-id-47\" type=\"checkbox\" ><label for=\"sk-estimator-id-47\" class=\"sk-toggleable__label fitted sk-toggleable__label-arrow fitted\">estimator: DecisionTreeClassifier</label><div class=\"sk-toggleable__content fitted\"><pre>DecisionTreeClassifier()</pre></div> </div></div><div class=\"sk-serial\"><div class=\"sk-item\"><div class=\"sk-estimator fitted sk-toggleable\"><input class=\"sk-toggleable__control sk-hidden--visually\" id=\"sk-estimator-id-48\" type=\"checkbox\" ><label for=\"sk-estimator-id-48\" class=\"sk-toggleable__label fitted sk-toggleable__label-arrow fitted\">&nbsp;DecisionTreeClassifier<a class=\"sk-estimator-doc-link fitted\" rel=\"noreferrer\" target=\"_blank\" href=\"https://scikit-learn.org/1.5/modules/generated/sklearn.tree.DecisionTreeClassifier.html\">?<span>Documentation for DecisionTreeClassifier</span></a></label><div class=\"sk-toggleable__content fitted\"><pre>DecisionTreeClassifier()</pre></div> </div></div></div></div></div></div></div></div></div></div></div>"
            ]
          },
          "metadata": {},
          "execution_count": 34
        }
      ]
    },
    {
      "cell_type": "code",
      "source": [
        "from google.colab import files\n",
        "uploaded = files.upload()\n",
        "\n",
        "for fn in uploaded.keys():\n",
        "  print('User uploaded file \"{name}\" with length {length} bytes'.format(\n",
        "      name=fn, length=len(uploaded[fn])))\n",
        "import io\n",
        "Xt = pd.read_csv(io.BytesIO(uploaded[fn]))"
      ],
      "metadata": {
        "colab": {
          "base_uri": "https://localhost:8080/",
          "height": 180
        },
        "id": "tiexn6_hHkVf",
        "outputId": "8103ed4b-8b0b-47a4-84be-1891d2bdf396"
      },
      "id": "tiexn6_hHkVf",
      "execution_count": 35,
      "outputs": [
        {
          "output_type": "error",
          "ename": "ModuleNotFoundError",
          "evalue": "No module named 'google'",
          "traceback": [
            "\u001b[0;31m---------------------------------------------------------------------------\u001b[0m",
            "\u001b[0;31mModuleNotFoundError\u001b[0m                       Traceback (most recent call last)",
            "Cell \u001b[0;32mIn[35], line 1\u001b[0m\n\u001b[0;32m----> 1\u001b[0m \u001b[38;5;28;01mfrom\u001b[39;00m \u001b[38;5;21;01mgoogle\u001b[39;00m\u001b[38;5;21;01m.\u001b[39;00m\u001b[38;5;21;01mcolab\u001b[39;00m \u001b[38;5;28;01mimport\u001b[39;00m files\n\u001b[1;32m      2\u001b[0m uploaded \u001b[38;5;241m=\u001b[39m files\u001b[38;5;241m.\u001b[39mupload()\n\u001b[1;32m      4\u001b[0m \u001b[38;5;28;01mfor\u001b[39;00m fn \u001b[38;5;129;01min\u001b[39;00m uploaded\u001b[38;5;241m.\u001b[39mkeys():\n",
            "\u001b[0;31mModuleNotFoundError\u001b[0m: No module named 'google'"
          ]
        }
      ]
    },
    {
      "cell_type": "code",
      "source": [
        "# for local runtime\n",
        "Xt = pd.read_csv('data/test.csv')"
      ],
      "metadata": {
        "id": "wm2Jdf5QpNrj"
      },
      "id": "wm2Jdf5QpNrj",
      "execution_count": 36,
      "outputs": []
    },
    {
      "cell_type": "code",
      "source": [
        "prediction = model.predict(Xt)"
      ],
      "metadata": {
        "id": "JX1akORP4YTa"
      },
      "id": "JX1akORP4YTa",
      "execution_count": 37,
      "outputs": []
    },
    {
      "cell_type": "code",
      "source": [
        "# sub = pd.DataFrame(prediction, index=Xt.index, columns=['Crime_Category'])\n",
        "sub = pd.DataFrame()\n",
        "sub['Crime_Category'] = prediction\n",
        "sub.index += 1\n",
        "sub.index.name = 'ID'\n",
        "# sub['Crime_Category'] = prediction"
      ],
      "metadata": {
        "id": "CHBMs-99IjlK"
      },
      "id": "CHBMs-99IjlK",
      "execution_count": 38,
      "outputs": []
    },
    {
      "cell_type": "code",
      "source": [
        "sub.to_csv('submission.csv')\n",
        "files.download('submission.csv')"
      ],
      "metadata": {
        "colab": {
          "base_uri": "https://localhost:8080/",
          "height": 162
        },
        "id": "S9kPEj2OItAt",
        "outputId": "a26083a4-5720-4c18-e823-4f0210ff51f2"
      },
      "id": "S9kPEj2OItAt",
      "execution_count": 42,
      "outputs": [
        {
          "output_type": "error",
          "ename": "NameError",
          "evalue": "name 'files' is not defined",
          "traceback": [
            "\u001b[0;31m---------------------------------------------------------------------------\u001b[0m",
            "\u001b[0;31mNameError\u001b[0m                                 Traceback (most recent call last)",
            "Cell \u001b[0;32mIn[42], line 2\u001b[0m\n\u001b[1;32m      1\u001b[0m sub\u001b[38;5;241m.\u001b[39mto_csv(\u001b[38;5;124m'\u001b[39m\u001b[38;5;124msubmission.csv\u001b[39m\u001b[38;5;124m'\u001b[39m)\n\u001b[0;32m----> 2\u001b[0m files\u001b[38;5;241m.\u001b[39mdownload(\u001b[38;5;124m'\u001b[39m\u001b[38;5;124msubmission.csv\u001b[39m\u001b[38;5;124m'\u001b[39m)\n",
            "\u001b[0;31mNameError\u001b[0m: name 'files' is not defined"
          ]
        }
      ]
    },
    {
      "cell_type": "code",
      "source": [
        "# for local runtime\n",
        "sub.to_csv('./submission.csv')"
      ],
      "metadata": {
        "id": "Rzv2GLvqLtFS"
      },
      "id": "Rzv2GLvqLtFS",
      "execution_count": 43,
      "outputs": []
    },
    {
      "cell_type": "code",
      "source": [],
      "metadata": {
        "id": "V3csjypzp9Ay"
      },
      "id": "V3csjypzp9Ay",
      "execution_count": null,
      "outputs": []
    }
  ],
  "metadata": {
    "kernelspec": {
      "display_name": "Python 3 (ipykernel)",
      "language": "python",
      "name": "python3"
    },
    "language_info": {
      "codemirror_mode": {
        "name": "ipython",
        "version": 3
      },
      "file_extension": ".py",
      "mimetype": "text/x-python",
      "name": "python",
      "nbconvert_exporter": "python",
      "pygments_lexer": "ipython3",
      "version": "3.12.7"
    },
    "colab": {
      "provenance": []
    }
  },
  "nbformat": 4,
  "nbformat_minor": 5
}